{
 "cells": [
  {
   "cell_type": "code",
   "execution_count": 1,
   "metadata": {
    "collapsed": false
   },
   "outputs": [
    {
     "name": "stderr",
     "output_type": "stream",
     "text": [
      "Using gpu device 0: GeForce GTX 960M (CNMeM is disabled, cuDNN 5103)\n",
      "/usr/local/lib/python2.7/dist-packages/theano/sandbox/cuda/__init__.py:600: UserWarning: Your cuDNN version is more recent than the one Theano officially supports. If you see any problems, try updating Theano or downgrading cuDNN to version 5.\n",
      "  warnings.warn(warn)\n",
      "/usr/local/lib/python2.7/dist-packages/theano/tensor/signal/downsample.py:6: UserWarning: downsample module has been moved to the theano.tensor.signal.pool module.\n",
      "  \"downsample module has been moved to the theano.tensor.signal.pool module.\")\n"
     ]
    },
    {
     "name": "stdout",
     "output_type": "stream",
     "text": [
      "... loading data\n",
      "... building the model\n",
      "Optimization complete.\n",
      "Best validation score of 87.940000 % obtained at iteration 3000, with test performance 87.240000 %\n",
      "Highway layers = 99 ,batch_size = 250 ,learning rate = 0.005 ,rho = 0.9\n"
     ]
    },
    {
     "name": "stderr",
     "output_type": "stream",
     "text": [
      "The training process for function test_Highway ran for 217.58m\n"
     ]
    },
    {
     "name": "stdout",
     "output_type": "stream",
     "text": [
      "... building the model\n",
      "Optimization complete.\n",
      "Best validation score of 85.920000 % obtained at iteration 2000, with test performance 86.270000 %\n",
      "Highway layers = 99 ,batch_size = 500 ,learning rate = 0.005 ,rho = 0.9\n"
     ]
    },
    {
     "name": "stderr",
     "output_type": "stream",
     "text": [
      "The training process for function test_Highway ran for 127.79m\n"
     ]
    },
    {
     "name": "stdout",
     "output_type": "stream",
     "text": [
      "... building the model\n"
     ]
    },
    {
     "ename": "KeyboardInterrupt",
     "evalue": "",
     "output_type": "error",
     "traceback": [
      "\u001b[0;31m---------------------------------------------------------------------------\u001b[0m",
      "\u001b[0;31mKeyboardInterrupt\u001b[0m                         Traceback (most recent call last)",
      "\u001b[0;32m<ipython-input-1-1943d2d31880>\u001b[0m in \u001b[0;36m<module>\u001b[0;34m()\u001b[0m\n\u001b[1;32m     22\u001b[0m                     test_Highway(datasets=data,learning_rate=lr,rho = rho, n_epochs=400, n_hidden=50, n_hiddenLayers=1,\n\u001b[1;32m     23\u001b[0m                                  \u001b[0mn_highwayLayers\u001b[0m \u001b[0;34m=\u001b[0m \u001b[0mlayers_H\u001b[0m\u001b[0;34m,\u001b[0m \u001b[0mactivation_highway\u001b[0m \u001b[0;34m=\u001b[0m \u001b[0mact\u001b[0m\u001b[0;34m,\u001b[0m \u001b[0mb_T\u001b[0m \u001b[0;34m=\u001b[0m \u001b[0mbias\u001b[0m\u001b[0;34m,\u001b[0m\u001b[0;34m\u001b[0m\u001b[0m\n\u001b[0;32m---> 24\u001b[0;31m                                  batch_size=batch_size,verbose=False)\n\u001b[0m\u001b[1;32m     25\u001b[0m                     print('Highway layers = '+str(layers_H)+' ,batch_size = '+str(batch_size)+\n\u001b[1;32m     26\u001b[0m                           ' ,learning rate = '+str(lr)+' ,rho = '+str(rho))\n",
      "\u001b[0;32m/home/marek/Desktop/School/Columbia/NNDL-Project/src/HighwayNetworks.pyc\u001b[0m in \u001b[0;36mtest_Highway\u001b[0;34m(datasets, learning_rate, rho, n_epochs, n_hidden, n_hiddenLayers, n_highwayLayers, activation_hidden, activation_highway, b_T, L1_reg, L2_reg, batch_size, verbose)\u001b[0m\n\u001b[1;32m    149\u001b[0m              \u001b[0mactivation_hw\u001b[0m \u001b[0;34m=\u001b[0m \u001b[0mactivation_highway\u001b[0m\u001b[0;34m,\u001b[0m \u001b[0mbatch_size\u001b[0m \u001b[0;34m=\u001b[0m \u001b[0mbatch_size\u001b[0m\u001b[0;34m,\u001b[0m \u001b[0mn_train_batches\u001b[0m \u001b[0;34m=\u001b[0m \u001b[0mn_train_batches\u001b[0m\u001b[0;34m,\u001b[0m\u001b[0;34m\u001b[0m\u001b[0m\n\u001b[1;32m    150\u001b[0m              \u001b[0mn_valid_batches\u001b[0m \u001b[0;34m=\u001b[0m \u001b[0mn_valid_batches\u001b[0m\u001b[0;34m,\u001b[0m \u001b[0mn_test_batches\u001b[0m\u001b[0;34m=\u001b[0m\u001b[0mn_test_batches\u001b[0m\u001b[0;34m,\u001b[0m \u001b[0mn_epochs\u001b[0m \u001b[0;34m=\u001b[0m \u001b[0mn_epochs\u001b[0m\u001b[0;34m,\u001b[0m \u001b[0mL1_reg\u001b[0m \u001b[0;34m=\u001b[0m \u001b[0mL1_reg\u001b[0m\u001b[0;34m,\u001b[0m\u001b[0;34m\u001b[0m\u001b[0m\n\u001b[0;32m--> 151\u001b[0;31m              L2_reg = L2_reg, verbose =verbose)\n\u001b[0m",
      "\u001b[0;32m/home/marek/Desktop/School/Columbia/NNDL-Project/src/project_nn.pyc\u001b[0m in \u001b[0;36mtrain_nn\u001b[0;34m(train_model, validate_model, test_model, n_hidden, n_hiddenLayers, n_highwayLayers, lr, rho, activation_hd, activation_hw, batch_size, n_train_batches, n_valid_batches, n_test_batches, n_epochs, L1_reg, L2_reg, verbose)\u001b[0m\n\u001b[1;32m    561\u001b[0m             \u001b[0;31m#if (iter % 100 == 0) and verbose:\u001b[0m\u001b[0;34m\u001b[0m\u001b[0;34m\u001b[0m\u001b[0m\n\u001b[1;32m    562\u001b[0m             \u001b[0;31m#    print('training @ iter = ', iter)\u001b[0m\u001b[0;34m\u001b[0m\u001b[0;34m\u001b[0m\u001b[0m\n\u001b[0;32m--> 563\u001b[0;31m             \u001b[0mcost_ij\u001b[0m \u001b[0;34m=\u001b[0m \u001b[0mtrain_model\u001b[0m\u001b[0;34m(\u001b[0m\u001b[0mminibatch_index\u001b[0m\u001b[0;34m)\u001b[0m\u001b[0;34m\u001b[0m\u001b[0m\n\u001b[0m\u001b[1;32m    564\u001b[0m \u001b[0;34m\u001b[0m\u001b[0m\n\u001b[1;32m    565\u001b[0m             \u001b[0mepoch_cross_entropy\u001b[0m \u001b[0;34m=\u001b[0m \u001b[0mepoch_cross_entropy\u001b[0m \u001b[0;34m+\u001b[0m \u001b[0mcost_ij\u001b[0m\u001b[0;34m\u001b[0m\u001b[0m\n",
      "\u001b[0;32m/usr/local/lib/python2.7/dist-packages/theano/compile/function_module.pyc\u001b[0m in \u001b[0;36m__call__\u001b[0;34m(self, *args, **kwargs)\u001b[0m\n\u001b[1;32m    857\u001b[0m         \u001b[0mt0_fn\u001b[0m \u001b[0;34m=\u001b[0m \u001b[0mtime\u001b[0m\u001b[0;34m.\u001b[0m\u001b[0mtime\u001b[0m\u001b[0;34m(\u001b[0m\u001b[0;34m)\u001b[0m\u001b[0;34m\u001b[0m\u001b[0m\n\u001b[1;32m    858\u001b[0m         \u001b[0;32mtry\u001b[0m\u001b[0;34m:\u001b[0m\u001b[0;34m\u001b[0m\u001b[0m\n\u001b[0;32m--> 859\u001b[0;31m             \u001b[0moutputs\u001b[0m \u001b[0;34m=\u001b[0m \u001b[0mself\u001b[0m\u001b[0;34m.\u001b[0m\u001b[0mfn\u001b[0m\u001b[0;34m(\u001b[0m\u001b[0;34m)\u001b[0m\u001b[0;34m\u001b[0m\u001b[0m\n\u001b[0m\u001b[1;32m    860\u001b[0m         \u001b[0;32mexcept\u001b[0m \u001b[0mException\u001b[0m\u001b[0;34m:\u001b[0m\u001b[0;34m\u001b[0m\u001b[0m\n\u001b[1;32m    861\u001b[0m             \u001b[0;32mif\u001b[0m \u001b[0mhasattr\u001b[0m\u001b[0;34m(\u001b[0m\u001b[0mself\u001b[0m\u001b[0;34m.\u001b[0m\u001b[0mfn\u001b[0m\u001b[0;34m,\u001b[0m \u001b[0;34m'position_of_error'\u001b[0m\u001b[0;34m)\u001b[0m\u001b[0;34m:\u001b[0m\u001b[0;34m\u001b[0m\u001b[0m\n",
      "\u001b[0;31mKeyboardInterrupt\u001b[0m: "
     ]
    }
   ],
   "source": [
    "from HighwayNetworks import test_Highway\n",
    "from project_nn import load_data\n",
    "import theano.tensor as T\n",
    "import sys\n",
    "\n",
    "learning_rates = [0.005]\n",
    "rhos = [0.9]\n",
    "activations = [T.nnet.nnet.relu,T.tanh]\n",
    "# biases = [-2,-5,-8]\n",
    "batch_sizes = [250,500]\n",
    "hw_layers = [99]\n",
    "bias = -2;\n",
    "\n",
    "data = load_data('mnist.pkl.gz')\n",
    "sys.setrecursionlimit(10000)\n",
    "\n",
    "for layers_H in hw_layers:\n",
    "    for act in activations:\n",
    "        for batch_size in batch_sizes:\n",
    "            for lr in learning_rates:\n",
    "                for rho in rhos: \n",
    "                    test_Highway(datasets=data,learning_rate=lr,rho = rho, n_epochs=400, n_hidden=50, n_hiddenLayers=1,\n",
    "                                 n_highwayLayers = layers_H, activation_highway = act, b_T = bias,\n",
    "                                 batch_size=batch_size,verbose=False)\n",
    "                    print('Highway layers = '+str(layers_H)+' ,batch_size = '+str(batch_size)+\n",
    "                          ' ,learning rate = '+str(lr)+' ,rho = '+str(rho))\n",
    "print('Done!')"
   ]
  },
  {
   "cell_type": "code",
   "execution_count": 1,
   "metadata": {
    "collapsed": false
   },
   "outputs": [
    {
     "name": "stderr",
     "output_type": "stream",
     "text": [
      "Using gpu device 0: GeForce GTX 960M (CNMeM is disabled, cuDNN 5103)\n",
      "/usr/local/lib/python2.7/dist-packages/theano/sandbox/cuda/__init__.py:600: UserWarning: Your cuDNN version is more recent than the one Theano officially supports. If you see any problems, try updating Theano or downgrading cuDNN to version 5.\n",
      "  warnings.warn(warn)\n",
      "/usr/local/lib/python2.7/dist-packages/theano/tensor/signal/downsample.py:6: UserWarning: downsample module has been moved to the theano.tensor.signal.pool module.\n",
      "  \"downsample module has been moved to the theano.tensor.signal.pool module.\")\n"
     ]
    },
    {
     "name": "stdout",
     "output_type": "stream",
     "text": [
      "... loading data\n",
      "... building the model\n",
      "Optimization complete.\n",
      "Best validation score of 89.360000 % obtained at iteration 100, with test performance 88.650000 %\n",
      "Highway layers = 99 ,batch_size = 500 ,learning rate = 0.005 ,rho = 0.9\n",
      "Done!\n"
     ]
    },
    {
     "name": "stderr",
     "output_type": "stream",
     "text": [
      "The training process for function test_Highway ran for 152.70m\n"
     ]
    }
   ],
   "source": [
    "from HighwayNetworks import test_Highway\n",
    "from project_nn import load_data\n",
    "import theano.tensor as T\n",
    "import sys\n",
    "\n",
    "learning_rates = [0.005]\n",
    "rhos = [0.9]\n",
    "activations = [T.tanh]\n",
    "# biases = [-2,-5,-8]\n",
    "batch_sizes = [500]\n",
    "hw_layers = [99]\n",
    "bias = -2;\n",
    "\n",
    "data = load_data('mnist.pkl.gz')\n",
    "sys.setrecursionlimit(10000)\n",
    "\n",
    "for layers_H in hw_layers:\n",
    "    for act in activations:\n",
    "        for batch_size in batch_sizes:\n",
    "            for lr in learning_rates:\n",
    "                for rho in rhos: \n",
    "                    test_Highway(datasets=data,learning_rate=lr,rho = rho, n_epochs=400, n_hidden=50, n_hiddenLayers=1,\n",
    "                                 n_highwayLayers = layers_H, activation_highway = act, b_T = bias,\n",
    "                                 batch_size=batch_size,verbose=False)\n",
    "                    print('Highway layers = '+str(layers_H)+' ,batch_size = '+str(batch_size)+\n",
    "                          ' ,learning rate = '+str(lr)+' ,rho = '+str(rho))\n",
    "print('Done!')"
   ]
  },
  {
   "cell_type": "code",
   "execution_count": null,
   "metadata": {
    "collapsed": true
   },
   "outputs": [],
   "source": []
  }
 ],
 "metadata": {
  "kernelspec": {
   "display_name": "Python 2",
   "language": "python",
   "name": "python2"
  },
  "language_info": {
   "codemirror_mode": {
    "name": "ipython",
    "version": 2
   },
   "file_extension": ".py",
   "mimetype": "text/x-python",
   "name": "python",
   "nbconvert_exporter": "python",
   "pygments_lexer": "ipython2",
   "version": "2.7.12"
  }
 },
 "nbformat": 4,
 "nbformat_minor": 1
}
