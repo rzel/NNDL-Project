{
 "cells": [
  {
   "cell_type": "markdown",
   "metadata": {},
   "source": [
    "You are not supposed to do that intensive hyper parameter search, and without a powerful server (and enough time) you should not try that either. Reproducing the figure does not mean you have to exactly reproduce the results, since you have limited amount of computational resources available.\n",
    " \n",
    "For this particular case, you can take few trials to find parameter settings for each depth, then experiment with plain/highway networks. I would recommend you to do something like:\n",
    " \n",
    "(1) Use 10% dataset for debugging and doing parameter searching in a coarser level., e.g. find a proper range for batch size/learning rate.\n",
    " \n",
    "(2) Use less epochs when doing hyper parameter search; in this case, you can find that the performances for plain/highway networks show significant difference within 50 epochs.\n",
    " \n",
    "(3) If you have your laptop ready for Theano (CPU is also ok), run simpler experiments on your laptop, e.g., smaller model/dataset, easier tasks, etc. You can start running your script before going to sleep, and check the result when you wake up.\n",
    " \n",
    "From my personal experience, these tricks can be applied to most of the tasks."
   ]
  },
  {
   "cell_type": "code",
   "execution_count": null,
   "metadata": {
    "collapsed": false,
    "scrolled": false
   },
   "outputs": [
    {
     "name": "stderr",
     "output_type": "stream",
     "text": [
      "Using gpu device 0: GeForce GTX 960M (CNMeM is disabled, cuDNN 5103)\n",
      "/usr/local/lib/python2.7/dist-packages/theano/sandbox/cuda/__init__.py:600: UserWarning: Your cuDNN version is more recent than the one Theano officially supports. If you see any problems, try updating Theano or downgrading cuDNN to version 5.\n",
      "  warnings.warn(warn)\n",
      "/usr/local/lib/python2.7/dist-packages/theano/tensor/signal/downsample.py:6: UserWarning: downsample module has been moved to the theano.tensor.signal.pool module.\n",
      "  \"downsample module has been moved to the theano.tensor.signal.pool module.\")\n"
     ]
    },
    {
     "name": "stdout",
     "output_type": "stream",
     "text": [
      "... loading data\n",
      "... building the model\n",
      "Optimization complete.\n",
      "Best validation score of 11.390000 % obtained at iteration 25000, with test performance 11.790000 %\n",
      "Highway layers = 9 ,batch_size = 100 ,learning rate = 0.1 ,rho = 0.5\n",
      "... building the model\n"
     ]
    },
    {
     "name": "stderr",
     "output_type": "stream",
     "text": [
      "The training process for function test_Highway ran for 2.31m\n"
     ]
    },
    {
     "name": "stdout",
     "output_type": "stream",
     "text": [
      "Optimization complete.\n",
      "Best validation score of 19.720000 % obtained at iteration 25000, with test performance 20.750000 %\n",
      "Highway layers = 9 ,batch_size = 100 ,learning rate = 0.1 ,rho = 0.9\n",
      "... building the model\n"
     ]
    },
    {
     "name": "stderr",
     "output_type": "stream",
     "text": [
      "The training process for function test_Highway ran for 2.30m\n"
     ]
    },
    {
     "name": "stdout",
     "output_type": "stream",
     "text": [
      "Optimization complete.\n",
      "Best validation score of 89.100000 % obtained at iteration 9500, with test performance 89.720000 %\n",
      "Highway layers = 9 ,batch_size = 100 ,learning rate = 0.1 ,rho = 0.99\n",
      "... building the model\n"
     ]
    },
    {
     "name": "stderr",
     "output_type": "stream",
     "text": [
      "The training process for function test_Highway ran for 2.26m\n"
     ]
    },
    {
     "name": "stdout",
     "output_type": "stream",
     "text": [
      "Optimization complete.\n",
      "Best validation score of 8.290000 % obtained at iteration 24500, with test performance 9.010000 %\n",
      "Highway layers = 9 ,batch_size = 100 ,learning rate = 0.05 ,rho = 0.5\n",
      "... building the model\n"
     ]
    },
    {
     "name": "stderr",
     "output_type": "stream",
     "text": [
      "The training process for function test_Highway ran for 2.31m\n"
     ]
    },
    {
     "name": "stdout",
     "output_type": "stream",
     "text": [
      "Optimization complete.\n",
      "Best validation score of 11.750000 % obtained at iteration 21500, with test performance 12.070000 %\n",
      "Highway layers = 9 ,batch_size = 100 ,learning rate = 0.05 ,rho = 0.9\n",
      "... building the model\n"
     ]
    },
    {
     "name": "stderr",
     "output_type": "stream",
     "text": [
      "The training process for function test_Highway ran for 2.37m\n"
     ]
    },
    {
     "name": "stdout",
     "output_type": "stream",
     "text": [
      "Optimization complete.\n",
      "Best validation score of 90.090000 % obtained at iteration 500, with test performance 90.210000 %\n",
      "Highway layers = 9 ,batch_size = 100 ,learning rate = 0.05 ,rho = 0.99\n",
      "... building the model\n"
     ]
    },
    {
     "name": "stderr",
     "output_type": "stream",
     "text": [
      "The training process for function test_Highway ran for 0.90m\n"
     ]
    },
    {
     "name": "stdout",
     "output_type": "stream",
     "text": [
      "Optimization complete.\n",
      "Best validation score of 4.280000 % obtained at iteration 16000, with test performance 4.680000 %\n",
      "Highway layers = 9 ,batch_size = 100 ,learning rate = 0.01 ,rho = 0.5\n",
      "... building the model\n"
     ]
    },
    {
     "name": "stderr",
     "output_type": "stream",
     "text": [
      "The training process for function test_Highway ran for 2.29m\n"
     ]
    },
    {
     "name": "stdout",
     "output_type": "stream",
     "text": [
      "Optimization complete.\n",
      "Best validation score of 3.600000 % obtained at iteration 23500, with test performance 4.100000 %\n",
      "Highway layers = 9 ,batch_size = 100 ,learning rate = 0.01 ,rho = 0.9\n",
      "... building the model\n"
     ]
    },
    {
     "name": "stderr",
     "output_type": "stream",
     "text": [
      "The training process for function test_Highway ran for 2.34m\n"
     ]
    },
    {
     "name": "stdout",
     "output_type": "stream",
     "text": [
      "Optimization complete.\n",
      "Best validation score of 4.770000 % obtained at iteration 10500, with test performance 5.320000 %\n",
      "Highway layers = 9 ,batch_size = 100 ,learning rate = 0.01 ,rho = 0.99\n",
      "... building the model\n"
     ]
    },
    {
     "name": "stderr",
     "output_type": "stream",
     "text": [
      "The training process for function test_Highway ran for 2.27m\n"
     ]
    },
    {
     "name": "stdout",
     "output_type": "stream",
     "text": [
      "Optimization complete.\n",
      "Best validation score of 3.210000 % obtained at iteration 20000, with test performance 3.560000 %\n",
      "Highway layers = 9 ,batch_size = 100 ,learning rate = 0.005 ,rho = 0.5\n",
      "... building the model\n"
     ]
    },
    {
     "name": "stderr",
     "output_type": "stream",
     "text": [
      "The training process for function test_Highway ran for 2.29m\n"
     ]
    },
    {
     "name": "stdout",
     "output_type": "stream",
     "text": [
      "Optimization complete.\n",
      "Best validation score of 3.150000 % obtained at iteration 17000, with test performance 3.830000 %\n",
      "Highway layers = 9 ,batch_size = 100 ,learning rate = 0.005 ,rho = 0.9\n",
      "... building the model\n"
     ]
    },
    {
     "name": "stderr",
     "output_type": "stream",
     "text": [
      "The training process for function test_Highway ran for 2.33m\n"
     ]
    },
    {
     "name": "stdout",
     "output_type": "stream",
     "text": [
      "Optimization complete.\n",
      "Best validation score of 3.260000 % obtained at iteration 11000, with test performance 3.770000 %\n",
      "Highway layers = 9 ,batch_size = 100 ,learning rate = 0.005 ,rho = 0.99\n",
      "... building the model\n"
     ]
    },
    {
     "name": "stderr",
     "output_type": "stream",
     "text": [
      "The training process for function test_Highway ran for 2.29m\n"
     ]
    },
    {
     "name": "stdout",
     "output_type": "stream",
     "text": [
      "Optimization complete.\n",
      "Best validation score of 16.080000 % obtained at iteration 10000, with test performance 17.590000 %\n",
      "Highway layers = 9 ,batch_size = 250 ,learning rate = 0.1 ,rho = 0.5\n",
      "... building the model\n"
     ]
    },
    {
     "name": "stderr",
     "output_type": "stream",
     "text": [
      "The training process for function test_Highway ran for 1.12m\n"
     ]
    },
    {
     "name": "stdout",
     "output_type": "stream",
     "text": [
      "Optimization complete.\n",
      "Best validation score of 20.030000 % obtained at iteration 6400, with test performance 20.540000 %\n",
      "Highway layers = 9 ,batch_size = 250 ,learning rate = 0.1 ,rho = 0.9\n",
      "... building the model\n"
     ]
    },
    {
     "name": "stderr",
     "output_type": "stream",
     "text": [
      "The training process for function test_Highway ran for 1.08m\n"
     ]
    },
    {
     "name": "stdout",
     "output_type": "stream",
     "text": [
      "Optimization complete.\n",
      "Best validation score of 46.730000 % obtained at iteration 8000, with test performance 48.920000 %\n",
      "Highway layers = 9 ,batch_size = 250 ,learning rate = 0.1 ,rho = 0.99\n",
      "... building the model\n"
     ]
    },
    {
     "name": "stderr",
     "output_type": "stream",
     "text": [
      "The training process for function test_Highway ran for 1.09m\n"
     ]
    },
    {
     "name": "stdout",
     "output_type": "stream",
     "text": [
      "Optimization complete.\n",
      "Best validation score of 7.140000 % obtained at iteration 9000, with test performance 7.610000 %\n",
      "Highway layers = 9 ,batch_size = 250 ,learning rate = 0.05 ,rho = 0.5\n",
      "... building the model\n"
     ]
    },
    {
     "name": "stderr",
     "output_type": "stream",
     "text": [
      "The training process for function test_Highway ran for 1.11m\n"
     ]
    },
    {
     "name": "stdout",
     "output_type": "stream",
     "text": [
      "Optimization complete.\n",
      "Best validation score of 8.020000 % obtained at iteration 10000, with test performance 8.940000 %\n",
      "Highway layers = 9 ,batch_size = 250 ,learning rate = 0.05 ,rho = 0.9\n",
      "... building the model\n"
     ]
    },
    {
     "name": "stderr",
     "output_type": "stream",
     "text": [
      "The training process for function test_Highway ran for 1.20m\n"
     ]
    },
    {
     "name": "stdout",
     "output_type": "stream",
     "text": [
      "Optimization complete.\n",
      "Best validation score of 14.870000 % obtained at iteration 7000, with test performance 15.300000 %\n",
      "Highway layers = 9 ,batch_size = 250 ,learning rate = 0.05 ,rho = 0.99\n",
      "... building the model\n"
     ]
    },
    {
     "name": "stderr",
     "output_type": "stream",
     "text": [
      "The training process for function test_Highway ran for 1.10m\n"
     ]
    },
    {
     "name": "stdout",
     "output_type": "stream",
     "text": [
      "Optimization complete.\n",
      "Best validation score of 3.380000 % obtained at iteration 7600, with test performance 3.630000 %\n",
      "Highway layers = 9 ,batch_size = 250 ,learning rate = 0.01 ,rho = 0.5\n",
      "... building the model\n"
     ]
    },
    {
     "name": "stderr",
     "output_type": "stream",
     "text": [
      "The training process for function test_Highway ran for 1.13m\n"
     ]
    },
    {
     "name": "stdout",
     "output_type": "stream",
     "text": [
      "Optimization complete.\n",
      "Best validation score of 3.460000 % obtained at iteration 9000, with test performance 4.140000 %\n",
      "Highway layers = 9 ,batch_size = 250 ,learning rate = 0.01 ,rho = 0.9\n",
      "... building the model\n"
     ]
    },
    {
     "name": "stderr",
     "output_type": "stream",
     "text": [
      "The training process for function test_Highway ran for 1.19m\n"
     ]
    },
    {
     "name": "stdout",
     "output_type": "stream",
     "text": [
      "Optimization complete.\n",
      "Best validation score of 4.440000 % obtained at iteration 9200, with test performance 4.580000 %\n",
      "Highway layers = 9 ,batch_size = 250 ,learning rate = 0.01 ,rho = 0.99\n",
      "... building the model\n"
     ]
    },
    {
     "name": "stderr",
     "output_type": "stream",
     "text": [
      "The training process for function test_Highway ran for 1.17m\n"
     ]
    },
    {
     "name": "stdout",
     "output_type": "stream",
     "text": [
      "Optimization complete.\n",
      "Best validation score of 3.190000 % obtained at iteration 6600, with test performance 3.330000 %\n",
      "Highway layers = 9 ,batch_size = 250 ,learning rate = 0.005 ,rho = 0.5\n",
      "... building the model\n"
     ]
    },
    {
     "name": "stderr",
     "output_type": "stream",
     "text": [
      "The training process for function test_Highway ran for 1.18m\n"
     ]
    },
    {
     "name": "stdout",
     "output_type": "stream",
     "text": [
      "Optimization complete.\n",
      "Best validation score of 3.010000 % obtained at iteration 7000, with test performance 3.460000 %\n",
      "Highway layers = 9 ,batch_size = 250 ,learning rate = 0.005 ,rho = 0.9\n",
      "... building the model\n"
     ]
    },
    {
     "name": "stderr",
     "output_type": "stream",
     "text": [
      "The training process for function test_Highway ran for 1.20m\n"
     ]
    },
    {
     "name": "stdout",
     "output_type": "stream",
     "text": [
      "Optimization complete.\n",
      "Best validation score of 3.320000 % obtained at iteration 8400, with test performance 3.920000 %\n",
      "Highway layers = 9 ,batch_size = 250 ,learning rate = 0.005 ,rho = 0.99\n",
      "... building the model\n"
     ]
    },
    {
     "name": "stderr",
     "output_type": "stream",
     "text": [
      "The training process for function test_Highway ran for 1.07m\n"
     ]
    },
    {
     "name": "stdout",
     "output_type": "stream",
     "text": [
      "Optimization complete.\n",
      "Best validation score of 15.460000 % obtained at iteration 4300, with test performance 14.940000 %\n",
      "Highway layers = 9 ,batch_size = 500 ,learning rate = 0.1 ,rho = 0.5\n",
      "... building the model\n"
     ]
    },
    {
     "name": "stderr",
     "output_type": "stream",
     "text": [
      "The training process for function test_Highway ran for 0.65m\n"
     ]
    },
    {
     "name": "stdout",
     "output_type": "stream",
     "text": [
      "Optimization complete.\n",
      "Best validation score of 20.420000 % obtained at iteration 5000, with test performance 20.580000 %\n",
      "Highway layers = 9 ,batch_size = 500 ,learning rate = 0.1 ,rho = 0.9\n",
      "... building the model\n"
     ]
    },
    {
     "name": "stderr",
     "output_type": "stream",
     "text": [
      "The training process for function test_Highway ran for 0.64m\n"
     ]
    },
    {
     "name": "stdout",
     "output_type": "stream",
     "text": [
      "Optimization complete.\n",
      "Best validation score of 89.100000 % obtained at iteration 500, with test performance 89.720000 %\n",
      "Highway layers = 9 ,batch_size = 500 ,learning rate = 0.1 ,rho = 0.99\n",
      "... building the model\n"
     ]
    },
    {
     "name": "stderr",
     "output_type": "stream",
     "text": [
      "The training process for function test_Highway ran for 0.67m\n"
     ]
    },
    {
     "name": "stdout",
     "output_type": "stream",
     "text": [
      "Optimization complete.\n",
      "Best validation score of 6.040000 % obtained at iteration 4100, with test performance 6.600000 %\n",
      "Highway layers = 9 ,batch_size = 500 ,learning rate = 0.05 ,rho = 0.5\n",
      "... building the model\n"
     ]
    },
    {
     "name": "stderr",
     "output_type": "stream",
     "text": [
      "The training process for function test_Highway ran for 0.70m\n"
     ]
    },
    {
     "name": "stdout",
     "output_type": "stream",
     "text": [
      "Optimization complete.\n",
      "Best validation score of 8.430000 % obtained at iteration 4100, with test performance 9.100000 %\n",
      "Highway layers = 9 ,batch_size = 500 ,learning rate = 0.05 ,rho = 0.9\n",
      "... building the model\n"
     ]
    },
    {
     "name": "stderr",
     "output_type": "stream",
     "text": [
      "The training process for function test_Highway ran for 0.70m\n"
     ]
    },
    {
     "name": "stdout",
     "output_type": "stream",
     "text": [
      "Optimization complete.\n",
      "Best validation score of 12.330000 % obtained at iteration 4500, with test performance 12.670000 %\n",
      "Highway layers = 9 ,batch_size = 500 ,learning rate = 0.05 ,rho = 0.99\n",
      "... building the model\n"
     ]
    },
    {
     "name": "stderr",
     "output_type": "stream",
     "text": [
      "The training process for function test_Highway ran for 0.70m\n"
     ]
    },
    {
     "name": "stdout",
     "output_type": "stream",
     "text": [
      "Optimization complete.\n",
      "Best validation score of 3.110000 % obtained at iteration 4700, with test performance 3.600000 %\n",
      "Highway layers = 9 ,batch_size = 500 ,learning rate = 0.01 ,rho = 0.5\n",
      "... building the model\n"
     ]
    },
    {
     "name": "stderr",
     "output_type": "stream",
     "text": [
      "The training process for function test_Highway ran for 0.70m\n"
     ]
    },
    {
     "name": "stdout",
     "output_type": "stream",
     "text": [
      "Optimization complete.\n",
      "Best validation score of 3.260000 % obtained at iteration 3000, with test performance 3.840000 %\n",
      "Highway layers = 9 ,batch_size = 500 ,learning rate = 0.01 ,rho = 0.9\n",
      "... building the model\n"
     ]
    },
    {
     "name": "stderr",
     "output_type": "stream",
     "text": [
      "The training process for function test_Highway ran for 0.67m\n"
     ]
    },
    {
     "name": "stdout",
     "output_type": "stream",
     "text": [
      "Optimization complete.\n",
      "Best validation score of 4.330000 % obtained at iteration 4900, with test performance 4.370000 %\n",
      "Highway layers = 9 ,batch_size = 500 ,learning rate = 0.01 ,rho = 0.99\n",
      "... building the model\n"
     ]
    },
    {
     "name": "stderr",
     "output_type": "stream",
     "text": [
      "The training process for function test_Highway ran for 0.63m\n"
     ]
    },
    {
     "name": "stdout",
     "output_type": "stream",
     "text": [
      "Optimization complete.\n",
      "Best validation score of 3.280000 % obtained at iteration 3500, with test performance 3.570000 %\n",
      "Highway layers = 9 ,batch_size = 500 ,learning rate = 0.005 ,rho = 0.5\n",
      "... building the model\n"
     ]
    },
    {
     "name": "stderr",
     "output_type": "stream",
     "text": [
      "The training process for function test_Highway ran for 0.64m\n"
     ]
    },
    {
     "name": "stdout",
     "output_type": "stream",
     "text": [
      "Optimization complete.\n",
      "Best validation score of 2.600000 % obtained at iteration 4700, with test performance 3.240000 %\n",
      "Highway layers = 9 ,batch_size = 500 ,learning rate = 0.005 ,rho = 0.9\n",
      "... building the model\n"
     ]
    },
    {
     "name": "stderr",
     "output_type": "stream",
     "text": [
      "The training process for function test_Highway ran for 0.65m\n"
     ]
    },
    {
     "name": "stdout",
     "output_type": "stream",
     "text": [
      "Optimization complete.\n",
      "Best validation score of 3.210000 % obtained at iteration 2400, with test performance 3.820000 %\n",
      "Highway layers = 9 ,batch_size = 500 ,learning rate = 0.005 ,rho = 0.99\n",
      "... building the model\n"
     ]
    },
    {
     "name": "stderr",
     "output_type": "stream",
     "text": [
      "The training process for function test_Highway ran for 0.70m\n"
     ]
    },
    {
     "name": "stdout",
     "output_type": "stream",
     "text": [
      "Optimization complete.\n",
      "Best validation score of 11.390000 % obtained at iteration 25000, with test performance 11.790000 %\n",
      "Highway layers = 9 ,batch_size = 100 ,learning rate = 0.1 ,rho = 0.5\n",
      "... building the model\n"
     ]
    },
    {
     "name": "stderr",
     "output_type": "stream",
     "text": [
      "The training process for function test_Highway ran for 2.44m\n"
     ]
    },
    {
     "name": "stdout",
     "output_type": "stream",
     "text": [
      "Optimization complete.\n",
      "Best validation score of 19.720000 % obtained at iteration 25000, with test performance 20.750000 %\n",
      "Highway layers = 9 ,batch_size = 100 ,learning rate = 0.1 ,rho = 0.9\n",
      "... building the model\n"
     ]
    },
    {
     "name": "stderr",
     "output_type": "stream",
     "text": [
      "The training process for function test_Highway ran for 2.38m\n"
     ]
    },
    {
     "name": "stdout",
     "output_type": "stream",
     "text": [
      "Optimization complete.\n",
      "Best validation score of 89.100000 % obtained at iteration 9500, with test performance 89.720000 %\n",
      "Highway layers = 9 ,batch_size = 100 ,learning rate = 0.1 ,rho = 0.99\n",
      "... building the model\n"
     ]
    },
    {
     "name": "stderr",
     "output_type": "stream",
     "text": [
      "The training process for function test_Highway ran for 2.21m\n"
     ]
    },
    {
     "name": "stdout",
     "output_type": "stream",
     "text": [
      "Optimization complete.\n",
      "Best validation score of 8.290000 % obtained at iteration 24500, with test performance 9.010000 %\n",
      "Highway layers = 9 ,batch_size = 100 ,learning rate = 0.05 ,rho = 0.5\n",
      "... building the model\n"
     ]
    },
    {
     "name": "stderr",
     "output_type": "stream",
     "text": [
      "The training process for function test_Highway ran for 2.25m\n"
     ]
    },
    {
     "name": "stdout",
     "output_type": "stream",
     "text": [
      "Optimization complete.\n",
      "Best validation score of 11.750000 % obtained at iteration 21500, with test performance 12.070000 %\n",
      "Highway layers = 9 ,batch_size = 100 ,learning rate = 0.05 ,rho = 0.9\n",
      "... building the model\n"
     ]
    },
    {
     "name": "stderr",
     "output_type": "stream",
     "text": [
      "The training process for function test_Highway ran for 2.26m\n"
     ]
    },
    {
     "name": "stdout",
     "output_type": "stream",
     "text": [
      "Optimization complete.\n",
      "Best validation score of 90.090000 % obtained at iteration 500, with test performance 90.210000 %\n",
      "Highway layers = 9 ,batch_size = 100 ,learning rate = 0.05 ,rho = 0.99\n",
      "... building the model\n"
     ]
    },
    {
     "name": "stderr",
     "output_type": "stream",
     "text": [
      "The training process for function test_Highway ran for 0.89m\n"
     ]
    },
    {
     "name": "stdout",
     "output_type": "stream",
     "text": [
      "Optimization complete.\n",
      "Best validation score of 4.280000 % obtained at iteration 16000, with test performance 4.680000 %\n",
      "Highway layers = 9 ,batch_size = 100 ,learning rate = 0.01 ,rho = 0.5\n",
      "... building the model\n"
     ]
    },
    {
     "name": "stderr",
     "output_type": "stream",
     "text": [
      "The training process for function test_Highway ran for 2.19m\n"
     ]
    },
    {
     "name": "stdout",
     "output_type": "stream",
     "text": [
      "Optimization complete.\n",
      "Best validation score of 3.600000 % obtained at iteration 23500, with test performance 4.100000 %\n",
      "Highway layers = 9 ,batch_size = 100 ,learning rate = 0.01 ,rho = 0.9\n",
      "... building the model\n"
     ]
    },
    {
     "name": "stderr",
     "output_type": "stream",
     "text": [
      "The training process for function test_Highway ran for 2.33m\n"
     ]
    },
    {
     "name": "stdout",
     "output_type": "stream",
     "text": [
      "Optimization complete.\n",
      "Best validation score of 4.770000 % obtained at iteration 10500, with test performance 5.320000 %\n",
      "Highway layers = 9 ,batch_size = 100 ,learning rate = 0.01 ,rho = 0.99\n",
      "... building the model\n"
     ]
    },
    {
     "name": "stderr",
     "output_type": "stream",
     "text": [
      "The training process for function test_Highway ran for 2.32m\n"
     ]
    },
    {
     "name": "stdout",
     "output_type": "stream",
     "text": [
      "Optimization complete.\n",
      "Best validation score of 3.210000 % obtained at iteration 20000, with test performance 3.560000 %\n",
      "Highway layers = 9 ,batch_size = 100 ,learning rate = 0.005 ,rho = 0.5\n",
      "... building the model\n"
     ]
    },
    {
     "name": "stderr",
     "output_type": "stream",
     "text": [
      "The training process for function test_Highway ran for 2.27m\n"
     ]
    },
    {
     "name": "stdout",
     "output_type": "stream",
     "text": [
      "Optimization complete.\n",
      "Best validation score of 3.150000 % obtained at iteration 17000, with test performance 3.830000 %\n",
      "Highway layers = 9 ,batch_size = 100 ,learning rate = 0.005 ,rho = 0.9\n",
      "... building the model\n"
     ]
    },
    {
     "name": "stderr",
     "output_type": "stream",
     "text": [
      "The training process for function test_Highway ran for 2.18m\n"
     ]
    },
    {
     "name": "stdout",
     "output_type": "stream",
     "text": [
      "Optimization complete.\n",
      "Best validation score of 3.260000 % obtained at iteration 11000, with test performance 3.770000 %\n",
      "Highway layers = 9 ,batch_size = 100 ,learning rate = 0.005 ,rho = 0.99\n",
      "... building the model\n"
     ]
    },
    {
     "name": "stderr",
     "output_type": "stream",
     "text": [
      "The training process for function test_Highway ran for 2.22m\n"
     ]
    },
    {
     "name": "stdout",
     "output_type": "stream",
     "text": [
      "Optimization complete.\n",
      "Best validation score of 16.080000 % obtained at iteration 10000, with test performance 17.590000 %\n",
      "Highway layers = 9 ,batch_size = 250 ,learning rate = 0.1 ,rho = 0.5\n",
      "... building the model\n"
     ]
    },
    {
     "name": "stderr",
     "output_type": "stream",
     "text": [
      "The training process for function test_Highway ran for 1.05m\n"
     ]
    },
    {
     "name": "stdout",
     "output_type": "stream",
     "text": [
      "Optimization complete.\n",
      "Best validation score of 20.030000 % obtained at iteration 6400, with test performance 20.540000 %\n",
      "Highway layers = 9 ,batch_size = 250 ,learning rate = 0.1 ,rho = 0.9\n",
      "... building the model\n"
     ]
    },
    {
     "name": "stderr",
     "output_type": "stream",
     "text": [
      "The training process for function test_Highway ran for 1.07m\n"
     ]
    },
    {
     "name": "stdout",
     "output_type": "stream",
     "text": [
      "Optimization complete.\n",
      "Best validation score of 46.730000 % obtained at iteration 8000, with test performance 48.920000 %\n",
      "Highway layers = 9 ,batch_size = 250 ,learning rate = 0.1 ,rho = 0.99\n",
      "... building the model\n"
     ]
    },
    {
     "name": "stderr",
     "output_type": "stream",
     "text": [
      "The training process for function test_Highway ran for 1.07m\n"
     ]
    },
    {
     "name": "stdout",
     "output_type": "stream",
     "text": [
      "Optimization complete.\n",
      "Best validation score of 7.140000 % obtained at iteration 9000, with test performance 7.610000 %\n",
      "Highway layers = 9 ,batch_size = 250 ,learning rate = 0.05 ,rho = 0.5\n",
      "... building the model\n"
     ]
    },
    {
     "name": "stderr",
     "output_type": "stream",
     "text": [
      "The training process for function test_Highway ran for 1.05m\n"
     ]
    },
    {
     "name": "stdout",
     "output_type": "stream",
     "text": [
      "Optimization complete.\n",
      "Best validation score of 8.020000 % obtained at iteration 10000, with test performance 8.940000 %\n",
      "Highway layers = 9 ,batch_size = 250 ,learning rate = 0.05 ,rho = 0.9\n",
      "... building the model\n"
     ]
    },
    {
     "name": "stderr",
     "output_type": "stream",
     "text": [
      "The training process for function test_Highway ran for 1.08m\n"
     ]
    },
    {
     "name": "stdout",
     "output_type": "stream",
     "text": [
      "Optimization complete.\n",
      "Best validation score of 14.870000 % obtained at iteration 7000, with test performance 15.300000 %\n",
      "Highway layers = 9 ,batch_size = 250 ,learning rate = 0.05 ,rho = 0.99\n",
      "... building the model\n"
     ]
    },
    {
     "name": "stderr",
     "output_type": "stream",
     "text": [
      "The training process for function test_Highway ran for 1.06m\n"
     ]
    },
    {
     "name": "stdout",
     "output_type": "stream",
     "text": [
      "Optimization complete.\n",
      "Best validation score of 3.380000 % obtained at iteration 7600, with test performance 3.630000 %\n",
      "Highway layers = 9 ,batch_size = 250 ,learning rate = 0.01 ,rho = 0.5\n",
      "... building the model\n"
     ]
    },
    {
     "name": "stderr",
     "output_type": "stream",
     "text": [
      "The training process for function test_Highway ran for 1.04m\n"
     ]
    },
    {
     "name": "stdout",
     "output_type": "stream",
     "text": [
      "Optimization complete.\n",
      "Best validation score of 3.460000 % obtained at iteration 9000, with test performance 4.140000 %\n",
      "Highway layers = 9 ,batch_size = 250 ,learning rate = 0.01 ,rho = 0.9\n",
      "... building the model\n"
     ]
    },
    {
     "name": "stderr",
     "output_type": "stream",
     "text": [
      "The training process for function test_Highway ran for 1.05m\n"
     ]
    },
    {
     "name": "stdout",
     "output_type": "stream",
     "text": [
      "Optimization complete.\n",
      "Best validation score of 4.440000 % obtained at iteration 9200, with test performance 4.580000 %\n",
      "Highway layers = 9 ,batch_size = 250 ,learning rate = 0.01 ,rho = 0.99\n",
      "... building the model\n"
     ]
    },
    {
     "name": "stderr",
     "output_type": "stream",
     "text": [
      "The training process for function test_Highway ran for 1.04m\n"
     ]
    },
    {
     "name": "stdout",
     "output_type": "stream",
     "text": [
      "Optimization complete.\n",
      "Best validation score of 3.190000 % obtained at iteration 6600, with test performance 3.330000 %\n",
      "Highway layers = 9 ,batch_size = 250 ,learning rate = 0.005 ,rho = 0.5\n",
      "... building the model\n"
     ]
    },
    {
     "name": "stderr",
     "output_type": "stream",
     "text": [
      "The training process for function test_Highway ran for 1.05m\n"
     ]
    },
    {
     "name": "stdout",
     "output_type": "stream",
     "text": [
      "Optimization complete.\n",
      "Best validation score of 3.010000 % obtained at iteration 7000, with test performance 3.460000 %\n",
      "Highway layers = 9 ,batch_size = 250 ,learning rate = 0.005 ,rho = 0.9\n",
      "... building the model\n"
     ]
    },
    {
     "name": "stderr",
     "output_type": "stream",
     "text": [
      "The training process for function test_Highway ran for 1.03m\n"
     ]
    },
    {
     "name": "stdout",
     "output_type": "stream",
     "text": [
      "Optimization complete.\n",
      "Best validation score of 3.320000 % obtained at iteration 8400, with test performance 3.920000 %\n",
      "Highway layers = 9 ,batch_size = 250 ,learning rate = 0.005 ,rho = 0.99\n",
      "... building the model\n"
     ]
    },
    {
     "name": "stderr",
     "output_type": "stream",
     "text": [
      "The training process for function test_Highway ran for 1.04m\n"
     ]
    },
    {
     "name": "stdout",
     "output_type": "stream",
     "text": [
      "Optimization complete.\n",
      "Best validation score of 15.460000 % obtained at iteration 4300, with test performance 14.940000 %\n",
      "Highway layers = 9 ,batch_size = 500 ,learning rate = 0.1 ,rho = 0.5\n",
      "... building the model\n"
     ]
    },
    {
     "name": "stderr",
     "output_type": "stream",
     "text": [
      "The training process for function test_Highway ran for 0.63m\n"
     ]
    },
    {
     "name": "stdout",
     "output_type": "stream",
     "text": [
      "Optimization complete.\n",
      "Best validation score of 20.420000 % obtained at iteration 5000, with test performance 20.580000 %\n",
      "Highway layers = 9 ,batch_size = 500 ,learning rate = 0.1 ,rho = 0.9\n",
      "... building the model\n"
     ]
    },
    {
     "name": "stderr",
     "output_type": "stream",
     "text": [
      "The training process for function test_Highway ran for 0.64m\n"
     ]
    },
    {
     "name": "stdout",
     "output_type": "stream",
     "text": [
      "Optimization complete.\n",
      "Best validation score of 89.100000 % obtained at iteration 500, with test performance 89.720000 %\n",
      "Highway layers = 9 ,batch_size = 500 ,learning rate = 0.1 ,rho = 0.99\n",
      "... building the model\n"
     ]
    },
    {
     "name": "stderr",
     "output_type": "stream",
     "text": [
      "The training process for function test_Highway ran for 0.62m\n"
     ]
    },
    {
     "name": "stdout",
     "output_type": "stream",
     "text": [
      "Optimization complete.\n",
      "Best validation score of 6.040000 % obtained at iteration 4100, with test performance 6.600000 %\n",
      "Highway layers = 9 ,batch_size = 500 ,learning rate = 0.05 ,rho = 0.5\n",
      "... building the model\n"
     ]
    },
    {
     "name": "stderr",
     "output_type": "stream",
     "text": [
      "The training process for function test_Highway ran for 0.62m\n"
     ]
    },
    {
     "name": "stdout",
     "output_type": "stream",
     "text": [
      "Optimization complete.\n",
      "Best validation score of 8.430000 % obtained at iteration 4100, with test performance 9.100000 %\n",
      "Highway layers = 9 ,batch_size = 500 ,learning rate = 0.05 ,rho = 0.9\n",
      "... building the model\n"
     ]
    },
    {
     "name": "stderr",
     "output_type": "stream",
     "text": [
      "The training process for function test_Highway ran for 0.62m\n"
     ]
    },
    {
     "name": "stdout",
     "output_type": "stream",
     "text": [
      "Optimization complete.\n",
      "Best validation score of 12.330000 % obtained at iteration 4500, with test performance 12.670000 %\n",
      "Highway layers = 9 ,batch_size = 500 ,learning rate = 0.05 ,rho = 0.99\n",
      "... building the model\n"
     ]
    },
    {
     "name": "stderr",
     "output_type": "stream",
     "text": [
      "The training process for function test_Highway ran for 0.63m\n"
     ]
    },
    {
     "name": "stdout",
     "output_type": "stream",
     "text": [
      "Optimization complete.\n",
      "Best validation score of 3.110000 % obtained at iteration 4700, with test performance 3.600000 %\n",
      "Highway layers = 9 ,batch_size = 500 ,learning rate = 0.01 ,rho = 0.5\n",
      "... building the model\n"
     ]
    },
    {
     "name": "stderr",
     "output_type": "stream",
     "text": [
      "The training process for function test_Highway ran for 0.63m\n"
     ]
    },
    {
     "name": "stdout",
     "output_type": "stream",
     "text": [
      "Optimization complete.\n",
      "Best validation score of 3.260000 % obtained at iteration 3000, with test performance 3.840000 %\n",
      "Highway layers = 9 ,batch_size = 500 ,learning rate = 0.01 ,rho = 0.9\n",
      "... building the model\n"
     ]
    },
    {
     "name": "stderr",
     "output_type": "stream",
     "text": [
      "The training process for function test_Highway ran for 0.63m\n"
     ]
    },
    {
     "name": "stdout",
     "output_type": "stream",
     "text": [
      "Optimization complete.\n",
      "Best validation score of 4.330000 % obtained at iteration 4900, with test performance 4.370000 %\n",
      "Highway layers = 9 ,batch_size = 500 ,learning rate = 0.01 ,rho = 0.99\n",
      "... building the model\n"
     ]
    },
    {
     "name": "stderr",
     "output_type": "stream",
     "text": [
      "The training process for function test_Highway ran for 0.62m\n"
     ]
    },
    {
     "name": "stdout",
     "output_type": "stream",
     "text": [
      "Optimization complete.\n",
      "Best validation score of 3.280000 % obtained at iteration 3500, with test performance 3.570000 %\n",
      "Highway layers = 9 ,batch_size = 500 ,learning rate = 0.005 ,rho = 0.5\n",
      "... building the model\n"
     ]
    },
    {
     "name": "stderr",
     "output_type": "stream",
     "text": [
      "The training process for function test_Highway ran for 0.63m\n"
     ]
    },
    {
     "name": "stdout",
     "output_type": "stream",
     "text": [
      "Optimization complete.\n",
      "Best validation score of 2.600000 % obtained at iteration 4700, with test performance 3.240000 %\n",
      "Highway layers = 9 ,batch_size = 500 ,learning rate = 0.005 ,rho = 0.9\n",
      "... building the model\n"
     ]
    },
    {
     "name": "stderr",
     "output_type": "stream",
     "text": [
      "The training process for function test_Highway ran for 0.62m\n"
     ]
    },
    {
     "name": "stdout",
     "output_type": "stream",
     "text": [
      "Optimization complete.\n",
      "Best validation score of 3.210000 % obtained at iteration 2400, with test performance 3.820000 %\n",
      "Highway layers = 9 ,batch_size = 500 ,learning rate = 0.005 ,rho = 0.99\n",
      "... building the model\n"
     ]
    },
    {
     "name": "stderr",
     "output_type": "stream",
     "text": [
      "The training process for function test_Highway ran for 0.63m\n"
     ]
    },
    {
     "name": "stdout",
     "output_type": "stream",
     "text": [
      "Optimization complete.\n",
      "Best validation score of 89.100000 % obtained at iteration 6500, with test performance 89.720000 %\n",
      "Highway layers = 19 ,batch_size = 100 ,learning rate = 0.1 ,rho = 0.5\n",
      "... building the model\n"
     ]
    },
    {
     "name": "stderr",
     "output_type": "stream",
     "text": [
      "The training process for function test_Highway ran for 6.10m\n"
     ]
    }
   ],
   "source": [
    "from HighwayNetworks import test_Highway\n",
    "from project_nn import load_data\n",
    "import theano.tensor as T\n",
    "\n",
    "learning_rates = [0.1, 0.05, 0.01, 0.005]\n",
    "rhos = [0.5, 0.9, 0.99]\n",
    "activations = [T.nnet.nnet.relu,T.tanh]\n",
    "# biases = [-2,-5,-8]\n",
    "batch_sizes = [100,250,500]\n",
    "hw_layers = [9,19,49,99]\n",
    "bias = -2;\n",
    "\n",
    "data = load_data('mnist.pkl.gz')\n",
    "\n",
    "for layers_H in hw_layers:\n",
    "    for act in activations:\n",
    "        for batch_size in batch_sizes:\n",
    "            for lr in learning_rates:\n",
    "                for rho in rhos: \n",
    "                    test_Highway(datasets=data,learning_rate=lr,rho = rho, n_epochs=50, n_hidden=50, n_hiddenLayers=1,\n",
    "                                 n_highwayLayers = layers_H, activation_highway = act, b_T = bias,\n",
    "                                 batch_size=batch_size,verbose=False)\n",
    "                    print('Highway layers = '+str(layers_H)+' ,batch_size = '+str(batch_size)+\n",
    "                          ' ,learning rate = '+str(lr)+' ,rho = '+str(rho))"
   ]
  },
  {
   "cell_type": "code",
   "execution_count": null,
   "metadata": {
    "collapsed": false
   },
   "outputs": [
    {
     "name": "stderr",
     "output_type": "stream",
     "text": [
      "Using gpu device 0: GeForce GTX 960M (CNMeM is disabled, cuDNN 5103)\n",
      "/usr/local/lib/python2.7/dist-packages/theano/sandbox/cuda/__init__.py:600: UserWarning: Your cuDNN version is more recent than the one Theano officially supports. If you see any problems, try updating Theano or downgrading cuDNN to version 5.\n",
      "  warnings.warn(warn)\n",
      "/usr/local/lib/python2.7/dist-packages/theano/tensor/signal/downsample.py:6: UserWarning: downsample module has been moved to the theano.tensor.signal.pool module.\n",
      "  \"downsample module has been moved to the theano.tensor.signal.pool module.\")\n"
     ]
    },
    {
     "name": "stdout",
     "output_type": "stream",
     "text": [
      "... loading data\n",
      "... building the model\n"
     ]
    }
   ],
   "source": [
    "from HighwayNetworks import test_Highway\n",
    "from project_nn import load_data\n",
    "import theano.tensor as T\n",
    "\n",
    "learning_rates = [ 0.05, 0.01, 0.005]\n",
    "rhos = [0.5, 0.9, 0.99]\n",
    "activations = [T.nnet.nnet.relu,T.tanh]\n",
    "# biases = [-2,-5,-8]\n",
    "batch_sizes = [100,250,500]\n",
    "hw_layers = [9,19,49,99]\n",
    "bias = -2;\n",
    "\n",
    "data = load_data('mnist.pkl.gz')\n",
    "\n",
    "for layers_H in hw_layers:\n",
    "    for act in activations:\n",
    "        for batch_size in batch_sizes:\n",
    "            for lr in learning_rates:\n",
    "                for rho in rhos: \n",
    "                    test_Highway(datasets=data,learning_rate=lr,rho = rho, n_epochs=50, n_hidden=50, n_hiddenLayers=1,\n",
    "                                 n_highwayLayers = layers_H, activation_highway = act, b_T = bias,\n",
    "                                 batch_size=batch_size,verbose=False)\n",
    "                    print('Highway layers = '+str(layers_H)+' ,batch_size = '+str(batch_size)+\n",
    "                          ' ,learning rate = '+str(lr)+' ,rho = '+str(rho))\n",
    "print('Done!')"
   ]
  },
  {
   "cell_type": "code",
   "execution_count": 1,
   "metadata": {
    "collapsed": false
   },
   "outputs": [
    {
     "name": "stderr",
     "output_type": "stream",
     "text": [
      "Using gpu device 0: GeForce GTX 960M (CNMeM is disabled, cuDNN 5103)\n",
      "/usr/local/lib/python2.7/dist-packages/theano/sandbox/cuda/__init__.py:600: UserWarning: Your cuDNN version is more recent than the one Theano officially supports. If you see any problems, try updating Theano or downgrading cuDNN to version 5.\n",
      "  warnings.warn(warn)\n",
      "/usr/local/lib/python2.7/dist-packages/theano/tensor/signal/downsample.py:6: UserWarning: downsample module has been moved to the theano.tensor.signal.pool module.\n",
      "  \"downsample module has been moved to the theano.tensor.signal.pool module.\")\n"
     ]
    },
    {
     "name": "stdout",
     "output_type": "stream",
     "text": [
      "... loading data\n",
      "... building the model\n",
      "Optimization complete.\n",
      "Best validation score of 3.720000 % obtained at iteration 4200, with test performance 4.030000 %\n",
      "Cross entropy is stored in cross_entropy19.p\n",
      "Highway layers = 19 ,batch_size = 250 ,learning rate = 0.01 ,rho = 0.5\n",
      "... building the model\n"
     ]
    },
    {
     "name": "stderr",
     "output_type": "stream",
     "text": [
      "The training process for function test_Highway ran for 3.01m\n"
     ]
    },
    {
     "name": "stdout",
     "output_type": "stream",
     "text": [
      "Optimization complete.\n",
      "Best validation score of 36.840000 % obtained at iteration 200, with test performance 38.540000 %\n",
      "Cross entropy is stored in cross_entropy20.p\n",
      "Highway layers = 19 ,batch_size = 250 ,learning rate = 0.01 ,rho = 0.9\n",
      "... building the model\n"
     ]
    },
    {
     "name": "stderr",
     "output_type": "stream",
     "text": [
      "The training process for function test_Highway ran for 2.98m\n"
     ]
    },
    {
     "name": "stdout",
     "output_type": "stream",
     "text": [
      "Optimization complete.\n",
      "Best validation score of 89.360000 % obtained at iteration 200, with test performance 88.650000 %\n",
      "Cross entropy is stored in cross_entropy21.p\n",
      "Highway layers = 19 ,batch_size = 250 ,learning rate = 0.01 ,rho = 0.99\n",
      "... building the model\n"
     ]
    },
    {
     "name": "stderr",
     "output_type": "stream",
     "text": [
      "The training process for function test_Highway ran for 2.93m\n"
     ]
    },
    {
     "name": "stdout",
     "output_type": "stream",
     "text": [
      "Optimization complete.\n",
      "Best validation score of 3.210000 % obtained at iteration 2800, with test performance 3.560000 %\n",
      "Cross entropy is stored in cross_entropy22.p\n",
      "Highway layers = 19 ,batch_size = 250 ,learning rate = 0.005 ,rho = 0.5\n",
      "... building the model\n"
     ]
    },
    {
     "name": "stderr",
     "output_type": "stream",
     "text": [
      "The training process for function test_Highway ran for 2.93m\n"
     ]
    },
    {
     "name": "stdout",
     "output_type": "stream",
     "text": [
      "Optimization complete.\n",
      "Best validation score of 2.910000 % obtained at iteration 8600, with test performance 3.050000 %\n",
      "Cross entropy is stored in cross_entropy23.p\n",
      "Highway layers = 19 ,batch_size = 250 ,learning rate = 0.005 ,rho = 0.9\n",
      "... building the model\n"
     ]
    },
    {
     "name": "stderr",
     "output_type": "stream",
     "text": [
      "The training process for function test_Highway ran for 2.95m\n"
     ]
    },
    {
     "name": "stdout",
     "output_type": "stream",
     "text": [
      "Optimization complete.\n",
      "Best validation score of 14.420000 % obtained at iteration 400, with test performance 14.620000 %\n",
      "Cross entropy is stored in cross_entropy24.p\n",
      "Highway layers = 19 ,batch_size = 250 ,learning rate = 0.005 ,rho = 0.99\n"
     ]
    },
    {
     "name": "stderr",
     "output_type": "stream",
     "text": [
      "The training process for function test_Highway ran for 2.94m\n"
     ]
    },
    {
     "name": "stdout",
     "output_type": "stream",
     "text": [
      "... building the model\n",
      "Optimization complete.\n",
      "Best validation score of 2.980000 % obtained at iteration 6200, with test performance 3.200000 %\n",
      "Cross entropy is stored in cross_entropy25.p\n",
      "Highway layers = 19 ,batch_size = 250 ,learning rate = 0.0025 ,rho = 0.5\n",
      "... building the model\n"
     ]
    },
    {
     "name": "stderr",
     "output_type": "stream",
     "text": [
      "The training process for function test_Highway ran for 3.01m\n"
     ]
    },
    {
     "name": "stdout",
     "output_type": "stream",
     "text": [
      "Optimization complete.\n",
      "Best validation score of 3.030000 % obtained at iteration 9000, with test performance 3.200000 %\n",
      "Cross entropy is stored in cross_entropy26.p\n",
      "Highway layers = 19 ,batch_size = 250 ,learning rate = 0.0025 ,rho = 0.9\n",
      "... building the model\n"
     ]
    },
    {
     "name": "stderr",
     "output_type": "stream",
     "text": [
      "The training process for function test_Highway ran for 2.92m\n"
     ]
    },
    {
     "name": "stdout",
     "output_type": "stream",
     "text": [
      "Optimization complete.\n",
      "Best validation score of 3.140000 % obtained at iteration 6600, with test performance 3.360000 %\n",
      "Cross entropy is stored in cross_entropy27.p\n",
      "Highway layers = 19 ,batch_size = 250 ,learning rate = 0.0025 ,rho = 0.99\n",
      "... building the model\n"
     ]
    },
    {
     "name": "stderr",
     "output_type": "stream",
     "text": [
      "The training process for function test_Highway ran for 2.95m\n"
     ]
    },
    {
     "name": "stdout",
     "output_type": "stream",
     "text": [
      "Optimization complete.\n",
      "Best validation score of 3.600000 % obtained at iteration 1700, with test performance 3.990000 %\n",
      "Cross entropy is stored in cross_entropy28.p\n",
      "Highway layers = 19 ,batch_size = 500 ,learning rate = 0.01 ,rho = 0.5\n",
      "... building the model\n"
     ]
    },
    {
     "name": "stderr",
     "output_type": "stream",
     "text": [
      "The training process for function test_Highway ran for 1.70m\n"
     ]
    },
    {
     "name": "stdout",
     "output_type": "stream",
     "text": [
      "Optimization complete.\n",
      "Best validation score of 3.550000 % obtained at iteration 4400, with test performance 3.880000 %\n",
      "Cross entropy is stored in cross_entropy29.p\n",
      "Highway layers = 19 ,batch_size = 500 ,learning rate = 0.01 ,rho = 0.9\n",
      "... building the model\n"
     ]
    },
    {
     "name": "stderr",
     "output_type": "stream",
     "text": [
      "The training process for function test_Highway ran for 1.69m\n"
     ]
    },
    {
     "name": "stdout",
     "output_type": "stream",
     "text": [
      "Optimization complete.\n",
      "Best validation score of 89.360000 % obtained at iteration 200, with test performance 88.650000 %\n",
      "Cross entropy is stored in cross_entropy30.p\n",
      "Highway layers = 19 ,batch_size = 500 ,learning rate = 0.01 ,rho = 0.99\n",
      "... building the model\n"
     ]
    },
    {
     "name": "stderr",
     "output_type": "stream",
     "text": [
      "The training process for function test_Highway ran for 1.72m\n"
     ]
    },
    {
     "name": "stdout",
     "output_type": "stream",
     "text": [
      "Optimization complete.\n",
      "Best validation score of 3.100000 % obtained at iteration 2200, with test performance 3.390000 %\n",
      "Cross entropy is stored in cross_entropy31.p\n",
      "Highway layers = 19 ,batch_size = 500 ,learning rate = 0.005 ,rho = 0.5\n",
      "... building the model\n"
     ]
    },
    {
     "name": "stderr",
     "output_type": "stream",
     "text": [
      "The training process for function test_Highway ran for 1.74m\n"
     ]
    },
    {
     "name": "stdout",
     "output_type": "stream",
     "text": [
      "Optimization complete.\n",
      "Best validation score of 3.160000 % obtained at iteration 4500, with test performance 3.280000 %\n",
      "Cross entropy is stored in cross_entropy32.p\n",
      "Highway layers = 19 ,batch_size = 500 ,learning rate = 0.005 ,rho = 0.9\n",
      "... building the model\n"
     ]
    },
    {
     "name": "stderr",
     "output_type": "stream",
     "text": [
      "The training process for function test_Highway ran for 1.72m\n"
     ]
    },
    {
     "name": "stdout",
     "output_type": "stream",
     "text": [
      "Optimization complete.\n",
      "Best validation score of 83.920000 % obtained at iteration 1100, with test performance 84.590000 %\n",
      "Cross entropy is stored in cross_entropy33.p\n",
      "Highway layers = 19 ,batch_size = 500 ,learning rate = 0.005 ,rho = 0.99\n",
      "... building the model\n"
     ]
    },
    {
     "name": "stderr",
     "output_type": "stream",
     "text": [
      "The training process for function test_Highway ran for 1.74m\n"
     ]
    },
    {
     "name": "stdout",
     "output_type": "stream",
     "text": [
      "Optimization complete.\n",
      "Best validation score of 3.190000 % obtained at iteration 4800, with test performance 3.250000 %\n",
      "Cross entropy is stored in cross_entropy34.p\n",
      "Highway layers = 19 ,batch_size = 500 ,learning rate = 0.0025 ,rho = 0.5\n",
      "... building the model\n"
     ]
    },
    {
     "name": "stderr",
     "output_type": "stream",
     "text": [
      "The training process for function test_Highway ran for 1.78m\n"
     ]
    },
    {
     "name": "stdout",
     "output_type": "stream",
     "text": [
      "Optimization complete.\n",
      "Best validation score of 2.580000 % obtained at iteration 4000, with test performance 3.120000 %\n",
      "Cross entropy is stored in cross_entropy35.p\n",
      "Highway layers = 19 ,batch_size = 500 ,learning rate = 0.0025 ,rho = 0.9\n",
      "... building the model\n"
     ]
    },
    {
     "name": "stderr",
     "output_type": "stream",
     "text": [
      "The training process for function test_Highway ran for 1.74m\n"
     ]
    },
    {
     "name": "stdout",
     "output_type": "stream",
     "text": [
      "Optimization complete.\n",
      "Best validation score of 3.020000 % obtained at iteration 3800, with test performance 3.480000 %\n",
      "Cross entropy is stored in cross_entropy36.p\n",
      "Highway layers = 19 ,batch_size = 500 ,learning rate = 0.0025 ,rho = 0.99\n",
      "... building the model\n"
     ]
    },
    {
     "name": "stderr",
     "output_type": "stream",
     "text": [
      "The training process for function test_Highway ran for 1.74m\n"
     ]
    },
    {
     "name": "stdout",
     "output_type": "stream",
     "text": [
      "Optimization complete.\n",
      "Best validation score of 3.790000 % obtained at iteration 5800, with test performance 4.590000 %\n",
      "Cross entropy is stored in cross_entropy37.p\n",
      "Highway layers = 19 ,batch_size = 250 ,learning rate = 0.01 ,rho = 0.5\n",
      "... building the model\n"
     ]
    },
    {
     "name": "stderr",
     "output_type": "stream",
     "text": [
      "The training process for function test_Highway ran for 2.83m\n"
     ]
    },
    {
     "name": "stdout",
     "output_type": "stream",
     "text": [
      "Optimization complete.\n",
      "Best validation score of 3.820000 % obtained at iteration 7400, with test performance 4.180000 %\n",
      "Cross entropy is stored in cross_entropy38.p\n",
      "Highway layers = 19 ,batch_size = 250 ,learning rate = 0.01 ,rho = 0.9\n",
      "... building the model\n"
     ]
    },
    {
     "name": "stderr",
     "output_type": "stream",
     "text": [
      "The training process for function test_Highway ran for 2.79m\n"
     ]
    },
    {
     "name": "stdout",
     "output_type": "stream",
     "text": [
      "Optimization complete.\n",
      "Best validation score of 4.020000 % obtained at iteration 9800, with test performance 4.740000 %\n",
      "Cross entropy is stored in cross_entropy39.p\n",
      "Highway layers = 19 ,batch_size = 250 ,learning rate = 0.01 ,rho = 0.99\n",
      "... building the model\n"
     ]
    },
    {
     "name": "stderr",
     "output_type": "stream",
     "text": [
      "The training process for function test_Highway ran for 2.87m\n"
     ]
    },
    {
     "name": "stdout",
     "output_type": "stream",
     "text": [
      "Optimization complete.\n",
      "Best validation score of 3.190000 % obtained at iteration 7000, with test performance 3.660000 %\n",
      "Cross entropy is stored in cross_entropy40.p\n",
      "Highway layers = 19 ,batch_size = 250 ,learning rate = 0.005 ,rho = 0.5\n",
      "... building the model\n"
     ]
    },
    {
     "name": "stderr",
     "output_type": "stream",
     "text": [
      "The training process for function test_Highway ran for 3.00m\n"
     ]
    },
    {
     "name": "stdout",
     "output_type": "stream",
     "text": [
      "Optimization complete.\n",
      "Best validation score of 3.220000 % obtained at iteration 4600, with test performance 3.350000 %\n",
      "Cross entropy is stored in cross_entropy41.p\n",
      "Highway layers = 19 ,batch_size = 250 ,learning rate = 0.005 ,rho = 0.9\n",
      "... building the model\n"
     ]
    },
    {
     "name": "stderr",
     "output_type": "stream",
     "text": [
      "The training process for function test_Highway ran for 2.90m\n"
     ]
    },
    {
     "name": "stdout",
     "output_type": "stream",
     "text": [
      "Optimization complete.\n",
      "Best validation score of 2.970000 % obtained at iteration 5400, with test performance 3.550000 %\n",
      "Cross entropy is stored in cross_entropy42.p\n",
      "Highway layers = 19 ,batch_size = 250 ,learning rate = 0.005 ,rho = 0.99\n",
      "... building the model\n"
     ]
    },
    {
     "name": "stderr",
     "output_type": "stream",
     "text": [
      "The training process for function test_Highway ran for 2.78m\n"
     ]
    },
    {
     "name": "stdout",
     "output_type": "stream",
     "text": [
      "Optimization complete.\n",
      "Best validation score of 3.070000 % obtained at iteration 6200, with test performance 3.400000 %\n",
      "Cross entropy is stored in cross_entropy43.p\n",
      "Highway layers = 19 ,batch_size = 250 ,learning rate = 0.0025 ,rho = 0.5\n",
      "... building the model\n"
     ]
    },
    {
     "name": "stderr",
     "output_type": "stream",
     "text": [
      "The training process for function test_Highway ran for 2.93m\n"
     ]
    },
    {
     "name": "stdout",
     "output_type": "stream",
     "text": [
      "Optimization complete.\n",
      "Best validation score of 2.970000 % obtained at iteration 6400, with test performance 3.680000 %\n",
      "Cross entropy is stored in cross_entropy44.p\n",
      "Highway layers = 19 ,batch_size = 250 ,learning rate = 0.0025 ,rho = 0.9\n",
      "... building the model\n"
     ]
    },
    {
     "name": "stderr",
     "output_type": "stream",
     "text": [
      "The training process for function test_Highway ran for 2.95m\n"
     ]
    },
    {
     "name": "stdout",
     "output_type": "stream",
     "text": [
      "Optimization complete.\n",
      "Best validation score of 3.160000 % obtained at iteration 9600, with test performance 3.540000 %\n",
      "Cross entropy is stored in cross_entropy45.p\n",
      "Highway layers = 19 ,batch_size = 250 ,learning rate = 0.0025 ,rho = 0.99\n",
      "... building the model\n"
     ]
    },
    {
     "name": "stderr",
     "output_type": "stream",
     "text": [
      "The training process for function test_Highway ran for 2.87m\n"
     ]
    },
    {
     "name": "stdout",
     "output_type": "stream",
     "text": [
      "Optimization complete.\n",
      "Best validation score of 3.250000 % obtained at iteration 4200, with test performance 4.020000 %\n",
      "Cross entropy is stored in cross_entropy46.p\n",
      "Highway layers = 19 ,batch_size = 500 ,learning rate = 0.01 ,rho = 0.5\n",
      "... building the model\n"
     ]
    },
    {
     "name": "stderr",
     "output_type": "stream",
     "text": [
      "The training process for function test_Highway ran for 1.73m\n"
     ]
    },
    {
     "name": "stdout",
     "output_type": "stream",
     "text": [
      "Optimization complete.\n",
      "Best validation score of 3.620000 % obtained at iteration 3200, with test performance 4.040000 %\n",
      "Cross entropy is stored in cross_entropy47.p\n",
      "Highway layers = 19 ,batch_size = 500 ,learning rate = 0.01 ,rho = 0.9\n"
     ]
    },
    {
     "name": "stderr",
     "output_type": "stream",
     "text": [
      "The training process for function test_Highway ran for 1.74m\n"
     ]
    },
    {
     "name": "stdout",
     "output_type": "stream",
     "text": [
      "... building the model\n",
      "Optimization complete.\n",
      "Best validation score of 4.060000 % obtained at iteration 3900, with test performance 4.600000 %\n",
      "Cross entropy is stored in cross_entropy48.p\n",
      "Highway layers = 19 ,batch_size = 500 ,learning rate = 0.01 ,rho = 0.99\n",
      "... building the model\n"
     ]
    },
    {
     "name": "stderr",
     "output_type": "stream",
     "text": [
      "The training process for function test_Highway ran for 1.69m\n"
     ]
    },
    {
     "name": "stdout",
     "output_type": "stream",
     "text": [
      "Optimization complete.\n",
      "Best validation score of 3.120000 % obtained at iteration 3800, with test performance 3.370000 %\n",
      "Cross entropy is stored in cross_entropy49.p\n",
      "Highway layers = 19 ,batch_size = 500 ,learning rate = 0.005 ,rho = 0.5\n",
      "... building the model\n"
     ]
    },
    {
     "name": "stderr",
     "output_type": "stream",
     "text": [
      "The training process for function test_Highway ran for 1.65m\n"
     ]
    },
    {
     "name": "stdout",
     "output_type": "stream",
     "text": [
      "Optimization complete.\n",
      "Best validation score of 3.100000 % obtained at iteration 4300, with test performance 3.490000 %\n",
      "Cross entropy is stored in cross_entropy50.p\n",
      "Highway layers = 19 ,batch_size = 500 ,learning rate = 0.005 ,rho = 0.9\n",
      "... building the model\n"
     ]
    },
    {
     "name": "stderr",
     "output_type": "stream",
     "text": [
      "The training process for function test_Highway ran for 1.69m\n"
     ]
    },
    {
     "name": "stdout",
     "output_type": "stream",
     "text": [
      "Optimization complete.\n",
      "Best validation score of 3.670000 % obtained at iteration 4800, with test performance 4.240000 %\n",
      "Cross entropy is stored in cross_entropy51.p\n",
      "Highway layers = 19 ,batch_size = 500 ,learning rate = 0.005 ,rho = 0.99\n",
      "... building the model\n"
     ]
    },
    {
     "name": "stderr",
     "output_type": "stream",
     "text": [
      "The training process for function test_Highway ran for 1.66m\n"
     ]
    },
    {
     "name": "stdout",
     "output_type": "stream",
     "text": [
      "Optimization complete.\n",
      "Best validation score of 3.140000 % obtained at iteration 3400, with test performance 3.820000 %\n",
      "Cross entropy is stored in cross_entropy52.p\n",
      "Highway layers = 19 ,batch_size = 500 ,learning rate = 0.0025 ,rho = 0.5\n",
      "... building the model\n"
     ]
    },
    {
     "name": "stderr",
     "output_type": "stream",
     "text": [
      "The training process for function test_Highway ran for 1.67m\n"
     ]
    },
    {
     "name": "stdout",
     "output_type": "stream",
     "text": [
      "Optimization complete.\n",
      "Best validation score of 3.130000 % obtained at iteration 4600, with test performance 3.510000 %\n",
      "Cross entropy is stored in cross_entropy53.p\n",
      "Highway layers = 19 ,batch_size = 500 ,learning rate = 0.0025 ,rho = 0.9\n",
      "... building the model\n"
     ]
    },
    {
     "name": "stderr",
     "output_type": "stream",
     "text": [
      "The training process for function test_Highway ran for 1.71m\n"
     ]
    },
    {
     "name": "stdout",
     "output_type": "stream",
     "text": [
      "Optimization complete.\n",
      "Best validation score of 3.200000 % obtained at iteration 2100, with test performance 3.460000 %\n",
      "Cross entropy is stored in cross_entropy54.p\n",
      "Highway layers = 19 ,batch_size = 500 ,learning rate = 0.0025 ,rho = 0.99\n"
     ]
    },
    {
     "name": "stderr",
     "output_type": "stream",
     "text": [
      "The training process for function test_Highway ran for 1.66m\n"
     ]
    }
   ],
   "source": [
    "from HighwayNetworks import test_Highway\n",
    "from project_nn import load_data\n",
    "import theano.tensor as T\n",
    "\n",
    "learning_rates = [0.01, 0.005, 0.0025]\n",
    "rhos = [0.5, 0.9, 0.99]\n",
    "activations = [T.nnet.nnet.relu,T.tanh]\n",
    "# biases = [-2,-5,-8]\n",
    "batch_sizes = [250,500]\n",
    "hw_layers = [19]\n",
    "bias = -2;\n",
    "\n",
    "data = load_data('mnist.pkl.gz')\n",
    "\n",
    "for layers_H in hw_layers:\n",
    "    for act in activations:\n",
    "        for batch_size in batch_sizes:\n",
    "            for lr in learning_rates:\n",
    "                for rho in rhos: \n",
    "                    test_Highway(datasets=data,learning_rate=lr,rho = rho, n_epochs=50, n_hidden=50, n_hiddenLayers=1,\n",
    "                                 n_highwayLayers = layers_H, activation_highway = act, b_T = bias,\n",
    "                                 batch_size=batch_size,verbose=False)\n",
    "                    print('Highway layers = '+str(layers_H)+' ,batch_size = '+str(batch_size)+\n",
    "                          ' ,learning rate = '+str(lr)+' ,rho = '+str(rho))"
   ]
  },
  {
   "cell_type": "code",
   "execution_count": null,
   "metadata": {
    "collapsed": true
   },
   "outputs": [],
   "source": []
  }
 ],
 "metadata": {
  "kernelspec": {
   "display_name": "Python 2",
   "language": "python",
   "name": "python2"
  },
  "language_info": {
   "codemirror_mode": {
    "name": "ipython",
    "version": 2
   },
   "file_extension": ".py",
   "mimetype": "text/x-python",
   "name": "python",
   "nbconvert_exporter": "python",
   "pygments_lexer": "ipython2",
   "version": "2.7.12"
  }
 },
 "nbformat": 4,
 "nbformat_minor": 1
}
