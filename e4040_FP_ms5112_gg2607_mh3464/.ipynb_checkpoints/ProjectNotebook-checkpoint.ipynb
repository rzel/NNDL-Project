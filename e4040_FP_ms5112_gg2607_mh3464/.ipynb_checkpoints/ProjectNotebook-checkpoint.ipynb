{
 "cells": [
  {
   "cell_type": "markdown",
   "metadata": {},
   "source": [
    "# Higway Networks"
   ]
  },
  {
   "cell_type": "code",
   "execution_count": null,
   "metadata": {
    "collapsed": true
   },
   "outputs": [],
   "source": [
    "import sys\n",
    "sys.path.append('src/')\n",
    "\n",
    "import matplotlib.pyplot as plt\n",
    "import theano.tensor as T\n",
    "from matplotlib import pyplot\n",
    "import pandas as pd\n",
    "import numpy as np\n",
    "import pickle\n",
    "import time\n",
    "%matplotlib inline  \n",
    "from HighwayNetworks import test_Highway, test_Highway_Momentum\n",
    "from project_nn import load_data\n",
    "\n",
    "data = load_data('mnist.pkl.gz')"
   ]
  },
  {
   "cell_type": "markdown",
   "metadata": {},
   "source": [
    "## Hyperparameter search using RMSprop"
   ]
  },
  {
   "cell_type": "markdown",
   "metadata": {},
   "source": [
    "In the following file we have the results for the first hyperparametes search we have done."
   ]
  },
  {
   "cell_type": "code",
   "execution_count": null,
   "metadata": {
    "collapsed": true
   },
   "outputs": [],
   "source": [
    "res = pd.read_csv('src/RMSPropResults.csv',index_col=False, encoding='utf-7')"
   ]
  },
  {
   "cell_type": "markdown",
   "metadata": {},
   "source": [
    "## Hyperparameter search and Training of the best selected model\n",
    "### Depth 10"
   ]
  },
  {
   "cell_type": "markdown",
   "metadata": {},
   "source": [
    "**Look at the best parameters in the paper results by inspecting the graphs of the xentropy.**"
   ]
  },
  {
   "cell_type": "code",
   "execution_count": 5,
   "metadata": {
    "collapsed": false
   },
   "outputs": [
    {
     "data": {
      "text/html": [
       "<div>\n",
       "<table border=\"1\" class=\"dataframe\">\n",
       "  <thead>\n",
       "    <tr style=\"text-align: right;\">\n",
       "      <th></th>\n",
       "      <th>result</th>\n",
       "      <th>activation</th>\n",
       "      <th>f_bias</th>\n",
       "      <th>num_layers</th>\n",
       "      <th>initial_lr</th>\n",
       "      <th>lr_factor</th>\n",
       "      <th>lr_min</th>\n",
       "      <th>momentum</th>\n",
       "      <th>batch_size</th>\n",
       "      <th>size</th>\n",
       "    </tr>\n",
       "  </thead>\n",
       "  <tbody>\n",
       "    <tr>\n",
       "      <th>76</th>\n",
       "      <td>0.000010</td>\n",
       "      <td>rel</td>\n",
       "      <td>-1</td>\n",
       "      <td>10</td>\n",
       "      <td>0.034174</td>\n",
       "      <td>0.989103</td>\n",
       "      <td>0.00001</td>\n",
       "      <td>0.765204</td>\n",
       "      <td>20</td>\n",
       "      <td>50</td>\n",
       "    </tr>\n",
       "    <tr>\n",
       "      <th>41</th>\n",
       "      <td>0.000013</td>\n",
       "      <td>rel</td>\n",
       "      <td>-2</td>\n",
       "      <td>10</td>\n",
       "      <td>0.158693</td>\n",
       "      <td>0.987334</td>\n",
       "      <td>0.00001</td>\n",
       "      <td>0.255830</td>\n",
       "      <td>20</td>\n",
       "      <td>50</td>\n",
       "    </tr>\n",
       "    <tr>\n",
       "      <th>19</th>\n",
       "      <td>0.000024</td>\n",
       "      <td>rel</td>\n",
       "      <td>-1</td>\n",
       "      <td>10</td>\n",
       "      <td>0.106065</td>\n",
       "      <td>0.972970</td>\n",
       "      <td>0.00001</td>\n",
       "      <td>0.957930</td>\n",
       "      <td>20</td>\n",
       "      <td>50</td>\n",
       "    </tr>\n",
       "    <tr>\n",
       "      <th>61</th>\n",
       "      <td>0.000026</td>\n",
       "      <td>tanh</td>\n",
       "      <td>-2</td>\n",
       "      <td>10</td>\n",
       "      <td>0.577033</td>\n",
       "      <td>0.977962</td>\n",
       "      <td>0.00001</td>\n",
       "      <td>0.974775</td>\n",
       "      <td>20</td>\n",
       "      <td>50</td>\n",
       "    </tr>\n",
       "    <tr>\n",
       "      <th>97</th>\n",
       "      <td>0.000034</td>\n",
       "      <td>tanh</td>\n",
       "      <td>-1</td>\n",
       "      <td>10</td>\n",
       "      <td>0.571283</td>\n",
       "      <td>0.966434</td>\n",
       "      <td>0.00001</td>\n",
       "      <td>0.920391</td>\n",
       "      <td>20</td>\n",
       "      <td>50</td>\n",
       "    </tr>\n",
       "    <tr>\n",
       "      <th>60</th>\n",
       "      <td>0.000047</td>\n",
       "      <td>rel</td>\n",
       "      <td>-2</td>\n",
       "      <td>10</td>\n",
       "      <td>0.079635</td>\n",
       "      <td>0.977465</td>\n",
       "      <td>0.00001</td>\n",
       "      <td>0.006431</td>\n",
       "      <td>20</td>\n",
       "      <td>50</td>\n",
       "    </tr>\n",
       "    <tr>\n",
       "      <th>7</th>\n",
       "      <td>0.000048</td>\n",
       "      <td>rel</td>\n",
       "      <td>-1</td>\n",
       "      <td>10</td>\n",
       "      <td>0.013113</td>\n",
       "      <td>0.988194</td>\n",
       "      <td>0.00001</td>\n",
       "      <td>0.980878</td>\n",
       "      <td>20</td>\n",
       "      <td>50</td>\n",
       "    </tr>\n",
       "    <tr>\n",
       "      <th>67</th>\n",
       "      <td>0.000061</td>\n",
       "      <td>tanh</td>\n",
       "      <td>-2</td>\n",
       "      <td>10</td>\n",
       "      <td>0.148855</td>\n",
       "      <td>0.983595</td>\n",
       "      <td>0.00001</td>\n",
       "      <td>0.921287</td>\n",
       "      <td>20</td>\n",
       "      <td>50</td>\n",
       "    </tr>\n",
       "    <tr>\n",
       "      <th>66</th>\n",
       "      <td>0.000088</td>\n",
       "      <td>rel</td>\n",
       "      <td>-3</td>\n",
       "      <td>10</td>\n",
       "      <td>0.238383</td>\n",
       "      <td>0.957212</td>\n",
       "      <td>0.00001</td>\n",
       "      <td>0.140128</td>\n",
       "      <td>20</td>\n",
       "      <td>50</td>\n",
       "    </tr>\n",
       "    <tr>\n",
       "      <th>6</th>\n",
       "      <td>0.000109</td>\n",
       "      <td>rel</td>\n",
       "      <td>-7</td>\n",
       "      <td>10</td>\n",
       "      <td>0.261462</td>\n",
       "      <td>0.978969</td>\n",
       "      <td>0.00001</td>\n",
       "      <td>0.250778</td>\n",
       "      <td>20</td>\n",
       "      <td>50</td>\n",
       "    </tr>\n",
       "    <tr>\n",
       "      <th>94</th>\n",
       "      <td>0.000114</td>\n",
       "      <td>rel</td>\n",
       "      <td>-3</td>\n",
       "      <td>10</td>\n",
       "      <td>0.337516</td>\n",
       "      <td>0.948210</td>\n",
       "      <td>0.00001</td>\n",
       "      <td>0.955017</td>\n",
       "      <td>20</td>\n",
       "      <td>50</td>\n",
       "    </tr>\n",
       "    <tr>\n",
       "      <th>39</th>\n",
       "      <td>0.000149</td>\n",
       "      <td>rel</td>\n",
       "      <td>-3</td>\n",
       "      <td>10</td>\n",
       "      <td>0.015388</td>\n",
       "      <td>0.986985</td>\n",
       "      <td>0.00001</td>\n",
       "      <td>0.537753</td>\n",
       "      <td>20</td>\n",
       "      <td>50</td>\n",
       "    </tr>\n",
       "    <tr>\n",
       "      <th>92</th>\n",
       "      <td>0.003600</td>\n",
       "      <td>rel</td>\n",
       "      <td>-5</td>\n",
       "      <td>10</td>\n",
       "      <td>0.053902</td>\n",
       "      <td>0.932719</td>\n",
       "      <td>0.00001</td>\n",
       "      <td>0.984619</td>\n",
       "      <td>20</td>\n",
       "      <td>50</td>\n",
       "    </tr>\n",
       "  </tbody>\n",
       "</table>\n",
       "</div>"
      ],
      "text/plain": [
       "      result activation  f_bias  num_layers  initial_lr  lr_factor   lr_min  \\\n",
       "76  0.000010        rel      -1          10    0.034174   0.989103  0.00001   \n",
       "41  0.000013        rel      -2          10    0.158693   0.987334  0.00001   \n",
       "19  0.000024        rel      -1          10    0.106065   0.972970  0.00001   \n",
       "61  0.000026       tanh      -2          10    0.577033   0.977962  0.00001   \n",
       "97  0.000034       tanh      -1          10    0.571283   0.966434  0.00001   \n",
       "60  0.000047        rel      -2          10    0.079635   0.977465  0.00001   \n",
       "7   0.000048        rel      -1          10    0.013113   0.988194  0.00001   \n",
       "67  0.000061       tanh      -2          10    0.148855   0.983595  0.00001   \n",
       "66  0.000088        rel      -3          10    0.238383   0.957212  0.00001   \n",
       "6   0.000109        rel      -7          10    0.261462   0.978969  0.00001   \n",
       "94  0.000114        rel      -3          10    0.337516   0.948210  0.00001   \n",
       "39  0.000149        rel      -3          10    0.015388   0.986985  0.00001   \n",
       "92  0.003600        rel      -5          10    0.053902   0.932719  0.00001   \n",
       "\n",
       "    momentum  batch_size  size  \n",
       "76  0.765204          20    50  \n",
       "41  0.255830          20    50  \n",
       "19  0.957930          20    50  \n",
       "61  0.974775          20    50  \n",
       "97  0.920391          20    50  \n",
       "60  0.006431          20    50  \n",
       "7   0.980878          20    50  \n",
       "67  0.921287          20    50  \n",
       "66  0.140128          20    50  \n",
       "6   0.250778          20    50  \n",
       "94  0.955017          20    50  \n",
       "39  0.537753          20    50  \n",
       "92  0.984619          20    50  "
      ]
     },
     "execution_count": 5,
     "metadata": {},
     "output_type": "execute_result"
    }
   ],
   "source": [
    "# Best selected models\n",
    "best_10 = np.array([6,7,19,39,41,60,61,66,67,76,92,94,97])\n",
    "\n",
    "best_10_df = pd.read_csv('src/PaperHyperparameterSearch_Highway.csv').iloc[best_10]\n",
    "\n",
    "best_10_df.sort_values('result')"
   ]
  },
  {
   "cell_type": "markdown",
   "metadata": {},
   "source": [
    "**Based on the above results we restrict our search between the following ranges**\n",
    "- Bias being -1,-2,-3. \n",
    "- Initial learning rate will be chosen chosen between 0.01311 and 0.577. \n",
    "- We will use both relu and tanh. \n",
    "- Learning rate decay factor will be between 0.9327 and 0.98910. \n",
    "- Momentum between 0.25 and .98462. \n",
    "- Batch size set to 20."
   ]
  },
  {
   "cell_type": "code",
   "execution_count": null,
   "metadata": {
    "collapsed": true
   },
   "outputs": [],
   "source": [
    "# Results will be saved\n",
    "learning_rates = [0.2, 0.15, 0.1]\n",
    "learning_decay = [.95, .97, .99]\n",
    "momentum = [0.25, 0.75, 0.9, 0.99]\n",
    "activations = [T.nnet.nnet.relu,T.tanh]\n",
    "biases = [-1,-2,-3]\n",
    "\n",
    "for act in activations:\n",
    "    for lr in learning_rates:\n",
    "         for b in biases:\n",
    "                for m in momentum:\n",
    "                    for lr_decay in learning_decay:\n",
    "                        t_0 = time.time()\n",
    "                        test_Highway_Momentum(data, learning_rate=lr, lr_decay=lr_decay, \n",
    "                                              momentum=m, n_epochs=50, n_hidden=50, \n",
    "                                              n_hiddenLayers=1, n_highwayLayers = 9, \n",
    "                                              activation_hidden = T.nnet.nnet.relu, \n",
    "                                              activation_highway = act, b_T = b,\n",
    "                                              batch_size=20, verbose=True, \n",
    "                                              early_stopping=False)\n",
    "                        print(time.time()-t_0,act,lr,b,m,lr_decay)"
   ]
  },
  {
   "cell_type": "code",
   "execution_count": 8,
   "metadata": {
    "collapsed": false,
    "scrolled": false
   },
   "outputs": [
    {
     "data": {
      "text/plain": [
       "Running time                                              0.846642\n",
       "XEntropy                                               0.000233313\n",
       "Test performance                                                 0\n",
       "Best Validation score                                          inf\n",
       "Max epochs                                                      50\n",
       "N epochs                                                        50\n",
       "Activation function - hidden     <function relu at 0x7fea12451ed8>\n",
       "Activation function - highway    <function relu at 0x7fea12451ed8>\n",
       "L2_reg parameter                                                 0\n",
       "L1_reg parameter                                                 0\n",
       "Batch size                                                      20\n",
       "Iterations                                                       1\n",
       "Hidden neurons per layer                                        50\n",
       "Hidden Layers                                                    1\n",
       "Highway Layers                                                   9\n",
       "Learning rate                                                  0.2\n",
       "lr_decay                                                      0.99\n",
       "momentum                                                      0.75\n",
       "Patience                                                     10000\n",
       "b_T                                                             -2\n",
       "Name: 17, dtype: object"
      ]
     },
     "execution_count": 8,
     "metadata": {},
     "output_type": "execute_result"
    }
   ],
   "source": [
    "res = pd.read_csv('src/Results10.csv').iloc[:,1:]\n",
    "res.sort_values('XEntropy').iloc[0,:]"
   ]
  },
  {
   "cell_type": "code",
   "execution_count": null,
   "metadata": {
    "collapsed": false,
    "scrolled": true
   },
   "outputs": [],
   "source": [
    "# Running the optimal model for 400 epochs\n",
    "test_Highway_Momentum(data,\n",
    "                      learning_rate=0.1,\n",
    "                      lr_decay=0.99,\n",
    "                      momentum=.75,\n",
    "                      n_epochs=400, n_hidden=71,\n",
    "                      n_hiddenLayers=10,\n",
    "                      n_highwayLayers = 0,\n",
    "                      activation_hidden = T.nnet.nnet.relu,\n",
    "                      activation_highway = T.nnet.nnet.relu, \n",
    "                      b_T = -2, L1_reg = 0,\n",
    "                      L2_reg = 0, batch_size=20, \n",
    "                      verbose=True, early_stopping=False)"
   ]
  },
  {
   "cell_type": "code",
   "execution_count": 9,
   "metadata": {
    "collapsed": false
   },
   "outputs": [
    {
     "data": {
      "text/html": [
       "<div>\n",
       "<table border=\"1\" class=\"dataframe\">\n",
       "  <thead>\n",
       "    <tr style=\"text-align: right;\">\n",
       "      <th></th>\n",
       "      <th>XEntropy</th>\n",
       "    </tr>\n",
       "  </thead>\n",
       "  <tbody>\n",
       "    <tr>\n",
       "      <th>396</th>\n",
       "      <td>0.000003</td>\n",
       "    </tr>\n",
       "    <tr>\n",
       "      <th>397</th>\n",
       "      <td>0.000003</td>\n",
       "    </tr>\n",
       "    <tr>\n",
       "      <th>398</th>\n",
       "      <td>0.000003</td>\n",
       "    </tr>\n",
       "    <tr>\n",
       "      <th>399</th>\n",
       "      <td>0.000003</td>\n",
       "    </tr>\n",
       "    <tr>\n",
       "      <th>400</th>\n",
       "      <td>0.000003</td>\n",
       "    </tr>\n",
       "  </tbody>\n",
       "</table>\n",
       "</div>"
      ],
      "text/plain": [
       "     XEntropy\n",
       "396  0.000003\n",
       "397  0.000003\n",
       "398  0.000003\n",
       "399  0.000003\n",
       "400  0.000003"
      ]
     },
     "execution_count": 9,
     "metadata": {},
     "output_type": "execute_result"
    }
   ],
   "source": [
    "# Best Depth 10 Highway Network result\n",
    "xentropy_highway_10 = pickle.load(open(\"src/cross_entropy_10.p\", \"rb\"))\n",
    "xentropy_highway_10_df = pd.DataFrame.from_dict(xentropy_highway_10,orient='index')\n",
    "xentropy_highway_10_df.columns= ['XEntropy']\n",
    "xentropy_highway_10_df.tail()"
   ]
  },
  {
   "cell_type": "code",
   "execution_count": 10,
   "metadata": {
    "collapsed": false
   },
   "outputs": [
    {
     "data": {
      "text/html": [
       "<div>\n",
       "<table border=\"1\" class=\"dataframe\">\n",
       "  <thead>\n",
       "    <tr style=\"text-align: right;\">\n",
       "      <th></th>\n",
       "      <th>XEntropy</th>\n",
       "    </tr>\n",
       "  </thead>\n",
       "  <tbody>\n",
       "    <tr>\n",
       "      <th>396</th>\n",
       "      <td>0.000001</td>\n",
       "    </tr>\n",
       "    <tr>\n",
       "      <th>397</th>\n",
       "      <td>0.000001</td>\n",
       "    </tr>\n",
       "    <tr>\n",
       "      <th>398</th>\n",
       "      <td>0.000001</td>\n",
       "    </tr>\n",
       "    <tr>\n",
       "      <th>399</th>\n",
       "      <td>0.000001</td>\n",
       "    </tr>\n",
       "    <tr>\n",
       "      <th>400</th>\n",
       "      <td>0.000001</td>\n",
       "    </tr>\n",
       "  </tbody>\n",
       "</table>\n",
       "</div>"
      ],
      "text/plain": [
       "     XEntropy\n",
       "396  0.000001\n",
       "397  0.000001\n",
       "398  0.000001\n",
       "399  0.000001\n",
       "400  0.000001"
      ]
     },
     "execution_count": 10,
     "metadata": {},
     "output_type": "execute_result"
    }
   ],
   "source": [
    "# Plain highway network\n",
    "xentropy_plain_10 = pickle.load(open(\"src/cross_entropy_plain_10.p\", \"rb\"))\n",
    "xentropy_plain_10_df = pd.DataFrame.from_dict(xentropy_plain_10,orient='index')\n",
    "xentropy_plain_10_df.columns= ['XEntropy']\n",
    "xentropy_plain_10_df.tail()"
   ]
  },
  {
   "cell_type": "markdown",
   "metadata": {},
   "source": [
    "## Depth 20"
   ]
  },
  {
   "cell_type": "markdown",
   "metadata": {},
   "source": [
    "**Look at the best parameters in the paper results by inspecting the graphs of the xentropy.**"
   ]
  },
  {
   "cell_type": "code",
   "execution_count": 11,
   "metadata": {
    "collapsed": false
   },
   "outputs": [
    {
     "data": {
      "text/html": [
       "<div>\n",
       "<table border=\"1\" class=\"dataframe\">\n",
       "  <thead>\n",
       "    <tr style=\"text-align: right;\">\n",
       "      <th></th>\n",
       "      <th>result</th>\n",
       "      <th>activation</th>\n",
       "      <th>f_bias</th>\n",
       "      <th>num_layers</th>\n",
       "      <th>initial_lr</th>\n",
       "      <th>lr_factor</th>\n",
       "      <th>lr_min</th>\n",
       "      <th>momentum</th>\n",
       "      <th>batch_size</th>\n",
       "      <th>size</th>\n",
       "    </tr>\n",
       "  </thead>\n",
       "  <tbody>\n",
       "    <tr>\n",
       "      <th>147</th>\n",
       "      <td>0.000047</td>\n",
       "      <td>rel</td>\n",
       "      <td>-6</td>\n",
       "      <td>20</td>\n",
       "      <td>0.153151</td>\n",
       "      <td>0.986925</td>\n",
       "      <td>0.00001</td>\n",
       "      <td>0.931897</td>\n",
       "      <td>20</td>\n",
       "      <td>50</td>\n",
       "    </tr>\n",
       "    <tr>\n",
       "      <th>153</th>\n",
       "      <td>0.000062</td>\n",
       "      <td>rel</td>\n",
       "      <td>-5</td>\n",
       "      <td>20</td>\n",
       "      <td>0.174630</td>\n",
       "      <td>0.974604</td>\n",
       "      <td>0.00001</td>\n",
       "      <td>0.884483</td>\n",
       "      <td>20</td>\n",
       "      <td>50</td>\n",
       "    </tr>\n",
       "    <tr>\n",
       "      <th>125</th>\n",
       "      <td>0.000075</td>\n",
       "      <td>rel</td>\n",
       "      <td>-3</td>\n",
       "      <td>20</td>\n",
       "      <td>0.256850</td>\n",
       "      <td>0.949827</td>\n",
       "      <td>0.00001</td>\n",
       "      <td>0.622238</td>\n",
       "      <td>20</td>\n",
       "      <td>50</td>\n",
       "    </tr>\n",
       "    <tr>\n",
       "      <th>164</th>\n",
       "      <td>0.000084</td>\n",
       "      <td>tanh</td>\n",
       "      <td>-4</td>\n",
       "      <td>20</td>\n",
       "      <td>0.258119</td>\n",
       "      <td>0.987172</td>\n",
       "      <td>0.00001</td>\n",
       "      <td>0.844354</td>\n",
       "      <td>20</td>\n",
       "      <td>50</td>\n",
       "    </tr>\n",
       "    <tr>\n",
       "      <th>119</th>\n",
       "      <td>0.000100</td>\n",
       "      <td>tanh</td>\n",
       "      <td>-1</td>\n",
       "      <td>20</td>\n",
       "      <td>0.598473</td>\n",
       "      <td>0.936181</td>\n",
       "      <td>0.00001</td>\n",
       "      <td>0.982707</td>\n",
       "      <td>20</td>\n",
       "      <td>50</td>\n",
       "    </tr>\n",
       "    <tr>\n",
       "      <th>193</th>\n",
       "      <td>0.000104</td>\n",
       "      <td>rel</td>\n",
       "      <td>-2</td>\n",
       "      <td>20</td>\n",
       "      <td>0.055001</td>\n",
       "      <td>0.959435</td>\n",
       "      <td>0.00001</td>\n",
       "      <td>0.924570</td>\n",
       "      <td>20</td>\n",
       "      <td>50</td>\n",
       "    </tr>\n",
       "    <tr>\n",
       "      <th>168</th>\n",
       "      <td>0.000109</td>\n",
       "      <td>tanh</td>\n",
       "      <td>-3</td>\n",
       "      <td>20</td>\n",
       "      <td>0.276412</td>\n",
       "      <td>0.972960</td>\n",
       "      <td>0.00001</td>\n",
       "      <td>0.181094</td>\n",
       "      <td>20</td>\n",
       "      <td>50</td>\n",
       "    </tr>\n",
       "    <tr>\n",
       "      <th>130</th>\n",
       "      <td>0.000132</td>\n",
       "      <td>tanh</td>\n",
       "      <td>-3</td>\n",
       "      <td>20</td>\n",
       "      <td>0.111748</td>\n",
       "      <td>0.985916</td>\n",
       "      <td>0.00001</td>\n",
       "      <td>0.691222</td>\n",
       "      <td>20</td>\n",
       "      <td>50</td>\n",
       "    </tr>\n",
       "    <tr>\n",
       "      <th>192</th>\n",
       "      <td>0.000148</td>\n",
       "      <td>tanh</td>\n",
       "      <td>-5</td>\n",
       "      <td>20</td>\n",
       "      <td>0.518281</td>\n",
       "      <td>0.971856</td>\n",
       "      <td>0.00001</td>\n",
       "      <td>0.984009</td>\n",
       "      <td>20</td>\n",
       "      <td>50</td>\n",
       "    </tr>\n",
       "    <tr>\n",
       "      <th>178</th>\n",
       "      <td>0.000153</td>\n",
       "      <td>rel</td>\n",
       "      <td>-10</td>\n",
       "      <td>20</td>\n",
       "      <td>0.316074</td>\n",
       "      <td>0.982813</td>\n",
       "      <td>0.00001</td>\n",
       "      <td>0.789495</td>\n",
       "      <td>20</td>\n",
       "      <td>50</td>\n",
       "    </tr>\n",
       "    <tr>\n",
       "      <th>175</th>\n",
       "      <td>0.000163</td>\n",
       "      <td>tanh</td>\n",
       "      <td>-1</td>\n",
       "      <td>20</td>\n",
       "      <td>0.636978</td>\n",
       "      <td>0.936436</td>\n",
       "      <td>0.00001</td>\n",
       "      <td>0.946619</td>\n",
       "      <td>20</td>\n",
       "      <td>50</td>\n",
       "    </tr>\n",
       "    <tr>\n",
       "      <th>180</th>\n",
       "      <td>0.000165</td>\n",
       "      <td>rel</td>\n",
       "      <td>-8</td>\n",
       "      <td>20</td>\n",
       "      <td>0.342672</td>\n",
       "      <td>0.972759</td>\n",
       "      <td>0.00001</td>\n",
       "      <td>0.963324</td>\n",
       "      <td>20</td>\n",
       "      <td>50</td>\n",
       "    </tr>\n",
       "    <tr>\n",
       "      <th>129</th>\n",
       "      <td>0.000168</td>\n",
       "      <td>rel</td>\n",
       "      <td>-4</td>\n",
       "      <td>20</td>\n",
       "      <td>0.021775</td>\n",
       "      <td>0.981978</td>\n",
       "      <td>0.00001</td>\n",
       "      <td>0.916344</td>\n",
       "      <td>20</td>\n",
       "      <td>50</td>\n",
       "    </tr>\n",
       "  </tbody>\n",
       "</table>\n",
       "</div>"
      ],
      "text/plain": [
       "       result activation  f_bias  num_layers  initial_lr  lr_factor   lr_min  \\\n",
       "147  0.000047        rel      -6          20    0.153151   0.986925  0.00001   \n",
       "153  0.000062        rel      -5          20    0.174630   0.974604  0.00001   \n",
       "125  0.000075        rel      -3          20    0.256850   0.949827  0.00001   \n",
       "164  0.000084       tanh      -4          20    0.258119   0.987172  0.00001   \n",
       "119  0.000100       tanh      -1          20    0.598473   0.936181  0.00001   \n",
       "193  0.000104        rel      -2          20    0.055001   0.959435  0.00001   \n",
       "168  0.000109       tanh      -3          20    0.276412   0.972960  0.00001   \n",
       "130  0.000132       tanh      -3          20    0.111748   0.985916  0.00001   \n",
       "192  0.000148       tanh      -5          20    0.518281   0.971856  0.00001   \n",
       "178  0.000153        rel     -10          20    0.316074   0.982813  0.00001   \n",
       "175  0.000163       tanh      -1          20    0.636978   0.936436  0.00001   \n",
       "180  0.000165        rel      -8          20    0.342672   0.972759  0.00001   \n",
       "129  0.000168        rel      -4          20    0.021775   0.981978  0.00001   \n",
       "\n",
       "     momentum  batch_size  size  \n",
       "147  0.931897          20    50  \n",
       "153  0.884483          20    50  \n",
       "125  0.622238          20    50  \n",
       "164  0.844354          20    50  \n",
       "119  0.982707          20    50  \n",
       "193  0.924570          20    50  \n",
       "168  0.181094          20    50  \n",
       "130  0.691222          20    50  \n",
       "192  0.984009          20    50  \n",
       "178  0.789495          20    50  \n",
       "175  0.946619          20    50  \n",
       "180  0.963324          20    50  \n",
       "129  0.916344          20    50  "
      ]
     },
     "execution_count": 11,
     "metadata": {},
     "output_type": "execute_result"
    }
   ],
   "source": [
    "# Best selected models\n",
    "best_20 = [119,125,129,130,147,153,164,168,175,178,180,192,193]\n",
    "\n",
    "best_20_df = pd.read_csv('src/PaperHyperparameterSearch_Highway.csv').iloc[best_20]\n",
    "\n",
    "best_20_df.sort_values('result')"
   ]
  },
  {
   "cell_type": "markdown",
   "metadata": {},
   "source": [
    "**Based on the above results we restrict our search between the following ranges**\n",
    "- Bias being -5,-4,-3. \n",
    "- Initial learning rate will be chosen chosen between 0.1 and 0.25. \n",
    "- We will use both relu and tanh. \n",
    "- Learning rate decay factor will be between 0.9, 0.97, 0.99. \n",
    "- Momentum between 0.7 and .9. \n",
    "- Batch size set to 20."
   ]
  },
  {
   "cell_type": "code",
   "execution_count": null,
   "metadata": {
    "collapsed": true
   },
   "outputs": [],
   "source": [
    "# Hyperparameter search for Depth 20\n",
    "learning_rates = [0.20, 0.15, 0.1]\n",
    "learning_decay = [.9, .97, .99]\n",
    "momentum = [0.7, 0.8, 0.9]\n",
    "activations = [T.nnet.nnet.relu,T.tanh]\n",
    "biases = [-5,-4,-3]\n",
    "\n",
    "for act in activations:\n",
    "    for lr in learning_rates:\n",
    "         for b in biases:\n",
    "                for m in momentum:\n",
    "                    for lr_decay in learning_decay:\n",
    "                        t_0 = time.time()\n",
    "                        test_Highway_Momentum(data, learning_rate=lr, lr_decay=lr_decay, \n",
    "                                              momentum=m, n_epochs=50, n_hidden=50, \n",
    "                                              n_hiddenLayers=1, n_highwayLayers = 19, \n",
    "                                              activation_hidden = T.nnet.nnet.relu, \n",
    "                                              activation_highway = act, b_T = b,\n",
    "                                              batch_size=20, verbose=True, \n",
    "                                              early_stopping=False)\n",
    "                        print(time.time()-t_0,act,lr,b,m,lr_decay)       "
   ]
  },
  {
   "cell_type": "code",
   "execution_count": 13,
   "metadata": {
    "collapsed": false
   },
   "outputs": [
    {
     "data": {
      "text/plain": [
       "Running time                                               1.66617\n",
       "XEntropy                                               0.000362623\n",
       "Test performance                                                 0\n",
       "Best Validation score                                          inf\n",
       "Max epochs                                                      50\n",
       "N epochs                                                        50\n",
       "Activation function - hidden     <function relu at 0x7f4e40328ed8>\n",
       "Activation function - highway    <function relu at 0x7f4e40328ed8>\n",
       "L2_reg parameter                                                 0\n",
       "L1_reg parameter                                                 0\n",
       "Batch size                                                      20\n",
       "Iterations                                                       1\n",
       "Hidden neurons per layer                                        50\n",
       "Hidden Layers                                                    1\n",
       "Highway Layers                                                  19\n",
       "Learning rate                                                  0.2\n",
       "lr_decay                                                      0.99\n",
       "momentum                                                       0.7\n",
       "Patience                                                     10000\n",
       "b_T                                                             -5\n",
       "Name: 2, dtype: object"
      ]
     },
     "execution_count": 13,
     "metadata": {},
     "output_type": "execute_result"
    }
   ],
   "source": [
    "res = pd.read_csv('src/Results20.csv')\n",
    "best = res.sort_values('XEntropy').iloc[:,1:]\n",
    "\n",
    "best.iloc[0]"
   ]
  },
  {
   "cell_type": "code",
   "execution_count": null,
   "metadata": {
    "collapsed": false
   },
   "outputs": [],
   "source": [
    "# Running the optimal model for 400 epochs\n",
    "test_Highway_Momentum(data,\n",
    "                      learning_rate=0.1,\n",
    "                      lr_decay=0.98,\n",
    "                      momentum=0.5,\n",
    "                      n_epochs=400, n_hidden=71,\n",
    "                      n_hiddenLayers=20,\n",
    "                      n_highwayLayers = 0,\n",
    "                      activation_hidden = T.tanh,\n",
    "                      activation_highway = T.nnet.nnet.relu, \n",
    "                      b_T = -5, L1_reg = 0,\n",
    "                      L2_reg = 0, batch_size=20, \n",
    "                      verbose=True, early_stopping=False)"
   ]
  },
  {
   "cell_type": "code",
   "execution_count": 15,
   "metadata": {
    "collapsed": false
   },
   "outputs": [
    {
     "data": {
      "text/html": [
       "<div>\n",
       "<table border=\"1\" class=\"dataframe\">\n",
       "  <thead>\n",
       "    <tr style=\"text-align: right;\">\n",
       "      <th></th>\n",
       "      <th>XEntropy</th>\n",
       "    </tr>\n",
       "  </thead>\n",
       "  <tbody>\n",
       "    <tr>\n",
       "      <th>396</th>\n",
       "      <td>0.000007</td>\n",
       "    </tr>\n",
       "    <tr>\n",
       "      <th>397</th>\n",
       "      <td>0.000007</td>\n",
       "    </tr>\n",
       "    <tr>\n",
       "      <th>398</th>\n",
       "      <td>0.000007</td>\n",
       "    </tr>\n",
       "    <tr>\n",
       "      <th>399</th>\n",
       "      <td>0.000007</td>\n",
       "    </tr>\n",
       "    <tr>\n",
       "      <th>400</th>\n",
       "      <td>0.000007</td>\n",
       "    </tr>\n",
       "  </tbody>\n",
       "</table>\n",
       "</div>"
      ],
      "text/plain": [
       "     XEntropy\n",
       "396  0.000007\n",
       "397  0.000007\n",
       "398  0.000007\n",
       "399  0.000007\n",
       "400  0.000007"
      ]
     },
     "execution_count": 15,
     "metadata": {},
     "output_type": "execute_result"
    }
   ],
   "source": [
    "xentropy_highway_20 = pickle.load(open(\"src/cross_entropy_20.p\", \"rb\"))\n",
    "xentropy_highway_20_df = pd.DataFrame.from_dict(xentropy_highway_20,orient='index')\n",
    "xentropy_highway_20_df.columns= ['XEntropy']\n",
    "xentropy_highway_20_df.tail()"
   ]
  },
  {
   "cell_type": "code",
   "execution_count": 14,
   "metadata": {
    "collapsed": false
   },
   "outputs": [
    {
     "data": {
      "text/html": [
       "<div>\n",
       "<table border=\"1\" class=\"dataframe\">\n",
       "  <thead>\n",
       "    <tr style=\"text-align: right;\">\n",
       "      <th></th>\n",
       "      <th>XEntropy</th>\n",
       "    </tr>\n",
       "  </thead>\n",
       "  <tbody>\n",
       "    <tr>\n",
       "      <th>396</th>\n",
       "      <td>0.000031</td>\n",
       "    </tr>\n",
       "    <tr>\n",
       "      <th>397</th>\n",
       "      <td>0.000031</td>\n",
       "    </tr>\n",
       "    <tr>\n",
       "      <th>398</th>\n",
       "      <td>0.000030</td>\n",
       "    </tr>\n",
       "    <tr>\n",
       "      <th>399</th>\n",
       "      <td>0.000030</td>\n",
       "    </tr>\n",
       "    <tr>\n",
       "      <th>400</th>\n",
       "      <td>0.000030</td>\n",
       "    </tr>\n",
       "  </tbody>\n",
       "</table>\n",
       "</div>"
      ],
      "text/plain": [
       "     XEntropy\n",
       "396  0.000031\n",
       "397  0.000031\n",
       "398  0.000030\n",
       "399  0.000030\n",
       "400  0.000030"
      ]
     },
     "execution_count": 14,
     "metadata": {},
     "output_type": "execute_result"
    }
   ],
   "source": [
    "xentropy_plain_20 = pickle.load(open(\"src/cross_entropy_plain_20.p\", \"rb\"))\n",
    "xentropy_plain_20_df = pd.DataFrame.from_dict(xentropy_plain_20,orient='index')\n",
    "xentropy_plain_20_df.columns= ['XEntropy']\n",
    "xentropy_plain_20_df.tail()"
   ]
  },
  {
   "cell_type": "markdown",
   "metadata": {},
   "source": [
    "### Depth 50"
   ]
  },
  {
   "cell_type": "markdown",
   "metadata": {},
   "source": [
    "**Look at the best parameters in the paper results by inspecting the graphs of the xentropy.**"
   ]
  },
  {
   "cell_type": "code",
   "execution_count": 16,
   "metadata": {
    "collapsed": false
   },
   "outputs": [
    {
     "data": {
      "text/html": [
       "<div>\n",
       "<table border=\"1\" class=\"dataframe\">\n",
       "  <thead>\n",
       "    <tr style=\"text-align: right;\">\n",
       "      <th></th>\n",
       "      <th>result</th>\n",
       "      <th>activation</th>\n",
       "      <th>f_bias</th>\n",
       "      <th>num_layers</th>\n",
       "      <th>initial_lr</th>\n",
       "      <th>lr_factor</th>\n",
       "      <th>lr_min</th>\n",
       "      <th>momentum</th>\n",
       "      <th>batch_size</th>\n",
       "      <th>size</th>\n",
       "    </tr>\n",
       "  </thead>\n",
       "  <tbody>\n",
       "    <tr>\n",
       "      <th>235</th>\n",
       "      <td>0.000007</td>\n",
       "      <td>tanh</td>\n",
       "      <td>-2</td>\n",
       "      <td>50</td>\n",
       "      <td>0.469543</td>\n",
       "      <td>0.986824</td>\n",
       "      <td>0.00001</td>\n",
       "      <td>0.541412</td>\n",
       "      <td>20</td>\n",
       "      <td>50</td>\n",
       "    </tr>\n",
       "    <tr>\n",
       "      <th>276</th>\n",
       "      <td>0.000007</td>\n",
       "      <td>rel</td>\n",
       "      <td>-4</td>\n",
       "      <td>50</td>\n",
       "      <td>0.111890</td>\n",
       "      <td>0.987861</td>\n",
       "      <td>0.00001</td>\n",
       "      <td>0.420893</td>\n",
       "      <td>20</td>\n",
       "      <td>50</td>\n",
       "    </tr>\n",
       "    <tr>\n",
       "      <th>263</th>\n",
       "      <td>0.000008</td>\n",
       "      <td>tanh</td>\n",
       "      <td>-2</td>\n",
       "      <td>50</td>\n",
       "      <td>0.288492</td>\n",
       "      <td>0.988950</td>\n",
       "      <td>0.00001</td>\n",
       "      <td>0.192018</td>\n",
       "      <td>20</td>\n",
       "      <td>50</td>\n",
       "    </tr>\n",
       "    <tr>\n",
       "      <th>260</th>\n",
       "      <td>0.000025</td>\n",
       "      <td>rel</td>\n",
       "      <td>-5</td>\n",
       "      <td>50</td>\n",
       "      <td>0.052590</td>\n",
       "      <td>0.987093</td>\n",
       "      <td>0.00001</td>\n",
       "      <td>0.124728</td>\n",
       "      <td>20</td>\n",
       "      <td>50</td>\n",
       "    </tr>\n",
       "    <tr>\n",
       "      <th>283</th>\n",
       "      <td>0.000042</td>\n",
       "      <td>rel</td>\n",
       "      <td>-4</td>\n",
       "      <td>50</td>\n",
       "      <td>0.519180</td>\n",
       "      <td>0.961175</td>\n",
       "      <td>0.00001</td>\n",
       "      <td>0.963269</td>\n",
       "      <td>20</td>\n",
       "      <td>50</td>\n",
       "    </tr>\n",
       "    <tr>\n",
       "      <th>249</th>\n",
       "      <td>0.000082</td>\n",
       "      <td>rel</td>\n",
       "      <td>-4</td>\n",
       "      <td>50</td>\n",
       "      <td>0.198294</td>\n",
       "      <td>0.946421</td>\n",
       "      <td>0.00001</td>\n",
       "      <td>0.013411</td>\n",
       "      <td>20</td>\n",
       "      <td>50</td>\n",
       "    </tr>\n",
       "    <tr>\n",
       "      <th>252</th>\n",
       "      <td>0.000110</td>\n",
       "      <td>tanh</td>\n",
       "      <td>-2</td>\n",
       "      <td>50</td>\n",
       "      <td>0.099660</td>\n",
       "      <td>0.985439</td>\n",
       "      <td>0.00001</td>\n",
       "      <td>0.943870</td>\n",
       "      <td>20</td>\n",
       "      <td>50</td>\n",
       "    </tr>\n",
       "    <tr>\n",
       "      <th>265</th>\n",
       "      <td>0.000114</td>\n",
       "      <td>rel</td>\n",
       "      <td>-8</td>\n",
       "      <td>50</td>\n",
       "      <td>0.139975</td>\n",
       "      <td>0.983535</td>\n",
       "      <td>0.00001</td>\n",
       "      <td>0.836018</td>\n",
       "      <td>20</td>\n",
       "      <td>50</td>\n",
       "    </tr>\n",
       "  </tbody>\n",
       "</table>\n",
       "</div>"
      ],
      "text/plain": [
       "       result activation  f_bias  num_layers  initial_lr  lr_factor   lr_min  \\\n",
       "235  0.000007       tanh      -2          50    0.469543   0.986824  0.00001   \n",
       "276  0.000007        rel      -4          50    0.111890   0.987861  0.00001   \n",
       "263  0.000008       tanh      -2          50    0.288492   0.988950  0.00001   \n",
       "260  0.000025        rel      -5          50    0.052590   0.987093  0.00001   \n",
       "283  0.000042        rel      -4          50    0.519180   0.961175  0.00001   \n",
       "249  0.000082        rel      -4          50    0.198294   0.946421  0.00001   \n",
       "252  0.000110       tanh      -2          50    0.099660   0.985439  0.00001   \n",
       "265  0.000114        rel      -8          50    0.139975   0.983535  0.00001   \n",
       "\n",
       "     momentum  batch_size  size  \n",
       "235  0.541412          20    50  \n",
       "276  0.420893          20    50  \n",
       "263  0.192018          20    50  \n",
       "260  0.124728          20    50  \n",
       "283  0.963269          20    50  \n",
       "249  0.013411          20    50  \n",
       "252  0.943870          20    50  \n",
       "265  0.836018          20    50  "
      ]
     },
     "execution_count": 16,
     "metadata": {},
     "output_type": "execute_result"
    }
   ],
   "source": [
    "# Best selected models\n",
    "best_50 = [235,249,252,260,263,265,276,283]\n",
    "\n",
    "best_50_df = pd.read_csv('src/PaperHyperparameterSearch_Highway.csv').iloc[best_50]\n",
    "\n",
    "best_50_df.sort_values('result')"
   ]
  },
  {
   "cell_type": "markdown",
   "metadata": {},
   "source": [
    "**Based on the above results we restrict our search between the following ranges**\n",
    "- Bias being -5,-4,-2. \n",
    "- Initial learning rate will be chosen chosen between 0.1,0.2,0.3. \n",
    "- We will use both relu and tanh. \n",
    "- Learning rate decay factor will be between 0.98, 0.99. \n",
    "- Momentum between 0.5,0.8,0.9. \n",
    "- Batch size set to 20."
   ]
  },
  {
   "cell_type": "code",
   "execution_count": null,
   "metadata": {
    "collapsed": true
   },
   "outputs": [],
   "source": [
    "learning_rates = [0.1, 0.2, 0.3]\n",
    "learning_decay = [.98, .99]\n",
    "momentum = [0.5, 0.8, 0.9]\n",
    "activations = [T.nnet.nnet.relu,T.tanh]\n",
    "biases = [-4,-2]\n",
    "\n",
    "for act in activations:\n",
    "    for lr in learning_rates:\n",
    "         for b in biases:\n",
    "                for m in momentum:\n",
    "                    for lr_decay in learning_decay:\n",
    "                        t_0 = time.time()\n",
    "                        test_Highway_Momentum(data, learning_rate=lr, lr_decay=lr_decay, \n",
    "                                              momentum=m, n_epochs=50, n_hidden=50, \n",
    "                                              n_hiddenLayers=1, n_highwayLayers = 49, \n",
    "                                              activation_hidden = T.nnet.nnet.relu, \n",
    "                                              activation_highway = act, b_T = b,\n",
    "                                              batch_size=20, verbose=True, \n",
    "                                              early_stopping=False)\n",
    "                        print(time.time()-t_0,act,lr,b,m,lr_decay)"
   ]
  },
  {
   "cell_type": "code",
   "execution_count": 17,
   "metadata": {
    "collapsed": false
   },
   "outputs": [
    {
     "data": {
      "text/plain": [
       "Running time                                               6.77815\n",
       "XEntropy                                               0.000683122\n",
       "Test performance                                                 0\n",
       "Best Validation score                                          inf\n",
       "Max epochs                                                      50\n",
       "N epochs                                                        50\n",
       "Activation function - hidden     <function relu at 0x7f413b20fa28>\n",
       "Activation function - highway            Elemwise{tanh,no_inplace}\n",
       "L2_reg parameter                                                 0\n",
       "L1_reg parameter                                                 0\n",
       "Batch size                                                      20\n",
       "Iterations                                                       1\n",
       "Hidden neurons per layer                                        50\n",
       "Hidden Layers                                                    1\n",
       "Highway Layers                                                  49\n",
       "Learning rate                                                  0.3\n",
       "lr_decay                                                      0.98\n",
       "momentum                                                       0.5\n",
       "Patience                                                     10000\n",
       "b_T                                                             -4\n",
       "Name: 0, dtype: object"
      ]
     },
     "execution_count": 17,
     "metadata": {},
     "output_type": "execute_result"
    }
   ],
   "source": [
    "res = pd.read_csv('src/Results50.csv').sort_values('XEntropy').iloc[:,1:]\n",
    "res.sort_values('XEntropy').iloc[0]"
   ]
  },
  {
   "cell_type": "code",
   "execution_count": null,
   "metadata": {
    "collapsed": true
   },
   "outputs": [],
   "source": [
    "test_Highway_Momentum(data,\n",
    "                      learning_rate=0.1,\n",
    "                      lr_decay=0.9,\n",
    "                      momentum=0.9,\n",
    "                      n_epochs=400, n_hidden=1,\n",
    "                      n_hiddenLayers=50, n_highwayLayers = 49, \n",
    "                      activation_hidden = T.nnet.nnet.relu, \n",
    "                      activation_highway = T.nnet.nnet.relu, b_T = -2,\n",
    "                      batch_size=20, verbose=True, \n",
    "                      early_stopping=False)"
   ]
  },
  {
   "cell_type": "code",
   "execution_count": 40,
   "metadata": {
    "collapsed": false,
    "scrolled": true
   },
   "outputs": [
    {
     "data": {
      "text/html": [
       "<div>\n",
       "<table border=\"1\" class=\"dataframe\">\n",
       "  <thead>\n",
       "    <tr style=\"text-align: right;\">\n",
       "      <th></th>\n",
       "      <th>XEntropy</th>\n",
       "    </tr>\n",
       "  </thead>\n",
       "  <tbody>\n",
       "    <tr>\n",
       "      <th>396</th>\n",
       "      <td>0.000021</td>\n",
       "    </tr>\n",
       "    <tr>\n",
       "      <th>397</th>\n",
       "      <td>0.000021</td>\n",
       "    </tr>\n",
       "    <tr>\n",
       "      <th>398</th>\n",
       "      <td>0.000021</td>\n",
       "    </tr>\n",
       "    <tr>\n",
       "      <th>399</th>\n",
       "      <td>0.000021</td>\n",
       "    </tr>\n",
       "    <tr>\n",
       "      <th>400</th>\n",
       "      <td>0.000020</td>\n",
       "    </tr>\n",
       "  </tbody>\n",
       "</table>\n",
       "</div>"
      ],
      "text/plain": [
       "     XEntropy\n",
       "396  0.000021\n",
       "397  0.000021\n",
       "398  0.000021\n",
       "399  0.000021\n",
       "400  0.000020"
      ]
     },
     "execution_count": 40,
     "metadata": {},
     "output_type": "execute_result"
    }
   ],
   "source": [
    "xentropy_highway_50 = pickle.load(open(\"src/cross_entropy_50.p\", \"rb\"))\n",
    "xentropy_highway_50_df = pd.DataFrame.from_dict(xentropy_highway_50,orient='index')\n",
    "xentropy_highway_50_df.columns= ['XEntropy']\n",
    "xentropy_highway_50_df.tail()"
   ]
  },
  {
   "cell_type": "code",
   "execution_count": 18,
   "metadata": {
    "collapsed": false
   },
   "outputs": [
    {
     "data": {
      "text/html": [
       "<div>\n",
       "<table border=\"1\" class=\"dataframe\">\n",
       "  <thead>\n",
       "    <tr style=\"text-align: right;\">\n",
       "      <th></th>\n",
       "      <th>XEntropy</th>\n",
       "    </tr>\n",
       "  </thead>\n",
       "  <tbody>\n",
       "    <tr>\n",
       "      <th>396</th>\n",
       "      <td>2.299921</td>\n",
       "    </tr>\n",
       "    <tr>\n",
       "      <th>397</th>\n",
       "      <td>2.299921</td>\n",
       "    </tr>\n",
       "    <tr>\n",
       "      <th>398</th>\n",
       "      <td>2.299921</td>\n",
       "    </tr>\n",
       "    <tr>\n",
       "      <th>399</th>\n",
       "      <td>2.299921</td>\n",
       "    </tr>\n",
       "    <tr>\n",
       "      <th>400</th>\n",
       "      <td>2.299921</td>\n",
       "    </tr>\n",
       "  </tbody>\n",
       "</table>\n",
       "</div>"
      ],
      "text/plain": [
       "     XEntropy\n",
       "396  2.299921\n",
       "397  2.299921\n",
       "398  2.299921\n",
       "399  2.299921\n",
       "400  2.299921"
      ]
     },
     "execution_count": 18,
     "metadata": {},
     "output_type": "execute_result"
    }
   ],
   "source": [
    "xentropy_plain_50 = pickle.load(open(\"src/cross_entropy_plain_50.p\", \"rb\"))\n",
    "xentropy_plain_50_df = pd.DataFrame.from_dict(xentropy_plain_50,orient='index')\n",
    "xentropy_plain_50_df.columns= ['XEntropy']\n",
    "xentropy_plain_50_df.tail()"
   ]
  },
  {
   "cell_type": "markdown",
   "metadata": {},
   "source": [
    "#### Obtaining the data for the Gate and Block output and biases"
   ]
  },
  {
   "cell_type": "code",
   "execution_count": null,
   "metadata": {
    "collapsed": true
   },
   "outputs": [],
   "source": [
    "from HighwayNetworksOutput import test_Highway_Momentum_output\n",
    "\n",
    "gate_biases, gate_outputs, block_outputs = test_Highway_Momentum_output(data, learning_rate=.3,                                                                 lr_decay=.98,\n",
    "                      momentum=.5, n_epochs=400, n_hidden=50, \n",
    "                      n_hiddenLayers=1, n_highwayLayers = 49, \n",
    "                      activation_hidden = T.nnet.nnet.relu, \n",
    "                      activation_highway = T.tanh, \n",
    "                      b_T = -4, batch_size=20, verbose=True, \n",
    "                      early_stopping=False)"
   ]
  },
  {
   "cell_type": "code",
   "execution_count": null,
   "metadata": {
    "collapsed": true
   },
   "outputs": [],
   "source": [
    "# Obtaining the mean \n",
    "res = np.zeros((50,50))\n",
    "for idx in gate_outputs[0].keys()[-2:]:\n",
    "    gate_output = np.zeros(50)\n",
    "    for h in range(len(gate_outputs[0][idx])):\n",
    "         gate_output = np.vstack((gate_output,gate_outputs[0][idx][h].mean(axis=0)))\n",
    "    res = res + gate_output\n",
    "res = res[1:]/2\n",
    "\n",
    "# Transform gate biases\n",
    "biases = np.zeros(50)\n",
    "for b_T in gate_biases[5:-2][::4]:\n",
    "    biases = np.vstack((biases,b_T.eval()))\n",
    "    \n",
    "gate_output = np.zeros(50)\n",
    "for h in range(len(gate_outputs[1])):\n",
    "     gate_output = np.vstack((gate_output,gate_outputs[1][h][0]))\n",
    "        \n",
    "block_output = np.zeros(50)\n",
    "for h in range(len(block_outputs)):\n",
    "     block_output = np.vstack((block_output,block_outputs[h][0]))\n",
    "\n",
    "\n",
    "fig = plt.figure(figsize=((12,10)))\n",
    "plt.subplot(221)\n",
    "plt.imshow(biases[1:], cmap=cm.coolwarm, interpolation='nearest')\n",
    "plt.title('Transform Gate Biases')\n",
    "plt.ylabel('Depth')\n",
    "plt.xlabel('Block')\n",
    "plt.colorbar()\n",
    "\n",
    "plt.subplot(222)\n",
    "plt.imshow(res, cmap=cm.coolwarm, interpolation='nearest')\n",
    "plt.title('Mean Transform Gate Outputs')\n",
    "plt.ylabel('Depth')\n",
    "plt.xlabel('Block')\n",
    "plt.colorbar()\n",
    "\n",
    "plt.subplot(223)\n",
    "plt.imshow(gate_output[1:], cmap=cm.coolwarm, interpolation='nearest')\n",
    "plt.title('Transform Gate Outputs')\n",
    "plt.xlabel('Block')\n",
    "plt.ylabel('Depth')\n",
    "plt.colorbar()\n",
    "\n",
    "plt.subplot(224)\n",
    "plt.imshow(block_output[1:], cmap=cm.coolwarm, interpolation='nearest')\n",
    "plt.title('Block Outputs')\n",
    "plt.ylabel('Depth')\n",
    "plt.xlabel('Block')\n",
    "plt.colorbar()\n",
    "plt.show()\n",
    "\n",
    "fig.savefig('src/figure2.png')"
   ]
  },
  {
   "cell_type": "markdown",
   "metadata": {},
   "source": [
    "### Depth 100"
   ]
  },
  {
   "cell_type": "markdown",
   "metadata": {},
   "source": [
    "**Look at the best parameters in the paper results by inspecting the graphs of the xentropy.**"
   ]
  },
  {
   "cell_type": "code",
   "execution_count": 21,
   "metadata": {
    "collapsed": false
   },
   "outputs": [
    {
     "data": {
      "text/html": [
       "<div>\n",
       "<table border=\"1\" class=\"dataframe\">\n",
       "  <thead>\n",
       "    <tr style=\"text-align: right;\">\n",
       "      <th></th>\n",
       "      <th>result</th>\n",
       "      <th>activation</th>\n",
       "      <th>f_bias</th>\n",
       "      <th>num_layers</th>\n",
       "      <th>initial_lr</th>\n",
       "      <th>lr_factor</th>\n",
       "      <th>lr_min</th>\n",
       "      <th>momentum</th>\n",
       "      <th>batch_size</th>\n",
       "      <th>size</th>\n",
       "    </tr>\n",
       "  </thead>\n",
       "  <tbody>\n",
       "    <tr>\n",
       "      <th>350</th>\n",
       "      <td>0.000159</td>\n",
       "      <td>rel</td>\n",
       "      <td>-5</td>\n",
       "      <td>100</td>\n",
       "      <td>0.075651</td>\n",
       "      <td>0.957377</td>\n",
       "      <td>0.00001</td>\n",
       "      <td>0.556220</td>\n",
       "      <td>20</td>\n",
       "      <td>50</td>\n",
       "    </tr>\n",
       "    <tr>\n",
       "      <th>373</th>\n",
       "      <td>0.000066</td>\n",
       "      <td>rel</td>\n",
       "      <td>-5</td>\n",
       "      <td>100</td>\n",
       "      <td>0.020548</td>\n",
       "      <td>0.986683</td>\n",
       "      <td>0.00001</td>\n",
       "      <td>0.908699</td>\n",
       "      <td>20</td>\n",
       "      <td>50</td>\n",
       "    </tr>\n",
       "    <tr>\n",
       "      <th>343</th>\n",
       "      <td>0.001032</td>\n",
       "      <td>tanh</td>\n",
       "      <td>-3</td>\n",
       "      <td>100</td>\n",
       "      <td>0.087203</td>\n",
       "      <td>0.967068</td>\n",
       "      <td>0.00001</td>\n",
       "      <td>0.974060</td>\n",
       "      <td>20</td>\n",
       "      <td>50</td>\n",
       "    </tr>\n",
       "    <tr>\n",
       "      <th>382</th>\n",
       "      <td>0.000458</td>\n",
       "      <td>tanh</td>\n",
       "      <td>-8</td>\n",
       "      <td>100</td>\n",
       "      <td>0.816949</td>\n",
       "      <td>0.960179</td>\n",
       "      <td>0.00001</td>\n",
       "      <td>0.845713</td>\n",
       "      <td>20</td>\n",
       "      <td>50</td>\n",
       "    </tr>\n",
       "    <tr>\n",
       "      <th>359</th>\n",
       "      <td>0.000165</td>\n",
       "      <td>rel</td>\n",
       "      <td>-10</td>\n",
       "      <td>100</td>\n",
       "      <td>0.106404</td>\n",
       "      <td>0.988661</td>\n",
       "      <td>0.00001</td>\n",
       "      <td>0.959032</td>\n",
       "      <td>20</td>\n",
       "      <td>50</td>\n",
       "    </tr>\n",
       "    <tr>\n",
       "      <th>365</th>\n",
       "      <td>0.000089</td>\n",
       "      <td>rel</td>\n",
       "      <td>-6</td>\n",
       "      <td>100</td>\n",
       "      <td>0.027763</td>\n",
       "      <td>0.989043</td>\n",
       "      <td>0.00001</td>\n",
       "      <td>0.986316</td>\n",
       "      <td>20</td>\n",
       "      <td>50</td>\n",
       "    </tr>\n",
       "  </tbody>\n",
       "</table>\n",
       "</div>"
      ],
      "text/plain": [
       "       result activation  f_bias  num_layers  initial_lr  lr_factor   lr_min  \\\n",
       "350  0.000159        rel      -5         100    0.075651   0.957377  0.00001   \n",
       "373  0.000066        rel      -5         100    0.020548   0.986683  0.00001   \n",
       "343  0.001032       tanh      -3         100    0.087203   0.967068  0.00001   \n",
       "382  0.000458       tanh      -8         100    0.816949   0.960179  0.00001   \n",
       "359  0.000165        rel     -10         100    0.106404   0.988661  0.00001   \n",
       "365  0.000089        rel      -6         100    0.027763   0.989043  0.00001   \n",
       "\n",
       "     momentum  batch_size  size  \n",
       "350  0.556220          20    50  \n",
       "373  0.908699          20    50  \n",
       "343  0.974060          20    50  \n",
       "382  0.845713          20    50  \n",
       "359  0.959032          20    50  \n",
       "365  0.986316          20    50  "
      ]
     },
     "execution_count": 21,
     "metadata": {},
     "output_type": "execute_result"
    }
   ],
   "source": [
    "# Best selected models\n",
    "best_100 = [350,373,343,382,359,365]\n",
    "\n",
    "best_100_df = pd.read_csv('src/PaperHyperparameterSearch_Highway.csv').iloc[best_100]\n",
    "\n",
    "best_100_df"
   ]
  },
  {
   "cell_type": "markdown",
   "metadata": {},
   "source": [
    "**Based on the above results we restrict our search between the following ranges**\n",
    "- Bias being -5,-6,-3. \n",
    "- Initial learning rate will be chosen chosen between 0.1,0.5 \n",
    "- We will use both relu and tanh. \n",
    "- Learning rate decay factor will be between 0.97, 0.99. \n",
    "- Momentum between 0.85,0.95. \n",
    "- Batch size set to 20."
   ]
  },
  {
   "cell_type": "code",
   "execution_count": null,
   "metadata": {
    "collapsed": true
   },
   "outputs": [],
   "source": [
    "learning_rates = [0.1, 0.05]\n",
    "learning_decay = [.97, .99]\n",
    "momentum = [0.85, 0.95]\n",
    "activations = [T.nnet.nnet.relu,T.tanh]\n",
    "biases = [-5,-6]\n",
    "\n",
    "for act in activations:\n",
    "    for lr in learning_rates:\n",
    "         for b in biases:\n",
    "                for m in momentum:\n",
    "                    for lr_decay in learning_decay:\n",
    "                        t_0 = time.time()\n",
    "                        test_Highway_Momentum(data, learning_rate=lr, lr_decay=lr_decay, \n",
    "                                              momentum=m, n_epochs=50, n_hidden=50, \n",
    "                                              n_hiddenLayers=1, n_highwayLayers = 99, \n",
    "                                              activation_hidden = T.nnet.nnet.relu, \n",
    "                                              activation_highway = act, b_T = b,\n",
    "                                              batch_size=20, verbose=True, \n",
    "                                              early_stopping=False)\n",
    "                        print(time.time()-t_0,act,lr,b,m,lr_decay)"
   ]
  },
  {
   "cell_type": "code",
   "execution_count": 47,
   "metadata": {
    "collapsed": false
   },
   "outputs": [
    {
     "data": {
      "text/plain": [
       "Unnamed: 0                                                     111\n",
       "Running time                                                18.762\n",
       "XEntropy                                                0.00255986\n",
       "Test performance                                                 0\n",
       "Best Validation score                                          inf\n",
       "Max epochs                                                      50\n",
       "N epochs                                                        50\n",
       "Activation function - hidden     <function relu at 0x7f5e7d2dea28>\n",
       "Activation function - highway    <function relu at 0x7f5e7d2dea28>\n",
       "L2_reg parameter                                                 0\n",
       "L1_reg parameter                                                 0\n",
       "Batch size                                                      20\n",
       "Iterations                                                       1\n",
       "Hidden neurons per layer                                        50\n",
       "Hidden Layers                                                    1\n",
       "Highway Layers                                                  99\n",
       "Learning rate                                                  0.1\n",
       "lr_decay                                                      0.97\n",
       "momentum                                                      0.95\n",
       "Patience                                                     10000\n",
       "b_T                                                             -6\n",
       "Name: 6, dtype: object"
      ]
     },
     "execution_count": 47,
     "metadata": {},
     "output_type": "execute_result"
    }
   ],
   "source": [
    "res = pd.read_csv('src/Results100.csv').sort_values('XEntropy')\n",
    "res.iloc[0]"
   ]
  },
  {
   "cell_type": "code",
   "execution_count": null,
   "metadata": {
    "collapsed": true
   },
   "outputs": [],
   "source": [
    "res = test_Highway_Momentum(data, learning_rate=.1, lr_decay=.97, \n",
    "                                              momentum=.95, n_epochs=400, n_hidden=50, \n",
    "                                              n_hiddenLayers=1, n_highwayLayers = 99, \n",
    "                                              activation_hidden = T.nnet.nnet.relu, \n",
    "                                              activation_highway = T.nnet.nnet.relu, b_T = -6,\n",
    "                                              batch_size=20, verbose=True,\n",
    "                                              early_stopping=False)"
   ]
  },
  {
   "cell_type": "code",
   "execution_count": 42,
   "metadata": {
    "collapsed": false
   },
   "outputs": [
    {
     "data": {
      "text/html": [
       "<div>\n",
       "<table border=\"1\" class=\"dataframe\">\n",
       "  <thead>\n",
       "    <tr style=\"text-align: right;\">\n",
       "      <th></th>\n",
       "      <th>XEntropy</th>\n",
       "    </tr>\n",
       "  </thead>\n",
       "  <tbody>\n",
       "    <tr>\n",
       "      <th>396</th>\n",
       "      <td>0.000040</td>\n",
       "    </tr>\n",
       "    <tr>\n",
       "      <th>397</th>\n",
       "      <td>0.000039</td>\n",
       "    </tr>\n",
       "    <tr>\n",
       "      <th>398</th>\n",
       "      <td>0.000039</td>\n",
       "    </tr>\n",
       "    <tr>\n",
       "      <th>399</th>\n",
       "      <td>0.000039</td>\n",
       "    </tr>\n",
       "    <tr>\n",
       "      <th>400</th>\n",
       "      <td>0.000039</td>\n",
       "    </tr>\n",
       "  </tbody>\n",
       "</table>\n",
       "</div>"
      ],
      "text/plain": [
       "     XEntropy\n",
       "396  0.000040\n",
       "397  0.000039\n",
       "398  0.000039\n",
       "399  0.000039\n",
       "400  0.000039"
      ]
     },
     "execution_count": 42,
     "metadata": {},
     "output_type": "execute_result"
    }
   ],
   "source": [
    "xentropy_highway_100 = pickle.load(open(\"src/cross_entropy_100.p\", \"rb\"))\n",
    "xentropy_highway_100_df = pd.DataFrame.from_dict(xentropy_highway_100,orient='index')\n",
    "xentropy_highway_100_df.columns= ['XEntropy']\n",
    "xentropy_highway_100_df.tail()"
   ]
  },
  {
   "cell_type": "code",
   "execution_count": 43,
   "metadata": {
    "collapsed": false
   },
   "outputs": [
    {
     "data": {
      "text/html": [
       "<div>\n",
       "<table border=\"1\" class=\"dataframe\">\n",
       "  <thead>\n",
       "    <tr style=\"text-align: right;\">\n",
       "      <th></th>\n",
       "      <th>XEntropy</th>\n",
       "    </tr>\n",
       "  </thead>\n",
       "  <tbody>\n",
       "    <tr>\n",
       "      <th>1</th>\n",
       "      <td>2.302409</td>\n",
       "    </tr>\n",
       "    <tr>\n",
       "      <th>2</th>\n",
       "      <td>2.301968</td>\n",
       "    </tr>\n",
       "    <tr>\n",
       "      <th>3</th>\n",
       "      <td>2.301586</td>\n",
       "    </tr>\n",
       "    <tr>\n",
       "      <th>4</th>\n",
       "      <td>2.301263</td>\n",
       "    </tr>\n",
       "    <tr>\n",
       "      <th>5</th>\n",
       "      <td>2.300992</td>\n",
       "    </tr>\n",
       "  </tbody>\n",
       "</table>\n",
       "</div>"
      ],
      "text/plain": [
       "   XEntropy\n",
       "1  2.302409\n",
       "2  2.301968\n",
       "3  2.301586\n",
       "4  2.301263\n",
       "5  2.300992"
      ]
     },
     "execution_count": 43,
     "metadata": {},
     "output_type": "execute_result"
    }
   ],
   "source": [
    "xentropy_plain_100 = pickle.load(open(\"src/cross_entropy_plain_100.p\", \"rb\"))\n",
    "xentropy_plain_100_df = pd.DataFrame.from_dict(xentropy_plain_100,orient='index')\n",
    "xentropy_plain_100_df.columns= ['XEntropy']\n",
    "xentropy_plain_100_df.head()"
   ]
  },
  {
   "cell_type": "code",
   "execution_count": 45,
   "metadata": {
    "collapsed": false
   },
   "outputs": [
    {
     "data": {
      "image/png": "[encoded data removed]",
      "text/plain": [
       "<matplotlib.figure.Figure at 0x7efdc540f150>"
      ]
     },
     "metadata": {},
     "output_type": "display_data"
    }
   ],
   "source": [
    "# Plotting results for the Depth 10,20,50,100 architecture\n",
    "\n",
    "fig = plt.figure(figsize=((12,10)))\n",
    "plt.subplot(221)\n",
    "plt.plot(xentropy_plain_10_df.XEntropy.values,label='plain')\n",
    "plt.plot(xentropy_highway_10_df.XEntropy.values,label='highway')\n",
    "plt.yscale('log')\n",
    "plt.ylabel('Mean Cross Entropy Error')\n",
    "plt.xlabel('Number of Epochs')\n",
    "plt.legend()\n",
    "plt.title('Depth 10')\n",
    "\n",
    "\n",
    "plt.subplot(222)\n",
    "plt.plot(xentropy_plain_20_df.XEntropy.values,label='plain')\n",
    "plt.plot(xentropy_highway_20_df.XEntropy.values,label='highway')\n",
    "plt.yscale('log')\n",
    "plt.ylabel('Mean Cross Entropy Error')\n",
    "plt.xlabel('Number of Epochs')\n",
    "plt.legend()\n",
    "plt.title('Depth 20')\n",
    "\n",
    "plt.subplot(223)\n",
    "plt.plot(xentropy_plain_50_df.XEntropy.values,label='plain')\n",
    "plt.plot(xentropy_highway_50_df.XEntropy.values,label='highway')\n",
    "plt.yscale('log')\n",
    "plt.ylabel('Mean Cross Entropy Error')\n",
    "plt.xlabel('Number of Epochs')\n",
    "plt.legend()\n",
    "plt.title('Depth 50')\n",
    "\n",
    "plt.subplot(224)\n",
    "plt.plot(xentropy_plain_100_df.XEntropy.values,label='plain')\n",
    "plt.plot(xentropy_highway_100_df.XEntropy.values,label='highway')\n",
    "plt.yscale('log')\n",
    "plt.ylabel('Mean Cross Entropy Error')\n",
    "plt.xlabel('Number of Epochs')\n",
    "plt.title('Depth 100')\n",
    "plt.legend()\n",
    "plt.show()\n",
    "\n",
    "fig.savefig('figure1.png')"
   ]
  },
  {
   "cell_type": "markdown",
   "metadata": {},
   "source": [
    "# Deep Residual Learning for Image Recognition"
   ]
  },
  {
   "cell_type": "code",
   "execution_count": null,
   "metadata": {
    "collapsed": true
   },
   "outputs": [],
   "source": [
    "from project_nn_resnet import load_data_SVHN\n",
    "from ConvHighwayNetworks import test_ConvHighway\n",
    "data = load_data_SVHN(ds_rate=None,theano_shared=True, validation=False)"
   ]
  },
  {
   "cell_type": "code",
   "execution_count": null,
   "metadata": {
    "collapsed": true
   },
   "outputs": [],
   "source": [
    "test_ConvHighway(data, model=1, learning_rate=0.025, lr_decay=0.1, momentum=0.9, \n",
    "                 step_values = [30000, 100000, 150000, 175000], \n",
    "                 n_epochs=400, b_T=-2, drop_rate=0.2, batch_size=100, verbose=True)"
   ]
  },
  {
   "cell_type": "code",
   "execution_count": null,
   "metadata": {
    "collapsed": false
   },
   "outputs": [],
   "source": [
    "# Highway 1\n",
    "test_ConvHighway(data, model=1, learning_rate=0.025, lr_decay=0.1, momentum=0.9,\n",
    "                 step_values = [100000, 150000, 175000], \n",
    "                 n_epochs=400, b_T=-2, drop_rate=0.2, batch_size=100, verbose=True)"
   ]
  },
  {
   "cell_type": "code",
   "execution_count": null,
   "metadata": {
    "collapsed": true
   },
   "outputs": [],
   "source": [
    "## Highway 2\n",
    "# used different step_values\n",
    "test_ConvHighway(data, model=2, learning_rate=0.025, lr_decay=0.316, \n",
    "                 momentum=0.9, step_values = [30000, 100000, 130000, 150000, 165000, 175000], \n",
    "                 n_epochs=400, b_T=-2, drop_rate=0.2, batch_size=100, verbose=True)"
   ]
  },
  {
   "cell_type": "code",
   "execution_count": null,
   "metadata": {
    "collapsed": true
   },
   "outputs": [],
   "source": [
    "## ResNet 1\n",
    "test_ConvHighway(data, model=11, learning_rate=0.025, lr_decay=0.1, momentum=0.9,\n",
    "                 step_values = [100000, 150000, 175000], \n",
    "                 n_epochs=400, drop_rate=0.2, batch_size=100, verbose=True)"
   ]
  },
  {
   "cell_type": "code",
   "execution_count": null,
   "metadata": {
    "collapsed": true
   },
   "outputs": [],
   "source": [
    "## ResNet 2\n",
    "test_ConvHighway(data, model=12, learning_rate=0.025, lr_decay=0.1, momentum=0.9,\n",
    "                 step_values = [100000, 150000, 175000], \n",
    "                 n_epochs=400, drop_rate=0.2, batch_size=100, verbose=True)"
   ]
  }
 ],
 "metadata": {
  "kernelspec": {
   "display_name": "Python 2",
   "language": "python",
   "name": "python2"
  },
  "language_info": {
   "codemirror_mode": {
    "name": "ipython",
    "version": 2
   },
   "file_extension": ".py",
   "mimetype": "text/x-python",
   "name": "python",
   "nbconvert_exporter": "python",
   "pygments_lexer": "ipython2",
   "version": "2.7.12"
  }
 },
 "nbformat": 4,
 "nbformat_minor": 1
}
