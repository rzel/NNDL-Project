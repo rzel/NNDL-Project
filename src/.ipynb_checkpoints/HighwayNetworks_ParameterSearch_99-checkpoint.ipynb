{
 "cells": [
  {
   "cell_type": "markdown",
   "metadata": {},
   "source": [
    "You are not supposed to do that intensive hyper parameter search, and without a powerful server (and enough time) you should not try that either. Reproducing the figure does not mean you have to exactly reproduce the results, since you have limited amount of computational resources available.\n",
    " \n",
    "For this particular case, you can take few trials to find parameter settings for each depth, then experiment with plain/highway networks. I would recommend you to do something like:\n",
    " \n",
    "(1) Use 10% dataset for debugging and doing parameter searching in a coarser level., e.g. find a proper range for batch size/learning rate.\n",
    " \n",
    "(2) Use less epochs when doing hyper parameter search; in this case, you can find that the performances for plain/highway networks show significant difference within 50 epochs.\n",
    " \n",
    "(3) If you have your laptop ready for Theano (CPU is also ok), run simpler experiments on your laptop, e.g., smaller model/dataset, easier tasks, etc. You can start running your script before going to sleep, and check the result when you wake up.\n",
    " \n",
    "From my personal experience, these tricks can be applied to most of the tasks."
   ]
  },
  {
   "cell_type": "code",
   "execution_count": null,
   "metadata": {
    "collapsed": false,
    "scrolled": false
   },
   "outputs": [
    {
     "name": "stderr",
     "output_type": "stream",
     "text": [
      "Using gpu device 0: GeForce GTX 960M (CNMeM is disabled, cuDNN 5103)\n",
      "/usr/local/lib/python2.7/dist-packages/theano/sandbox/cuda/__init__.py:600: UserWarning: Your cuDNN version is more recent than the one Theano officially supports. If you see any problems, try updating Theano or downgrading cuDNN to version 5.\n",
      "  warnings.warn(warn)\n",
      "/usr/local/lib/python2.7/dist-packages/theano/tensor/signal/downsample.py:6: UserWarning: downsample module has been moved to the theano.tensor.signal.pool module.\n",
      "  \"downsample module has been moved to the theano.tensor.signal.pool module.\")\n"
     ]
    },
    {
     "name": "stdout",
     "output_type": "stream",
     "text": [
      "... loading data\n",
      "... building the model\n",
      "Optimization complete.\n",
      "Best validation score of 11.390000 % obtained at iteration 25000, with test performance 11.790000 %\n",
      "Highway layers = 9 ,batch_size = 100 ,learning rate = 0.1 ,rho = 0.5\n",
      "... building the model\n"
     ]
    },
    {
     "name": "stderr",
     "output_type": "stream",
     "text": [
      "The training process for function test_Highway ran for 2.31m\n"
     ]
    },
    {
     "name": "stdout",
     "output_type": "stream",
     "text": [
      "Optimization complete.\n",
      "Best validation score of 19.720000 % obtained at iteration 25000, with test performance 20.750000 %\n",
      "Highway layers = 9 ,batch_size = 100 ,learning rate = 0.1 ,rho = 0.9\n",
      "... building the model\n"
     ]
    },
    {
     "name": "stderr",
     "output_type": "stream",
     "text": [
      "The training process for function test_Highway ran for 2.30m\n"
     ]
    },
    {
     "name": "stdout",
     "output_type": "stream",
     "text": [
      "Optimization complete.\n",
      "Best validation score of 89.100000 % obtained at iteration 9500, with test performance 89.720000 %\n",
      "Highway layers = 9 ,batch_size = 100 ,learning rate = 0.1 ,rho = 0.99\n",
      "... building the model\n"
     ]
    },
    {
     "name": "stderr",
     "output_type": "stream",
     "text": [
      "The training process for function test_Highway ran for 2.26m\n"
     ]
    },
    {
     "name": "stdout",
     "output_type": "stream",
     "text": [
      "Optimization complete.\n",
      "Best validation score of 8.290000 % obtained at iteration 24500, with test performance 9.010000 %\n",
      "Highway layers = 9 ,batch_size = 100 ,learning rate = 0.05 ,rho = 0.5\n",
      "... building the model\n"
     ]
    },
    {
     "name": "stderr",
     "output_type": "stream",
     "text": [
      "The training process for function test_Highway ran for 2.31m\n"
     ]
    },
    {
     "name": "stdout",
     "output_type": "stream",
     "text": [
      "Optimization complete.\n",
      "Best validation score of 11.750000 % obtained at iteration 21500, with test performance 12.070000 %\n",
      "Highway layers = 9 ,batch_size = 100 ,learning rate = 0.05 ,rho = 0.9\n",
      "... building the model\n"
     ]
    },
    {
     "name": "stderr",
     "output_type": "stream",
     "text": [
      "The training process for function test_Highway ran for 2.37m\n"
     ]
    },
    {
     "name": "stdout",
     "output_type": "stream",
     "text": [
      "Optimization complete.\n",
      "Best validation score of 90.090000 % obtained at iteration 500, with test performance 90.210000 %\n",
      "Highway layers = 9 ,batch_size = 100 ,learning rate = 0.05 ,rho = 0.99\n",
      "... building the model\n"
     ]
    },
    {
     "name": "stderr",
     "output_type": "stream",
     "text": [
      "The training process for function test_Highway ran for 0.90m\n"
     ]
    },
    {
     "name": "stdout",
     "output_type": "stream",
     "text": [
      "Optimization complete.\n",
      "Best validation score of 4.280000 % obtained at iteration 16000, with test performance 4.680000 %\n",
      "Highway layers = 9 ,batch_size = 100 ,learning rate = 0.01 ,rho = 0.5\n",
      "... building the model\n"
     ]
    },
    {
     "name": "stderr",
     "output_type": "stream",
     "text": [
      "The training process for function test_Highway ran for 2.29m\n"
     ]
    },
    {
     "name": "stdout",
     "output_type": "stream",
     "text": [
      "Optimization complete.\n",
      "Best validation score of 3.600000 % obtained at iteration 23500, with test performance 4.100000 %\n",
      "Highway layers = 9 ,batch_size = 100 ,learning rate = 0.01 ,rho = 0.9\n",
      "... building the model\n"
     ]
    },
    {
     "name": "stderr",
     "output_type": "stream",
     "text": [
      "The training process for function test_Highway ran for 2.34m\n"
     ]
    },
    {
     "name": "stdout",
     "output_type": "stream",
     "text": [
      "Optimization complete.\n",
      "Best validation score of 4.770000 % obtained at iteration 10500, with test performance 5.320000 %\n",
      "Highway layers = 9 ,batch_size = 100 ,learning rate = 0.01 ,rho = 0.99\n",
      "... building the model\n"
     ]
    },
    {
     "name": "stderr",
     "output_type": "stream",
     "text": [
      "The training process for function test_Highway ran for 2.27m\n"
     ]
    },
    {
     "name": "stdout",
     "output_type": "stream",
     "text": [
      "Optimization complete.\n",
      "Best validation score of 3.210000 % obtained at iteration 20000, with test performance 3.560000 %\n",
      "Highway layers = 9 ,batch_size = 100 ,learning rate = 0.005 ,rho = 0.5\n",
      "... building the model\n"
     ]
    },
    {
     "name": "stderr",
     "output_type": "stream",
     "text": [
      "The training process for function test_Highway ran for 2.29m\n"
     ]
    },
    {
     "name": "stdout",
     "output_type": "stream",
     "text": [
      "Optimization complete.\n",
      "Best validation score of 3.150000 % obtained at iteration 17000, with test performance 3.830000 %\n",
      "Highway layers = 9 ,batch_size = 100 ,learning rate = 0.005 ,rho = 0.9\n",
      "... building the model\n"
     ]
    },
    {
     "name": "stderr",
     "output_type": "stream",
     "text": [
      "The training process for function test_Highway ran for 2.33m\n"
     ]
    },
    {
     "name": "stdout",
     "output_type": "stream",
     "text": [
      "Optimization complete.\n",
      "Best validation score of 3.260000 % obtained at iteration 11000, with test performance 3.770000 %\n",
      "Highway layers = 9 ,batch_size = 100 ,learning rate = 0.005 ,rho = 0.99\n",
      "... building the model\n"
     ]
    },
    {
     "name": "stderr",
     "output_type": "stream",
     "text": [
      "The training process for function test_Highway ran for 2.29m\n"
     ]
    },
    {
     "name": "stdout",
     "output_type": "stream",
     "text": [
      "Optimization complete.\n",
      "Best validation score of 16.080000 % obtained at iteration 10000, with test performance 17.590000 %\n",
      "Highway layers = 9 ,batch_size = 250 ,learning rate = 0.1 ,rho = 0.5\n",
      "... building the model\n"
     ]
    },
    {
     "name": "stderr",
     "output_type": "stream",
     "text": [
      "The training process for function test_Highway ran for 1.12m\n"
     ]
    },
    {
     "name": "stdout",
     "output_type": "stream",
     "text": [
      "Optimization complete.\n",
      "Best validation score of 20.030000 % obtained at iteration 6400, with test performance 20.540000 %\n",
      "Highway layers = 9 ,batch_size = 250 ,learning rate = 0.1 ,rho = 0.9\n",
      "... building the model\n"
     ]
    },
    {
     "name": "stderr",
     "output_type": "stream",
     "text": [
      "The training process for function test_Highway ran for 1.08m\n"
     ]
    },
    {
     "name": "stdout",
     "output_type": "stream",
     "text": [
      "Optimization complete.\n",
      "Best validation score of 46.730000 % obtained at iteration 8000, with test performance 48.920000 %\n",
      "Highway layers = 9 ,batch_size = 250 ,learning rate = 0.1 ,rho = 0.99\n",
      "... building the model\n"
     ]
    },
    {
     "name": "stderr",
     "output_type": "stream",
     "text": [
      "The training process for function test_Highway ran for 1.09m\n"
     ]
    },
    {
     "name": "stdout",
     "output_type": "stream",
     "text": [
      "Optimization complete.\n",
      "Best validation score of 7.140000 % obtained at iteration 9000, with test performance 7.610000 %\n",
      "Highway layers = 9 ,batch_size = 250 ,learning rate = 0.05 ,rho = 0.5\n",
      "... building the model\n"
     ]
    },
    {
     "name": "stderr",
     "output_type": "stream",
     "text": [
      "The training process for function test_Highway ran for 1.11m\n"
     ]
    },
    {
     "name": "stdout",
     "output_type": "stream",
     "text": [
      "Optimization complete.\n",
      "Best validation score of 8.020000 % obtained at iteration 10000, with test performance 8.940000 %\n",
      "Highway layers = 9 ,batch_size = 250 ,learning rate = 0.05 ,rho = 0.9\n",
      "... building the model\n"
     ]
    },
    {
     "name": "stderr",
     "output_type": "stream",
     "text": [
      "The training process for function test_Highway ran for 1.20m\n"
     ]
    },
    {
     "name": "stdout",
     "output_type": "stream",
     "text": [
      "Optimization complete.\n",
      "Best validation score of 14.870000 % obtained at iteration 7000, with test performance 15.300000 %\n",
      "Highway layers = 9 ,batch_size = 250 ,learning rate = 0.05 ,rho = 0.99\n",
      "... building the model\n"
     ]
    },
    {
     "name": "stderr",
     "output_type": "stream",
     "text": [
      "The training process for function test_Highway ran for 1.10m\n"
     ]
    },
    {
     "name": "stdout",
     "output_type": "stream",
     "text": [
      "Optimization complete.\n",
      "Best validation score of 3.380000 % obtained at iteration 7600, with test performance 3.630000 %\n",
      "Highway layers = 9 ,batch_size = 250 ,learning rate = 0.01 ,rho = 0.5\n",
      "... building the model\n"
     ]
    },
    {
     "name": "stderr",
     "output_type": "stream",
     "text": [
      "The training process for function test_Highway ran for 1.13m\n"
     ]
    },
    {
     "name": "stdout",
     "output_type": "stream",
     "text": [
      "Optimization complete.\n",
      "Best validation score of 3.460000 % obtained at iteration 9000, with test performance 4.140000 %\n",
      "Highway layers = 9 ,batch_size = 250 ,learning rate = 0.01 ,rho = 0.9\n",
      "... building the model\n"
     ]
    },
    {
     "name": "stderr",
     "output_type": "stream",
     "text": [
      "The training process for function test_Highway ran for 1.19m\n"
     ]
    },
    {
     "name": "stdout",
     "output_type": "stream",
     "text": [
      "Optimization complete.\n",
      "Best validation score of 4.440000 % obtained at iteration 9200, with test performance 4.580000 %\n",
      "Highway layers = 9 ,batch_size = 250 ,learning rate = 0.01 ,rho = 0.99\n",
      "... building the model\n"
     ]
    },
    {
     "name": "stderr",
     "output_type": "stream",
     "text": [
      "The training process for function test_Highway ran for 1.17m\n"
     ]
    },
    {
     "name": "stdout",
     "output_type": "stream",
     "text": [
      "Optimization complete.\n",
      "Best validation score of 3.190000 % obtained at iteration 6600, with test performance 3.330000 %\n",
      "Highway layers = 9 ,batch_size = 250 ,learning rate = 0.005 ,rho = 0.5\n",
      "... building the model\n"
     ]
    },
    {
     "name": "stderr",
     "output_type": "stream",
     "text": [
      "The training process for function test_Highway ran for 1.18m\n"
     ]
    },
    {
     "name": "stdout",
     "output_type": "stream",
     "text": [
      "Optimization complete.\n",
      "Best validation score of 3.010000 % obtained at iteration 7000, with test performance 3.460000 %\n",
      "Highway layers = 9 ,batch_size = 250 ,learning rate = 0.005 ,rho = 0.9\n",
      "... building the model\n"
     ]
    },
    {
     "name": "stderr",
     "output_type": "stream",
     "text": [
      "The training process for function test_Highway ran for 1.20m\n"
     ]
    },
    {
     "name": "stdout",
     "output_type": "stream",
     "text": [
      "Optimization complete.\n",
      "Best validation score of 3.320000 % obtained at iteration 8400, with test performance 3.920000 %\n",
      "Highway layers = 9 ,batch_size = 250 ,learning rate = 0.005 ,rho = 0.99\n",
      "... building the model\n"
     ]
    },
    {
     "name": "stderr",
     "output_type": "stream",
     "text": [
      "The training process for function test_Highway ran for 1.07m\n"
     ]
    },
    {
     "name": "stdout",
     "output_type": "stream",
     "text": [
      "Optimization complete.\n",
      "Best validation score of 15.460000 % obtained at iteration 4300, with test performance 14.940000 %\n",
      "Highway layers = 9 ,batch_size = 500 ,learning rate = 0.1 ,rho = 0.5\n",
      "... building the model\n"
     ]
    },
    {
     "name": "stderr",
     "output_type": "stream",
     "text": [
      "The training process for function test_Highway ran for 0.65m\n"
     ]
    },
    {
     "name": "stdout",
     "output_type": "stream",
     "text": [
      "Optimization complete.\n",
      "Best validation score of 20.420000 % obtained at iteration 5000, with test performance 20.580000 %\n",
      "Highway layers = 9 ,batch_size = 500 ,learning rate = 0.1 ,rho = 0.9\n",
      "... building the model\n"
     ]
    },
    {
     "name": "stderr",
     "output_type": "stream",
     "text": [
      "The training process for function test_Highway ran for 0.64m\n"
     ]
    },
    {
     "name": "stdout",
     "output_type": "stream",
     "text": [
      "Optimization complete.\n",
      "Best validation score of 89.100000 % obtained at iteration 500, with test performance 89.720000 %\n",
      "Highway layers = 9 ,batch_size = 500 ,learning rate = 0.1 ,rho = 0.99\n",
      "... building the model\n"
     ]
    },
    {
     "name": "stderr",
     "output_type": "stream",
     "text": [
      "The training process for function test_Highway ran for 0.67m\n"
     ]
    },
    {
     "name": "stdout",
     "output_type": "stream",
     "text": [
      "Optimization complete.\n",
      "Best validation score of 6.040000 % obtained at iteration 4100, with test performance 6.600000 %\n",
      "Highway layers = 9 ,batch_size = 500 ,learning rate = 0.05 ,rho = 0.5\n",
      "... building the model\n"
     ]
    },
    {
     "name": "stderr",
     "output_type": "stream",
     "text": [
      "The training process for function test_Highway ran for 0.70m\n"
     ]
    },
    {
     "name": "stdout",
     "output_type": "stream",
     "text": [
      "Optimization complete.\n",
      "Best validation score of 8.430000 % obtained at iteration 4100, with test performance 9.100000 %\n",
      "Highway layers = 9 ,batch_size = 500 ,learning rate = 0.05 ,rho = 0.9\n",
      "... building the model\n"
     ]
    },
    {
     "name": "stderr",
     "output_type": "stream",
     "text": [
      "The training process for function test_Highway ran for 0.70m\n"
     ]
    },
    {
     "name": "stdout",
     "output_type": "stream",
     "text": [
      "Optimization complete.\n",
      "Best validation score of 12.330000 % obtained at iteration 4500, with test performance 12.670000 %\n",
      "Highway layers = 9 ,batch_size = 500 ,learning rate = 0.05 ,rho = 0.99\n",
      "... building the model\n"
     ]
    },
    {
     "name": "stderr",
     "output_type": "stream",
     "text": [
      "The training process for function test_Highway ran for 0.70m\n"
     ]
    },
    {
     "name": "stdout",
     "output_type": "stream",
     "text": [
      "Optimization complete.\n",
      "Best validation score of 3.110000 % obtained at iteration 4700, with test performance 3.600000 %\n",
      "Highway layers = 9 ,batch_size = 500 ,learning rate = 0.01 ,rho = 0.5\n",
      "... building the model\n"
     ]
    },
    {
     "name": "stderr",
     "output_type": "stream",
     "text": [
      "The training process for function test_Highway ran for 0.70m\n"
     ]
    },
    {
     "name": "stdout",
     "output_type": "stream",
     "text": [
      "Optimization complete.\n",
      "Best validation score of 3.260000 % obtained at iteration 3000, with test performance 3.840000 %\n",
      "Highway layers = 9 ,batch_size = 500 ,learning rate = 0.01 ,rho = 0.9\n",
      "... building the model\n"
     ]
    },
    {
     "name": "stderr",
     "output_type": "stream",
     "text": [
      "The training process for function test_Highway ran for 0.67m\n"
     ]
    },
    {
     "name": "stdout",
     "output_type": "stream",
     "text": [
      "Optimization complete.\n",
      "Best validation score of 4.330000 % obtained at iteration 4900, with test performance 4.370000 %\n",
      "Highway layers = 9 ,batch_size = 500 ,learning rate = 0.01 ,rho = 0.99\n",
      "... building the model\n"
     ]
    },
    {
     "name": "stderr",
     "output_type": "stream",
     "text": [
      "The training process for function test_Highway ran for 0.63m\n"
     ]
    },
    {
     "name": "stdout",
     "output_type": "stream",
     "text": [
      "Optimization complete.\n",
      "Best validation score of 3.280000 % obtained at iteration 3500, with test performance 3.570000 %\n",
      "Highway layers = 9 ,batch_size = 500 ,learning rate = 0.005 ,rho = 0.5\n",
      "... building the model\n"
     ]
    },
    {
     "name": "stderr",
     "output_type": "stream",
     "text": [
      "The training process for function test_Highway ran for 0.64m\n"
     ]
    },
    {
     "name": "stdout",
     "output_type": "stream",
     "text": [
      "Optimization complete.\n",
      "Best validation score of 2.600000 % obtained at iteration 4700, with test performance 3.240000 %\n",
      "Highway layers = 9 ,batch_size = 500 ,learning rate = 0.005 ,rho = 0.9\n",
      "... building the model\n"
     ]
    },
    {
     "name": "stderr",
     "output_type": "stream",
     "text": [
      "The training process for function test_Highway ran for 0.65m\n"
     ]
    },
    {
     "name": "stdout",
     "output_type": "stream",
     "text": [
      "Optimization complete.\n",
      "Best validation score of 3.210000 % obtained at iteration 2400, with test performance 3.820000 %\n",
      "Highway layers = 9 ,batch_size = 500 ,learning rate = 0.005 ,rho = 0.99\n",
      "... building the model\n"
     ]
    },
    {
     "name": "stderr",
     "output_type": "stream",
     "text": [
      "The training process for function test_Highway ran for 0.70m\n"
     ]
    },
    {
     "name": "stdout",
     "output_type": "stream",
     "text": [
      "Optimization complete.\n",
      "Best validation score of 11.390000 % obtained at iteration 25000, with test performance 11.790000 %\n",
      "Highway layers = 9 ,batch_size = 100 ,learning rate = 0.1 ,rho = 0.5\n",
      "... building the model\n"
     ]
    },
    {
     "name": "stderr",
     "output_type": "stream",
     "text": [
      "The training process for function test_Highway ran for 2.44m\n"
     ]
    },
    {
     "name": "stdout",
     "output_type": "stream",
     "text": [
      "Optimization complete.\n",
      "Best validation score of 19.720000 % obtained at iteration 25000, with test performance 20.750000 %\n",
      "Highway layers = 9 ,batch_size = 100 ,learning rate = 0.1 ,rho = 0.9\n",
      "... building the model\n"
     ]
    },
    {
     "name": "stderr",
     "output_type": "stream",
     "text": [
      "The training process for function test_Highway ran for 2.38m\n"
     ]
    },
    {
     "name": "stdout",
     "output_type": "stream",
     "text": [
      "Optimization complete.\n",
      "Best validation score of 89.100000 % obtained at iteration 9500, with test performance 89.720000 %\n",
      "Highway layers = 9 ,batch_size = 100 ,learning rate = 0.1 ,rho = 0.99\n",
      "... building the model\n"
     ]
    },
    {
     "name": "stderr",
     "output_type": "stream",
     "text": [
      "The training process for function test_Highway ran for 2.21m\n"
     ]
    },
    {
     "name": "stdout",
     "output_type": "stream",
     "text": [
      "Optimization complete.\n",
      "Best validation score of 8.290000 % obtained at iteration 24500, with test performance 9.010000 %\n",
      "Highway layers = 9 ,batch_size = 100 ,learning rate = 0.05 ,rho = 0.5\n",
      "... building the model\n"
     ]
    },
    {
     "name": "stderr",
     "output_type": "stream",
     "text": [
      "The training process for function test_Highway ran for 2.25m\n"
     ]
    },
    {
     "name": "stdout",
     "output_type": "stream",
     "text": [
      "Optimization complete.\n",
      "Best validation score of 11.750000 % obtained at iteration 21500, with test performance 12.070000 %\n",
      "Highway layers = 9 ,batch_size = 100 ,learning rate = 0.05 ,rho = 0.9\n",
      "... building the model\n"
     ]
    },
    {
     "name": "stderr",
     "output_type": "stream",
     "text": [
      "The training process for function test_Highway ran for 2.26m\n"
     ]
    },
    {
     "name": "stdout",
     "output_type": "stream",
     "text": [
      "Optimization complete.\n",
      "Best validation score of 90.090000 % obtained at iteration 500, with test performance 90.210000 %\n",
      "Highway layers = 9 ,batch_size = 100 ,learning rate = 0.05 ,rho = 0.99\n",
      "... building the model\n"
     ]
    },
    {
     "name": "stderr",
     "output_type": "stream",
     "text": [
      "The training process for function test_Highway ran for 0.89m\n"
     ]
    },
    {
     "name": "stdout",
     "output_type": "stream",
     "text": [
      "Optimization complete.\n",
      "Best validation score of 4.280000 % obtained at iteration 16000, with test performance 4.680000 %\n",
      "Highway layers = 9 ,batch_size = 100 ,learning rate = 0.01 ,rho = 0.5\n",
      "... building the model\n"
     ]
    },
    {
     "name": "stderr",
     "output_type": "stream",
     "text": [
      "The training process for function test_Highway ran for 2.19m\n"
     ]
    },
    {
     "name": "stdout",
     "output_type": "stream",
     "text": [
      "Optimization complete.\n",
      "Best validation score of 3.600000 % obtained at iteration 23500, with test performance 4.100000 %\n",
      "Highway layers = 9 ,batch_size = 100 ,learning rate = 0.01 ,rho = 0.9\n",
      "... building the model\n"
     ]
    },
    {
     "name": "stderr",
     "output_type": "stream",
     "text": [
      "The training process for function test_Highway ran for 2.33m\n"
     ]
    },
    {
     "name": "stdout",
     "output_type": "stream",
     "text": [
      "Optimization complete.\n",
      "Best validation score of 4.770000 % obtained at iteration 10500, with test performance 5.320000 %\n",
      "Highway layers = 9 ,batch_size = 100 ,learning rate = 0.01 ,rho = 0.99\n",
      "... building the model\n"
     ]
    },
    {
     "name": "stderr",
     "output_type": "stream",
     "text": [
      "The training process for function test_Highway ran for 2.32m\n"
     ]
    },
    {
     "name": "stdout",
     "output_type": "stream",
     "text": [
      "Optimization complete.\n",
      "Best validation score of 3.210000 % obtained at iteration 20000, with test performance 3.560000 %\n",
      "Highway layers = 9 ,batch_size = 100 ,learning rate = 0.005 ,rho = 0.5\n",
      "... building the model\n"
     ]
    },
    {
     "name": "stderr",
     "output_type": "stream",
     "text": [
      "The training process for function test_Highway ran for 2.27m\n"
     ]
    },
    {
     "name": "stdout",
     "output_type": "stream",
     "text": [
      "Optimization complete.\n",
      "Best validation score of 3.150000 % obtained at iteration 17000, with test performance 3.830000 %\n",
      "Highway layers = 9 ,batch_size = 100 ,learning rate = 0.005 ,rho = 0.9\n",
      "... building the model\n"
     ]
    },
    {
     "name": "stderr",
     "output_type": "stream",
     "text": [
      "The training process for function test_Highway ran for 2.18m\n"
     ]
    },
    {
     "name": "stdout",
     "output_type": "stream",
     "text": [
      "Optimization complete.\n",
      "Best validation score of 3.260000 % obtained at iteration 11000, with test performance 3.770000 %\n",
      "Highway layers = 9 ,batch_size = 100 ,learning rate = 0.005 ,rho = 0.99\n",
      "... building the model\n"
     ]
    },
    {
     "name": "stderr",
     "output_type": "stream",
     "text": [
      "The training process for function test_Highway ran for 2.22m\n"
     ]
    },
    {
     "name": "stdout",
     "output_type": "stream",
     "text": [
      "Optimization complete.\n",
      "Best validation score of 16.080000 % obtained at iteration 10000, with test performance 17.590000 %\n",
      "Highway layers = 9 ,batch_size = 250 ,learning rate = 0.1 ,rho = 0.5\n",
      "... building the model\n"
     ]
    },
    {
     "name": "stderr",
     "output_type": "stream",
     "text": [
      "The training process for function test_Highway ran for 1.05m\n"
     ]
    },
    {
     "name": "stdout",
     "output_type": "stream",
     "text": [
      "Optimization complete.\n",
      "Best validation score of 20.030000 % obtained at iteration 6400, with test performance 20.540000 %\n",
      "Highway layers = 9 ,batch_size = 250 ,learning rate = 0.1 ,rho = 0.9\n",
      "... building the model\n"
     ]
    },
    {
     "name": "stderr",
     "output_type": "stream",
     "text": [
      "The training process for function test_Highway ran for 1.07m\n"
     ]
    },
    {
     "name": "stdout",
     "output_type": "stream",
     "text": [
      "Optimization complete.\n",
      "Best validation score of 46.730000 % obtained at iteration 8000, with test performance 48.920000 %\n",
      "Highway layers = 9 ,batch_size = 250 ,learning rate = 0.1 ,rho = 0.99\n",
      "... building the model\n"
     ]
    },
    {
     "name": "stderr",
     "output_type": "stream",
     "text": [
      "The training process for function test_Highway ran for 1.07m\n"
     ]
    },
    {
     "name": "stdout",
     "output_type": "stream",
     "text": [
      "Optimization complete.\n",
      "Best validation score of 7.140000 % obtained at iteration 9000, with test performance 7.610000 %\n",
      "Highway layers = 9 ,batch_size = 250 ,learning rate = 0.05 ,rho = 0.5\n",
      "... building the model\n"
     ]
    },
    {
     "name": "stderr",
     "output_type": "stream",
     "text": [
      "The training process for function test_Highway ran for 1.05m\n"
     ]
    },
    {
     "name": "stdout",
     "output_type": "stream",
     "text": [
      "Optimization complete.\n",
      "Best validation score of 8.020000 % obtained at iteration 10000, with test performance 8.940000 %\n",
      "Highway layers = 9 ,batch_size = 250 ,learning rate = 0.05 ,rho = 0.9\n",
      "... building the model\n"
     ]
    },
    {
     "name": "stderr",
     "output_type": "stream",
     "text": [
      "The training process for function test_Highway ran for 1.08m\n"
     ]
    },
    {
     "name": "stdout",
     "output_type": "stream",
     "text": [
      "Optimization complete.\n",
      "Best validation score of 14.870000 % obtained at iteration 7000, with test performance 15.300000 %\n",
      "Highway layers = 9 ,batch_size = 250 ,learning rate = 0.05 ,rho = 0.99\n",
      "... building the model\n"
     ]
    },
    {
     "name": "stderr",
     "output_type": "stream",
     "text": [
      "The training process for function test_Highway ran for 1.06m\n"
     ]
    },
    {
     "name": "stdout",
     "output_type": "stream",
     "text": [
      "Optimization complete.\n",
      "Best validation score of 3.380000 % obtained at iteration 7600, with test performance 3.630000 %\n",
      "Highway layers = 9 ,batch_size = 250 ,learning rate = 0.01 ,rho = 0.5\n",
      "... building the model\n"
     ]
    },
    {
     "name": "stderr",
     "output_type": "stream",
     "text": [
      "The training process for function test_Highway ran for 1.04m\n"
     ]
    },
    {
     "name": "stdout",
     "output_type": "stream",
     "text": [
      "Optimization complete.\n",
      "Best validation score of 3.460000 % obtained at iteration 9000, with test performance 4.140000 %\n",
      "Highway layers = 9 ,batch_size = 250 ,learning rate = 0.01 ,rho = 0.9\n",
      "... building the model\n"
     ]
    },
    {
     "name": "stderr",
     "output_type": "stream",
     "text": [
      "The training process for function test_Highway ran for 1.05m\n"
     ]
    },
    {
     "name": "stdout",
     "output_type": "stream",
     "text": [
      "Optimization complete.\n",
      "Best validation score of 4.440000 % obtained at iteration 9200, with test performance 4.580000 %\n",
      "Highway layers = 9 ,batch_size = 250 ,learning rate = 0.01 ,rho = 0.99\n",
      "... building the model\n"
     ]
    },
    {
     "name": "stderr",
     "output_type": "stream",
     "text": [
      "The training process for function test_Highway ran for 1.04m\n"
     ]
    },
    {
     "name": "stdout",
     "output_type": "stream",
     "text": [
      "Optimization complete.\n",
      "Best validation score of 3.190000 % obtained at iteration 6600, with test performance 3.330000 %\n",
      "Highway layers = 9 ,batch_size = 250 ,learning rate = 0.005 ,rho = 0.5\n",
      "... building the model\n"
     ]
    },
    {
     "name": "stderr",
     "output_type": "stream",
     "text": [
      "The training process for function test_Highway ran for 1.05m\n"
     ]
    },
    {
     "name": "stdout",
     "output_type": "stream",
     "text": [
      "Optimization complete.\n",
      "Best validation score of 3.010000 % obtained at iteration 7000, with test performance 3.460000 %\n",
      "Highway layers = 9 ,batch_size = 250 ,learning rate = 0.005 ,rho = 0.9\n",
      "... building the model\n"
     ]
    },
    {
     "name": "stderr",
     "output_type": "stream",
     "text": [
      "The training process for function test_Highway ran for 1.03m\n"
     ]
    },
    {
     "name": "stdout",
     "output_type": "stream",
     "text": [
      "Optimization complete.\n",
      "Best validation score of 3.320000 % obtained at iteration 8400, with test performance 3.920000 %\n",
      "Highway layers = 9 ,batch_size = 250 ,learning rate = 0.005 ,rho = 0.99\n",
      "... building the model\n"
     ]
    },
    {
     "name": "stderr",
     "output_type": "stream",
     "text": [
      "The training process for function test_Highway ran for 1.04m\n"
     ]
    },
    {
     "name": "stdout",
     "output_type": "stream",
     "text": [
      "Optimization complete.\n",
      "Best validation score of 15.460000 % obtained at iteration 4300, with test performance 14.940000 %\n",
      "Highway layers = 9 ,batch_size = 500 ,learning rate = 0.1 ,rho = 0.5\n",
      "... building the model\n"
     ]
    },
    {
     "name": "stderr",
     "output_type": "stream",
     "text": [
      "The training process for function test_Highway ran for 0.63m\n"
     ]
    },
    {
     "name": "stdout",
     "output_type": "stream",
     "text": [
      "Optimization complete.\n",
      "Best validation score of 20.420000 % obtained at iteration 5000, with test performance 20.580000 %\n",
      "Highway layers = 9 ,batch_size = 500 ,learning rate = 0.1 ,rho = 0.9\n",
      "... building the model\n"
     ]
    },
    {
     "name": "stderr",
     "output_type": "stream",
     "text": [
      "The training process for function test_Highway ran for 0.64m\n"
     ]
    },
    {
     "name": "stdout",
     "output_type": "stream",
     "text": [
      "Optimization complete.\n",
      "Best validation score of 89.100000 % obtained at iteration 500, with test performance 89.720000 %\n",
      "Highway layers = 9 ,batch_size = 500 ,learning rate = 0.1 ,rho = 0.99\n",
      "... building the model\n"
     ]
    },
    {
     "name": "stderr",
     "output_type": "stream",
     "text": [
      "The training process for function test_Highway ran for 0.62m\n"
     ]
    },
    {
     "name": "stdout",
     "output_type": "stream",
     "text": [
      "Optimization complete.\n",
      "Best validation score of 6.040000 % obtained at iteration 4100, with test performance 6.600000 %\n",
      "Highway layers = 9 ,batch_size = 500 ,learning rate = 0.05 ,rho = 0.5\n",
      "... building the model\n"
     ]
    },
    {
     "name": "stderr",
     "output_type": "stream",
     "text": [
      "The training process for function test_Highway ran for 0.62m\n"
     ]
    },
    {
     "name": "stdout",
     "output_type": "stream",
     "text": [
      "Optimization complete.\n",
      "Best validation score of 8.430000 % obtained at iteration 4100, with test performance 9.100000 %\n",
      "Highway layers = 9 ,batch_size = 500 ,learning rate = 0.05 ,rho = 0.9\n",
      "... building the model\n"
     ]
    },
    {
     "name": "stderr",
     "output_type": "stream",
     "text": [
      "The training process for function test_Highway ran for 0.62m\n"
     ]
    },
    {
     "name": "stdout",
     "output_type": "stream",
     "text": [
      "Optimization complete.\n",
      "Best validation score of 12.330000 % obtained at iteration 4500, with test performance 12.670000 %\n",
      "Highway layers = 9 ,batch_size = 500 ,learning rate = 0.05 ,rho = 0.99\n",
      "... building the model\n"
     ]
    },
    {
     "name": "stderr",
     "output_type": "stream",
     "text": [
      "The training process for function test_Highway ran for 0.63m\n"
     ]
    },
    {
     "name": "stdout",
     "output_type": "stream",
     "text": [
      "Optimization complete.\n",
      "Best validation score of 3.110000 % obtained at iteration 4700, with test performance 3.600000 %\n",
      "Highway layers = 9 ,batch_size = 500 ,learning rate = 0.01 ,rho = 0.5\n",
      "... building the model\n"
     ]
    },
    {
     "name": "stderr",
     "output_type": "stream",
     "text": [
      "The training process for function test_Highway ran for 0.63m\n"
     ]
    },
    {
     "name": "stdout",
     "output_type": "stream",
     "text": [
      "Optimization complete.\n",
      "Best validation score of 3.260000 % obtained at iteration 3000, with test performance 3.840000 %\n",
      "Highway layers = 9 ,batch_size = 500 ,learning rate = 0.01 ,rho = 0.9\n",
      "... building the model\n"
     ]
    },
    {
     "name": "stderr",
     "output_type": "stream",
     "text": [
      "The training process for function test_Highway ran for 0.63m\n"
     ]
    },
    {
     "name": "stdout",
     "output_type": "stream",
     "text": [
      "Optimization complete.\n",
      "Best validation score of 4.330000 % obtained at iteration 4900, with test performance 4.370000 %\n",
      "Highway layers = 9 ,batch_size = 500 ,learning rate = 0.01 ,rho = 0.99\n",
      "... building the model\n"
     ]
    },
    {
     "name": "stderr",
     "output_type": "stream",
     "text": [
      "The training process for function test_Highway ran for 0.62m\n"
     ]
    },
    {
     "name": "stdout",
     "output_type": "stream",
     "text": [
      "Optimization complete.\n",
      "Best validation score of 3.280000 % obtained at iteration 3500, with test performance 3.570000 %\n",
      "Highway layers = 9 ,batch_size = 500 ,learning rate = 0.005 ,rho = 0.5\n",
      "... building the model\n"
     ]
    },
    {
     "name": "stderr",
     "output_type": "stream",
     "text": [
      "The training process for function test_Highway ran for 0.63m\n"
     ]
    },
    {
     "name": "stdout",
     "output_type": "stream",
     "text": [
      "Optimization complete.\n",
      "Best validation score of 2.600000 % obtained at iteration 4700, with test performance 3.240000 %\n",
      "Highway layers = 9 ,batch_size = 500 ,learning rate = 0.005 ,rho = 0.9\n",
      "... building the model\n"
     ]
    },
    {
     "name": "stderr",
     "output_type": "stream",
     "text": [
      "The training process for function test_Highway ran for 0.62m\n"
     ]
    },
    {
     "name": "stdout",
     "output_type": "stream",
     "text": [
      "Optimization complete.\n",
      "Best validation score of 3.210000 % obtained at iteration 2400, with test performance 3.820000 %\n",
      "Highway layers = 9 ,batch_size = 500 ,learning rate = 0.005 ,rho = 0.99\n",
      "... building the model\n"
     ]
    },
    {
     "name": "stderr",
     "output_type": "stream",
     "text": [
      "The training process for function test_Highway ran for 0.63m\n"
     ]
    },
    {
     "name": "stdout",
     "output_type": "stream",
     "text": [
      "Optimization complete.\n",
      "Best validation score of 89.100000 % obtained at iteration 6500, with test performance 89.720000 %\n",
      "Highway layers = 19 ,batch_size = 100 ,learning rate = 0.1 ,rho = 0.5\n",
      "... building the model\n"
     ]
    },
    {
     "name": "stderr",
     "output_type": "stream",
     "text": [
      "The training process for function test_Highway ran for 6.10m\n"
     ]
    }
   ],
   "source": [
    "from HighwayNetworks import test_Highway\n",
    "from project_nn import load_data\n",
    "import theano.tensor as T\n",
    "\n",
    "learning_rates = [0.1, 0.05, 0.01, 0.005]\n",
    "rhos = [0.5, 0.9, 0.99]\n",
    "activations = [T.nnet.nnet.relu,T.tanh]\n",
    "# biases = [-2,-5,-8]\n",
    "batch_sizes = [100,250,500]\n",
    "hw_layers = [9,19,49,99]\n",
    "bias = -2;\n",
    "\n",
    "data = load_data('mnist.pkl.gz')\n",
    "\n",
    "for layers_H in hw_layers:\n",
    "    for act in activations:\n",
    "        for batch_size in batch_sizes:\n",
    "            for lr in learning_rates:\n",
    "                for rho in rhos: \n",
    "                    test_Highway(datasets=data,learning_rate=lr,rho = rho, n_epochs=50, n_hidden=50, n_hiddenLayers=1,\n",
    "                                 n_highwayLayers = layers_H, activation_highway = act, b_T = bias,\n",
    "                                 batch_size=batch_size,verbose=False)\n",
    "                    print('Highway layers = '+str(layers_H)+' ,batch_size = '+str(batch_size)+\n",
    "                          ' ,learning rate = '+str(lr)+' ,rho = '+str(rho))"
   ]
  },
  {
   "cell_type": "code",
   "execution_count": 1,
   "metadata": {
    "collapsed": false
   },
   "outputs": [
    {
     "name": "stderr",
     "output_type": "stream",
     "text": [
      "Using gpu device 0: GeForce GTX 960M (CNMeM is disabled, cuDNN 5103)\n",
      "/usr/local/lib/python2.7/dist-packages/theano/sandbox/cuda/__init__.py:600: UserWarning: Your cuDNN version is more recent than the one Theano officially supports. If you see any problems, try updating Theano or downgrading cuDNN to version 5.\n",
      "  warnings.warn(warn)\n",
      "/usr/local/lib/python2.7/dist-packages/theano/tensor/signal/downsample.py:6: UserWarning: downsample module has been moved to the theano.tensor.signal.pool module.\n",
      "  \"downsample module has been moved to the theano.tensor.signal.pool module.\")\n"
     ]
    },
    {
     "name": "stdout",
     "output_type": "stream",
     "text": [
      "... loading data\n",
      "... building the model\n"
     ]
    },
    {
     "ename": "RuntimeError",
     "evalue": "maximum recursion depth exceeded while calling a Python object",
     "output_type": "error",
     "traceback": [
      "\u001b[0;31m---------------------------------------------------------------------------\u001b[0m",
      "\u001b[0;31mRuntimeError\u001b[0m                              Traceback (most recent call last)",
      "\u001b[0;32m<ipython-input-1-ac374f269681>\u001b[0m in \u001b[0;36m<module>\u001b[0;34m()\u001b[0m\n\u001b[1;32m     20\u001b[0m                     test_Highway(datasets=data,learning_rate=lr,rho = rho, n_epochs=50, n_hidden=50, n_hiddenLayers=1,\n\u001b[1;32m     21\u001b[0m                                  \u001b[0mn_highwayLayers\u001b[0m \u001b[0;34m=\u001b[0m \u001b[0mlayers_H\u001b[0m\u001b[0;34m,\u001b[0m \u001b[0mactivation_highway\u001b[0m \u001b[0;34m=\u001b[0m \u001b[0mact\u001b[0m\u001b[0;34m,\u001b[0m \u001b[0mb_T\u001b[0m \u001b[0;34m=\u001b[0m \u001b[0mbias\u001b[0m\u001b[0;34m,\u001b[0m\u001b[0;34m\u001b[0m\u001b[0m\n\u001b[0;32m---> 22\u001b[0;31m                                  batch_size=batch_size,verbose=False)\n\u001b[0m\u001b[1;32m     23\u001b[0m                     print('Highway layers = '+str(layers_H)+' ,batch_size = '+str(batch_size)+\n\u001b[1;32m     24\u001b[0m                           ' ,learning rate = '+str(lr)+' ,rho = '+str(rho))\n",
      "\u001b[0;32m/home/marek/Desktop/School/Columbia/NNDL-Project/src/HighwayNetworks.pyc\u001b[0m in \u001b[0;36mtest_Highway\u001b[0;34m(datasets, learning_rate, rho, n_epochs, n_hidden, n_hiddenLayers, n_highwayLayers, activation_hidden, activation_highway, b_T, L1_reg, L2_reg, batch_size, verbose)\u001b[0m\n\u001b[1;32m    126\u001b[0m     \u001b[0;31m#    for param, gparam in zip(mlp_net.params, gparams)\u001b[0m\u001b[0;34m\u001b[0m\u001b[0;34m\u001b[0m\u001b[0m\n\u001b[1;32m    127\u001b[0m     \u001b[0;31m#]\u001b[0m\u001b[0;34m\u001b[0m\u001b[0;34m\u001b[0m\u001b[0m\n\u001b[0;32m--> 128\u001b[0;31m     \u001b[0mupdates\u001b[0m \u001b[0;34m=\u001b[0m \u001b[0mRMSprop\u001b[0m\u001b[0;34m(\u001b[0m\u001b[0mcost\u001b[0m\u001b[0;34m,\u001b[0m\u001b[0mhighway_net\u001b[0m\u001b[0;34m.\u001b[0m\u001b[0mparams\u001b[0m\u001b[0;34m,\u001b[0m\u001b[0mlr\u001b[0m \u001b[0;34m=\u001b[0m \u001b[0mlearning_rate\u001b[0m\u001b[0;34m,\u001b[0m \u001b[0mrho\u001b[0m \u001b[0;34m=\u001b[0m \u001b[0mrho\u001b[0m\u001b[0;34m)\u001b[0m\u001b[0;34m\u001b[0m\u001b[0m\n\u001b[0m\u001b[1;32m    129\u001b[0m     \u001b[0;31m#updates = Momentum(cost, mlp_net.params, eps = learning_rate,alpha = 0.9)\u001b[0m\u001b[0;34m\u001b[0m\u001b[0;34m\u001b[0m\u001b[0m\n\u001b[1;32m    130\u001b[0m \u001b[0;34m\u001b[0m\u001b[0m\n",
      "\u001b[0;32m/home/marek/Desktop/School/Columbia/NNDL-Project/src/project_nn.pyc\u001b[0m in \u001b[0;36mRMSprop\u001b[0;34m(cost, params, lr, rho, epsilon)\u001b[0m\n\u001b[1;32m    714\u001b[0m \u001b[0;34m\u001b[0m\u001b[0m\n\u001b[1;32m    715\u001b[0m \u001b[0;32mdef\u001b[0m \u001b[0mRMSprop\u001b[0m\u001b[0;34m(\u001b[0m\u001b[0mcost\u001b[0m\u001b[0;34m,\u001b[0m \u001b[0mparams\u001b[0m\u001b[0;34m,\u001b[0m \u001b[0mlr\u001b[0m\u001b[0;34m=\u001b[0m\u001b[0;36m0.01\u001b[0m\u001b[0;34m,\u001b[0m \u001b[0mrho\u001b[0m\u001b[0;34m=\u001b[0m\u001b[0;36m0.5\u001b[0m\u001b[0;34m,\u001b[0m \u001b[0mepsilon\u001b[0m\u001b[0;34m=\u001b[0m\u001b[0;36m1e-6\u001b[0m\u001b[0;34m)\u001b[0m\u001b[0;34m:\u001b[0m\u001b[0;34m\u001b[0m\u001b[0m\n\u001b[0;32m--> 716\u001b[0;31m     \u001b[0mgrads\u001b[0m \u001b[0;34m=\u001b[0m \u001b[0mT\u001b[0m\u001b[0;34m.\u001b[0m\u001b[0mgrad\u001b[0m\u001b[0;34m(\u001b[0m\u001b[0mcost\u001b[0m\u001b[0;34m=\u001b[0m\u001b[0mcost\u001b[0m\u001b[0;34m,\u001b[0m \u001b[0mwrt\u001b[0m\u001b[0;34m=\u001b[0m\u001b[0mparams\u001b[0m\u001b[0;34m)\u001b[0m\u001b[0;34m\u001b[0m\u001b[0m\n\u001b[0m\u001b[1;32m    717\u001b[0m     \u001b[0mupdates\u001b[0m \u001b[0;34m=\u001b[0m \u001b[0;34m[\u001b[0m\u001b[0;34m]\u001b[0m\u001b[0;34m\u001b[0m\u001b[0m\n\u001b[1;32m    718\u001b[0m     \u001b[0;32mfor\u001b[0m \u001b[0mp\u001b[0m\u001b[0;34m,\u001b[0m \u001b[0mg\u001b[0m \u001b[0;32min\u001b[0m \u001b[0mzip\u001b[0m\u001b[0;34m(\u001b[0m\u001b[0mparams\u001b[0m\u001b[0;34m,\u001b[0m \u001b[0mgrads\u001b[0m\u001b[0;34m)\u001b[0m\u001b[0;34m:\u001b[0m\u001b[0;34m\u001b[0m\u001b[0m\n",
      "\u001b[0;32m/usr/local/lib/python2.7/dist-packages/theano/gradient.pyc\u001b[0m in \u001b[0;36mgrad\u001b[0;34m(cost, wrt, consider_constant, disconnected_inputs, add_names, known_grads, return_disconnected, null_gradients)\u001b[0m\n\u001b[1;32m    559\u001b[0m \u001b[0;34m\u001b[0m\u001b[0m\n\u001b[1;32m    560\u001b[0m     rval = _populate_grad_dict(var_to_app_to_idx,\n\u001b[0;32m--> 561\u001b[0;31m                                grad_dict, wrt, cost_name)\n\u001b[0m\u001b[1;32m    562\u001b[0m \u001b[0;34m\u001b[0m\u001b[0m\n\u001b[1;32m    563\u001b[0m     \u001b[0;32mfor\u001b[0m \u001b[0mi\u001b[0m \u001b[0;32min\u001b[0m \u001b[0mxrange\u001b[0m\u001b[0;34m(\u001b[0m\u001b[0mlen\u001b[0m\u001b[0;34m(\u001b[0m\u001b[0mrval\u001b[0m\u001b[0;34m)\u001b[0m\u001b[0;34m)\u001b[0m\u001b[0;34m:\u001b[0m\u001b[0;34m\u001b[0m\u001b[0m\n",
      "\u001b[0;32m/usr/local/lib/python2.7/dist-packages/theano/gradient.pyc\u001b[0m in \u001b[0;36m_populate_grad_dict\u001b[0;34m(var_to_app_to_idx, grad_dict, wrt, cost_name)\u001b[0m\n\u001b[1;32m   1322\u001b[0m         \u001b[0;32mreturn\u001b[0m \u001b[0mgrad_dict\u001b[0m\u001b[0;34m[\u001b[0m\u001b[0mvar\u001b[0m\u001b[0;34m]\u001b[0m\u001b[0;34m\u001b[0m\u001b[0m\n\u001b[1;32m   1323\u001b[0m \u001b[0;34m\u001b[0m\u001b[0m\n\u001b[0;32m-> 1324\u001b[0;31m     \u001b[0mrval\u001b[0m \u001b[0;34m=\u001b[0m \u001b[0;34m[\u001b[0m\u001b[0maccess_grad_cache\u001b[0m\u001b[0;34m(\u001b[0m\u001b[0melem\u001b[0m\u001b[0;34m)\u001b[0m \u001b[0;32mfor\u001b[0m \u001b[0melem\u001b[0m \u001b[0;32min\u001b[0m \u001b[0mwrt\u001b[0m\u001b[0;34m]\u001b[0m\u001b[0;34m\u001b[0m\u001b[0m\n\u001b[0m\u001b[1;32m   1325\u001b[0m \u001b[0;34m\u001b[0m\u001b[0m\n\u001b[1;32m   1326\u001b[0m     \u001b[0;32mreturn\u001b[0m \u001b[0mrval\u001b[0m\u001b[0;34m\u001b[0m\u001b[0m\n",
      "\u001b[0;32m/usr/local/lib/python2.7/dist-packages/theano/gradient.pyc\u001b[0m in \u001b[0;36maccess_grad_cache\u001b[0;34m(var)\u001b[0m\n\u001b[1;32m   1277\u001b[0m                     \u001b[0;32mfor\u001b[0m \u001b[0midx\u001b[0m \u001b[0;32min\u001b[0m \u001b[0mnode_to_idx\u001b[0m\u001b[0;34m[\u001b[0m\u001b[0mnode\u001b[0m\u001b[0;34m]\u001b[0m\u001b[0;34m:\u001b[0m\u001b[0;34m\u001b[0m\u001b[0m\n\u001b[1;32m   1278\u001b[0m \u001b[0;34m\u001b[0m\u001b[0m\n\u001b[0;32m-> 1279\u001b[0;31m                         \u001b[0mterm\u001b[0m \u001b[0;34m=\u001b[0m \u001b[0maccess_term_cache\u001b[0m\u001b[0;34m(\u001b[0m\u001b[0mnode\u001b[0m\u001b[0;34m)\u001b[0m\u001b[0;34m[\u001b[0m\u001b[0midx\u001b[0m\u001b[0;34m]\u001b[0m\u001b[0;34m\u001b[0m\u001b[0m\n\u001b[0m\u001b[1;32m   1280\u001b[0m \u001b[0;34m\u001b[0m\u001b[0m\n\u001b[1;32m   1281\u001b[0m                         \u001b[0;32mif\u001b[0m \u001b[0;32mnot\u001b[0m \u001b[0misinstance\u001b[0m\u001b[0;34m(\u001b[0m\u001b[0mterm\u001b[0m\u001b[0;34m,\u001b[0m \u001b[0mgof\u001b[0m\u001b[0;34m.\u001b[0m\u001b[0mVariable\u001b[0m\u001b[0;34m)\u001b[0m\u001b[0;34m:\u001b[0m\u001b[0;34m\u001b[0m\u001b[0m\n",
      "\u001b[0;32m/usr/local/lib/python2.7/dist-packages/theano/gradient.pyc\u001b[0m in \u001b[0;36maccess_term_cache\u001b[0;34m(node)\u001b[0m\n\u001b[1;32m    971\u001b[0m             \u001b[0minputs\u001b[0m \u001b[0;34m=\u001b[0m \u001b[0mnode\u001b[0m\u001b[0;34m.\u001b[0m\u001b[0minputs\u001b[0m\u001b[0;34m\u001b[0m\u001b[0m\n\u001b[1;32m    972\u001b[0m \u001b[0;34m\u001b[0m\u001b[0m\n\u001b[0;32m--> 973\u001b[0;31m             \u001b[0moutput_grads\u001b[0m \u001b[0;34m=\u001b[0m \u001b[0;34m[\u001b[0m\u001b[0maccess_grad_cache\u001b[0m\u001b[0;34m(\u001b[0m\u001b[0mvar\u001b[0m\u001b[0;34m)\u001b[0m \u001b[0;32mfor\u001b[0m \u001b[0mvar\u001b[0m \u001b[0;32min\u001b[0m \u001b[0mnode\u001b[0m\u001b[0;34m.\u001b[0m\u001b[0moutputs\u001b[0m\u001b[0;34m]\u001b[0m\u001b[0;34m\u001b[0m\u001b[0m\n\u001b[0m\u001b[1;32m    974\u001b[0m \u001b[0;34m\u001b[0m\u001b[0m\n\u001b[1;32m    975\u001b[0m             \u001b[0;31m# list of bools indicating if each output is connected to the cost\u001b[0m\u001b[0;34m\u001b[0m\u001b[0;34m\u001b[0m\u001b[0m\n",
      "... last 2 frames repeated, from the frame below ...\n",
      "\u001b[0;32m/usr/local/lib/python2.7/dist-packages/theano/gradient.pyc\u001b[0m in \u001b[0;36maccess_grad_cache\u001b[0;34m(var)\u001b[0m\n\u001b[1;32m   1277\u001b[0m                     \u001b[0;32mfor\u001b[0m \u001b[0midx\u001b[0m \u001b[0;32min\u001b[0m \u001b[0mnode_to_idx\u001b[0m\u001b[0;34m[\u001b[0m\u001b[0mnode\u001b[0m\u001b[0;34m]\u001b[0m\u001b[0;34m:\u001b[0m\u001b[0;34m\u001b[0m\u001b[0m\n\u001b[1;32m   1278\u001b[0m \u001b[0;34m\u001b[0m\u001b[0m\n\u001b[0;32m-> 1279\u001b[0;31m                         \u001b[0mterm\u001b[0m \u001b[0;34m=\u001b[0m \u001b[0maccess_term_cache\u001b[0m\u001b[0;34m(\u001b[0m\u001b[0mnode\u001b[0m\u001b[0;34m)\u001b[0m\u001b[0;34m[\u001b[0m\u001b[0midx\u001b[0m\u001b[0;34m]\u001b[0m\u001b[0;34m\u001b[0m\u001b[0m\n\u001b[0m\u001b[1;32m   1280\u001b[0m \u001b[0;34m\u001b[0m\u001b[0m\n\u001b[1;32m   1281\u001b[0m                         \u001b[0;32mif\u001b[0m \u001b[0;32mnot\u001b[0m \u001b[0misinstance\u001b[0m\u001b[0;34m(\u001b[0m\u001b[0mterm\u001b[0m\u001b[0;34m,\u001b[0m \u001b[0mgof\u001b[0m\u001b[0;34m.\u001b[0m\u001b[0mVariable\u001b[0m\u001b[0;34m)\u001b[0m\u001b[0;34m:\u001b[0m\u001b[0;34m\u001b[0m\u001b[0m\n",
      "\u001b[0;31mRuntimeError\u001b[0m: maximum recursion depth exceeded while calling a Python object"
     ]
    }
   ],
   "source": [
    "from HighwayNetworks import test_Highway\n",
    "from project_nn import load_data\n",
    "import theano.tensor as T\n",
    "\n",
    "learning_rates = [0.05, 0.01, 0.005]\n",
    "rhos = [0.5, 0.9]\n",
    "activations = [T.nnet.nnet.relu,T.tanh]\n",
    "# biases = [-2,-5,-8]\n",
    "batch_sizes = [100,250,500]\n",
    "hw_layers = [99]\n",
    "bias = -2;\n",
    "\n",
    "data = load_data('mnist.pkl.gz')\n",
    "\n",
    "for layers_H in hw_layers:\n",
    "    for act in activations:\n",
    "        for batch_size in batch_sizes:\n",
    "            for lr in learning_rates:\n",
    "                for rho in rhos: \n",
    "                    test_Highway(datasets=data,learning_rate=lr,rho = rho, n_epochs=50, n_hidden=50, n_hiddenLayers=1,\n",
    "                                 n_highwayLayers = layers_H, activation_highway = act, b_T = bias,\n",
    "                                 batch_size=batch_size,verbose=False)\n",
    "                    print('Highway layers = '+str(layers_H)+' ,batch_size = '+str(batch_size)+\n",
    "                          ' ,learning rate = '+str(lr)+' ,rho = '+str(rho))"
   ]
  },
  {
   "cell_type": "code",
   "execution_count": null,
   "metadata": {
    "collapsed": true
   },
   "outputs": [],
   "source": []
  }
 ],
 "metadata": {
  "kernelspec": {
   "display_name": "Python 2",
   "language": "python",
   "name": "python2"
  },
  "language_info": {
   "codemirror_mode": {
    "name": "ipython",
    "version": 2
   },
   "file_extension": ".py",
   "mimetype": "text/x-python",
   "name": "python",
   "nbconvert_exporter": "python",
   "pygments_lexer": "ipython2",
   "version": "2.7.12"
  }
 },
 "nbformat": 4,
 "nbformat_minor": 1
}
