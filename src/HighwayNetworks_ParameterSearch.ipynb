{
 "cells": [
  {
   "cell_type": "markdown",
   "metadata": {},
   "source": [
    "You are not supposed to do that intensive hyper parameter search, and without a powerful server (and enough time) you should not try that either. Reproducing the figure does not mean you have to exactly reproduce the results, since you have limited amount of computational resources available.\n",
    " \n",
    "For this particular case, you can take few trials to find parameter settings for each depth, then experiment with plain/highway networks. I would recommend you to do something like:\n",
    " \n",
    "(1) Use 10% dataset for debugging and doing parameter searching in a coarser level., e.g. find a proper range for batch size/learning rate.\n",
    " \n",
    "(2) Use less epochs when doing hyper parameter search; in this case, you can find that the performances for plain/highway networks show significant difference within 50 epochs.\n",
    " \n",
    "(3) If you have your laptop ready for Theano (CPU is also ok), run simpler experiments on your laptop, e.g., smaller model/dataset, easier tasks, etc. You can start running your script before going to sleep, and check the result when you wake up.\n",
    " \n",
    "From my personal experience, these tricks can be applied to most of the tasks."
   ]
  },
  {
   "cell_type": "code",
   "execution_count": null,
   "metadata": {
    "collapsed": true
   },
   "outputs": [],
   "source": [
    "from HighwayNetworks import test_Highway\n",
    "import theano.tensor as T\n",
    "\n",
    "learning_rates = [0.1, 0.05, 0.01, 0.005]\n",
    "rhos = [0.5, 0.9, 0.99]\n",
    "activations = [T.nnet.nnet.relu,T.tanh]\n",
    "# biases = [-2,-5,-8]\n",
    "batch_sizes = [20, 50,100,500]\n",
    "hw_layers = [9,19,49,99]\n",
    "bias = -2;\n",
    "\n",
    "for layers_H in hw_layers:\n",
    "    for act in activations:\n",
    "        for batch_size in batch_sizes:\n",
    "            for lr in learning_rates:\n",
    "                for rho in rhos: \n",
    "                    test_Highway(learning_rate=lr,rho = rho, n_epochs=50, n_hidden=50, n_hiddenLayers=1,\n",
    "                                 n_highwayLayers = layers_H, activation_highway = act, b_T = bias,\n",
    "                                 dataset='mnist.pkl.gz', batch_size=batch_size,verbose=False)"
   ]
  }
 ],
 "metadata": {
  "kernelspec": {
   "display_name": "Python 2",
   "language": "python",
   "name": "python2"
  },
  "language_info": {
   "codemirror_mode": {
    "name": "ipython",
    "version": 2
   },
   "file_extension": ".py",
   "mimetype": "text/x-python",
   "name": "python",
   "nbconvert_exporter": "python",
   "pygments_lexer": "ipython2",
   "version": "2.7.12"
  }
 },
 "nbformat": 4,
 "nbformat_minor": 1
}
