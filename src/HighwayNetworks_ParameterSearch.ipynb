{
 "cells": [
  {
   "cell_type": "markdown",
   "metadata": {},
   "source": [
    "You are not supposed to do that intensive hyper parameter search, and without a powerful server (and enough time) you should not try that either. Reproducing the figure does not mean you have to exactly reproduce the results, since you have limited amount of computational resources available.\n",
    " \n",
    "For this particular case, you can take few trials to find parameter settings for each depth, then experiment with plain/highway networks. I would recommend you to do something like:\n",
    " \n",
    "(1) Use 10% dataset for debugging and doing parameter searching in a coarser level., e.g. find a proper range for batch size/learning rate.\n",
    " \n",
    "(2) Use less epochs when doing hyper parameter search; in this case, you can find that the performances for plain/highway networks show significant difference within 50 epochs.\n",
    " \n",
    "(3) If you have your laptop ready for Theano (CPU is also ok), run simpler experiments on your laptop, e.g., smaller model/dataset, easier tasks, etc. You can start running your script before going to sleep, and check the result when you wake up.\n",
    " \n",
    "From my personal experience, these tricks can be applied to most of the tasks."
   ]
  },
  {
   "cell_type": "code",
   "execution_count": 2,
   "metadata": {
    "collapsed": false
   },
   "outputs": [
    {
     "name": "stdout",
     "output_type": "stream",
     "text": [
      "... loading data\n",
      "... building the model\n",
      "epoch 1, minibatch 2500/2500, validation error 65.580000 %\n",
      "     epoch 1, minibatch 2500/2500, test error of best model 66.960000 %\n",
      "epoch 2, minibatch 2500/2500, validation error 53.130000 %\n",
      "     epoch 2, minibatch 2500/2500, test error of best model 52.860000 %\n",
      "epoch 4, minibatch 2500/2500, validation error 41.040000 %\n",
      "     epoch 4, minibatch 2500/2500, test error of best model 41.930000 %\n",
      "epoch 6, minibatch 2500/2500, validation error 24.700000 %\n",
      "     epoch 6, minibatch 2500/2500, test error of best model 26.050000 %\n",
      "epoch 8, minibatch 2500/2500, validation error 19.610000 %\n",
      "     epoch 8, minibatch 2500/2500, test error of best model 20.720000 %\n"
     ]
    },
    {
     "ename": "KeyboardInterrupt",
     "evalue": "",
     "output_type": "error",
     "traceback": [
      "\u001b[0;31m---------------------------------------------------------------------------\u001b[0m",
      "\u001b[0;31mKeyboardInterrupt\u001b[0m                         Traceback (most recent call last)",
      "\u001b[0;32m<ipython-input-2-6c9d74fa0a97>\u001b[0m in \u001b[0;36m<module>\u001b[0;34m()\u001b[0m\n\u001b[1;32m     20\u001b[0m                     test_Highway(datasets=data,learning_rate=lr,rho = rho, n_epochs=50, n_hidden=50, n_hiddenLayers=1,\n\u001b[1;32m     21\u001b[0m                                  \u001b[0mn_highwayLayers\u001b[0m \u001b[0;34m=\u001b[0m \u001b[0mlayers_H\u001b[0m\u001b[0;34m,\u001b[0m \u001b[0mactivation_highway\u001b[0m \u001b[0;34m=\u001b[0m \u001b[0mact\u001b[0m\u001b[0;34m,\u001b[0m \u001b[0mb_T\u001b[0m \u001b[0;34m=\u001b[0m \u001b[0mbias\u001b[0m\u001b[0;34m,\u001b[0m\u001b[0;34m\u001b[0m\u001b[0m\n\u001b[0;32m---> 22\u001b[0;31m                                  batch_size=batch_size,verbose=True)\n\u001b[0m",
      "\u001b[0;32m/home/marek/Desktop/School/Columbia/NNDL-Project/src/HighwayNetworks.py\u001b[0m in \u001b[0;36mtest_Highway\u001b[0;34m(datasets, learning_rate, rho, n_epochs, n_hidden, n_hiddenLayers, n_highwayLayers, activation_hidden, activation_highway, b_T, L1_reg, L2_reg, batch_size, verbose)\u001b[0m\n\u001b[1;32m    149\u001b[0m              \u001b[0mactivation_hw\u001b[0m \u001b[0;34m=\u001b[0m \u001b[0mactivation_highway\u001b[0m\u001b[0;34m,\u001b[0m \u001b[0mbatch_size\u001b[0m \u001b[0;34m=\u001b[0m \u001b[0mbatch_size\u001b[0m\u001b[0;34m,\u001b[0m \u001b[0mn_train_batches\u001b[0m \u001b[0;34m=\u001b[0m \u001b[0mn_train_batches\u001b[0m\u001b[0;34m,\u001b[0m\u001b[0;34m\u001b[0m\u001b[0m\n\u001b[1;32m    150\u001b[0m              \u001b[0mn_valid_batches\u001b[0m \u001b[0;34m=\u001b[0m \u001b[0mn_valid_batches\u001b[0m\u001b[0;34m,\u001b[0m \u001b[0mn_test_batches\u001b[0m\u001b[0;34m=\u001b[0m\u001b[0mn_test_batches\u001b[0m\u001b[0;34m,\u001b[0m \u001b[0mn_epochs\u001b[0m \u001b[0;34m=\u001b[0m \u001b[0mn_epochs\u001b[0m\u001b[0;34m,\u001b[0m \u001b[0mL1_reg\u001b[0m \u001b[0;34m=\u001b[0m \u001b[0mL1_reg\u001b[0m\u001b[0;34m,\u001b[0m\u001b[0;34m\u001b[0m\u001b[0m\n\u001b[0;32m--> 151\u001b[0;31m              L2_reg = L2_reg, verbose =verbose)\n\u001b[0m",
      "\u001b[0;32m/home/marek/Desktop/School/Columbia/NNDL-Project/src/project_nn.pyc\u001b[0m in \u001b[0;36mtrain_nn\u001b[0;34m(train_model, validate_model, test_model, n_hidden, n_hiddenLayers, n_highwayLayers, lr, rho, activation_hd, activation_hw, batch_size, n_train_batches, n_valid_batches, n_test_batches, n_epochs, L1_reg, L2_reg, verbose)\u001b[0m\n\u001b[1;32m    562\u001b[0m             \u001b[0;31m#if (iter % 100 == 0) and verbose:\u001b[0m\u001b[0;34m\u001b[0m\u001b[0;34m\u001b[0m\u001b[0m\n\u001b[1;32m    563\u001b[0m             \u001b[0;31m#    print('training @ iter = ', iter)\u001b[0m\u001b[0;34m\u001b[0m\u001b[0;34m\u001b[0m\u001b[0m\n\u001b[0;32m--> 564\u001b[0;31m             \u001b[0mcost_ij\u001b[0m \u001b[0;34m=\u001b[0m \u001b[0mtrain_model\u001b[0m\u001b[0;34m(\u001b[0m\u001b[0mminibatch_index\u001b[0m\u001b[0;34m)\u001b[0m\u001b[0;34m\u001b[0m\u001b[0m\n\u001b[0m\u001b[1;32m    565\u001b[0m \u001b[0;34m\u001b[0m\u001b[0m\n\u001b[1;32m    566\u001b[0m             \u001b[0mepoch_cross_entropy\u001b[0m \u001b[0;34m=\u001b[0m \u001b[0mepoch_cross_entropy\u001b[0m \u001b[0;34m+\u001b[0m \u001b[0mcost_ij\u001b[0m\u001b[0;34m\u001b[0m\u001b[0m\n",
      "\u001b[0;32m/usr/local/lib/python2.7/dist-packages/theano/compile/function_module.pyc\u001b[0m in \u001b[0;36m__call__\u001b[0;34m(self, *args, **kwargs)\u001b[0m\n\u001b[1;32m    857\u001b[0m         \u001b[0mt0_fn\u001b[0m \u001b[0;34m=\u001b[0m \u001b[0mtime\u001b[0m\u001b[0;34m.\u001b[0m\u001b[0mtime\u001b[0m\u001b[0;34m(\u001b[0m\u001b[0;34m)\u001b[0m\u001b[0;34m\u001b[0m\u001b[0m\n\u001b[1;32m    858\u001b[0m         \u001b[0;32mtry\u001b[0m\u001b[0;34m:\u001b[0m\u001b[0;34m\u001b[0m\u001b[0m\n\u001b[0;32m--> 859\u001b[0;31m             \u001b[0moutputs\u001b[0m \u001b[0;34m=\u001b[0m \u001b[0mself\u001b[0m\u001b[0;34m.\u001b[0m\u001b[0mfn\u001b[0m\u001b[0;34m(\u001b[0m\u001b[0;34m)\u001b[0m\u001b[0;34m\u001b[0m\u001b[0m\n\u001b[0m\u001b[1;32m    860\u001b[0m         \u001b[0;32mexcept\u001b[0m \u001b[0mException\u001b[0m\u001b[0;34m:\u001b[0m\u001b[0;34m\u001b[0m\u001b[0m\n\u001b[1;32m    861\u001b[0m             \u001b[0;32mif\u001b[0m \u001b[0mhasattr\u001b[0m\u001b[0;34m(\u001b[0m\u001b[0mself\u001b[0m\u001b[0;34m.\u001b[0m\u001b[0mfn\u001b[0m\u001b[0;34m,\u001b[0m \u001b[0;34m'position_of_error'\u001b[0m\u001b[0;34m)\u001b[0m\u001b[0;34m:\u001b[0m\u001b[0;34m\u001b[0m\u001b[0m\n",
      "\u001b[0;31mKeyboardInterrupt\u001b[0m: "
     ]
    }
   ],
   "source": [
    "from HighwayNetworks import test_Highway\n",
    "from project_nn import load_data\n",
    "import theano.tensor as T\n",
    "\n",
    "learning_rates = [0.1, 0.05, 0.01, 0.005]\n",
    "rhos = [0.5, 0.9, 0.99]\n",
    "activations = [T.nnet.nnet.relu,T.tanh]\n",
    "# biases = [-2,-5,-8]\n",
    "batch_sizes = [20, 50,100,500]\n",
    "hw_layers = [9,19,49,99]\n",
    "bias = -2;\n",
    "\n",
    "data = load_data('mnist.pkl.gz')\n",
    "\n",
    "for layers_H in hw_layers:\n",
    "    for act in activations:\n",
    "        for batch_size in batch_sizes:\n",
    "            for lr in learning_rates:\n",
    "                for rho in rhos: \n",
    "                    test_Highway(datasets=data,learning_rate=lr,rho = rho, n_epochs=50, n_hidden=50, n_hiddenLayers=1,\n",
    "                                 n_highwayLayers = layers_H, activation_highway = act, b_T = bias,\n",
    "                                 batch_size=batch_size,verbose=True)"
   ]
  },
  {
   "cell_type": "code",
   "execution_count": null,
   "metadata": {
    "collapsed": true
   },
   "outputs": [],
   "source": []
  }
 ],
 "metadata": {
  "kernelspec": {
   "display_name": "Python 2",
   "language": "python",
   "name": "python2"
  },
  "language_info": {
   "codemirror_mode": {
    "name": "ipython",
    "version": 2
   },
   "file_extension": ".py",
   "mimetype": "text/x-python",
   "name": "python",
   "nbconvert_exporter": "python",
   "pygments_lexer": "ipython2",
   "version": "2.7.12"
  }
 },
 "nbformat": 4,
 "nbformat_minor": 1
}
